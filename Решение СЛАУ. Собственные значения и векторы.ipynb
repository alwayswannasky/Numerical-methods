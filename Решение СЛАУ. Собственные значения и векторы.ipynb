{
 "cells": [
  {
   "cell_type": "code",
   "execution_count": 3,
   "id": "59970a20-a3c7-4041-b33c-b568a31b3044",
   "metadata": {},
   "outputs": [],
   "source": [
    "import numpy as np"
   ]
  },
  {
   "cell_type": "code",
   "execution_count": 4,
   "id": "075e8a48-1187-4db7-af4e-ce833d342ca2",
   "metadata": {},
   "outputs": [],
   "source": [
    "def print_matrix():\n",
    "    for i in a:\n",
    "        print(i)\n",
    "    print('\\n')\n",
    "    print(b)"
   ]
  },
  {
   "cell_type": "markdown",
   "id": "13a93211-f561-471e-a070-ea922118a151",
   "metadata": {
    "tags": []
   },
   "source": [
    "# 1) Метод Гаусса"
   ]
  },
  {
   "cell_type": "code",
   "execution_count": 325,
   "id": "25543b65",
   "metadata": {},
   "outputs": [],
   "source": [
    "NN = 16\n",
    "j = 1.5 + 0.1 * NN\n",
    "k = j\n",
    "l = k - 0.1\n",
    "m = 1\n",
    "n = 5\n",
    "\n",
    "a = np.array([[j * m, 0.5 * j, 0, 0.2 * l, 0], \n",
    "              [0.5 * j, j, 0.3 * j, 0, 0.1 * l], \n",
    "              [0, 0.3 * j, 10, -0.3 * j, 0.5 *l], \n",
    "              [0.2 * k, 0, -0.3 * j, j, -0.1 * j], \n",
    "              [0, 0.1 * k, 0.5 * k, -0.1 * j, j * m]])\n",
    "b = np.array([-j + 0.05 * j * j, \n",
    "              -0.8 * j + 0.1 * j * j - 0.02 * l * j, \n",
    "              -10 + 0.03 * j * j - 0.1 * l *j, \n",
    "              -0.2 * k + 0.3 * j + 0.02 * j * j, \n",
    "              0.01 * k * j - 0.5 * k - 0.2 * j * j])\n",
    "linalg_solve = np.linalg.solve(a, b)"
   ]
  },
  {
   "cell_type": "markdown",
   "id": "e7df5695-2c8f-4179-85bb-8c9cb805fe97",
   "metadata": {},
   "source": [
    "Прямой ход"
   ]
  },
  {
   "cell_type": "code",
   "execution_count": 297,
   "id": "7fdb25e8-fa7a-48e3-a49a-ab8b4bb5cba5",
   "metadata": {},
   "outputs": [],
   "source": [
    "for k in range(n - 1):\n",
    "    for i in range(k + 1, n):\n",
    "        r = a[i][k] / a[k][k]\n",
    "        for j in range(k, n):\n",
    "            a[i][j] = a[i][j] - (r * a[k][j])\n",
    "        b[i] = b[i] - (r * b[k])"
   ]
  },
  {
   "cell_type": "code",
   "execution_count": 298,
   "id": "76128e62-9fb7-4629-aade-12708d49529a",
   "metadata": {},
   "outputs": [
    {
     "name": "stdout",
     "output_type": "stream",
     "text": [
      "3.1    1.55    0.0    0.6    0.0    \n",
      "\n",
      "0.0    2.33    0.93    -0.3    0.3    \n",
      "\n",
      "0.0    -0.0    9.63    -0.81    1.38    \n",
      "\n",
      "0.0    0.0    0.0    2.87    -0.15    \n",
      "\n",
      "0.0    -0.0    0.0    0.0    2.85    \n",
      "\n"
     ]
    },
    {
     "data": {
      "text/plain": [
       "array([ -2.6195    ,  -0.39525   , -10.4836    ,   0.09577416,\n",
       "        -1.76547452])"
      ]
     },
     "execution_count": 298,
     "metadata": {},
     "output_type": "execute_result"
    }
   ],
   "source": [
    "for i in range(n):\n",
    "    for j in range(n):\n",
    "        print(float('{:.2f}'.format(a[i][j])), end='    ')\n",
    "    print('\\n')\n",
    "b"
   ]
  },
  {
   "cell_type": "markdown",
   "id": "b43852ab-aea7-48ee-bfb9-3e361e3c36c4",
   "metadata": {},
   "source": [
    "Обратный ход"
   ]
  },
  {
   "cell_type": "code",
   "execution_count": 299,
   "id": "83ed381f-919f-4de6-8afb-620dde05998a",
   "metadata": {},
   "outputs": [],
   "source": [
    "array_1 = [1] * 5 # x\n",
    "for k in range(n - 1, -1, -1):\n",
    "    array_1[k] = ((b[k] - sum([a[k][j] * array_1[j] for j in range(k + 1, n)])) / a[k][k])"
   ]
  },
  {
   "cell_type": "code",
   "execution_count": 300,
   "id": "3ac11950-a7e8-43cd-905b-1ce0427ec4e9",
   "metadata": {},
   "outputs": [
    {
     "name": "stdout",
     "output_type": "stream",
     "text": [
      "-1.0  0.31  -1.0  0.0  -0.62  \n",
      "\n",
      "-1.0  0.31  -1.0  0.0  -0.62  "
     ]
    }
   ],
   "source": [
    "for i in range(n):\n",
    "    print(float('{:.10f}'.format(linalg_solve[i])), end='  ')\n",
    "print('\\n')\n",
    "for i in range(n):\n",
    "    print(float('{:.10f}'.format(array_1[i])), end='  ')"
   ]
  },
  {
   "cell_type": "markdown",
   "id": "954e819f",
   "metadata": {},
   "source": [
    "Определитель матрицы"
   ]
  },
  {
   "cell_type": "code",
   "execution_count": 301,
   "id": "b81212df",
   "metadata": {},
   "outputs": [
    {
     "name": "stdout",
     "output_type": "stream",
     "text": [
      "567.5496936075\n"
     ]
    }
   ],
   "source": [
    "det = 1\n",
    "for i in range(n):\n",
    "    for j in range(n):\n",
    "        if i == j:\n",
    "            det *= a[i][j]\n",
    "print(det)"
   ]
  },
  {
   "cell_type": "markdown",
   "id": "5d2b7a06-062c-434f-8d91-817b431b4288",
   "metadata": {},
   "source": [
    "# 2) Метод Жордана–Гаусса"
   ]
  },
  {
   "cell_type": "code",
   "execution_count": 75,
   "id": "69cf89d2-aa1f-42bc-8cdb-99e08c3e9b95",
   "metadata": {},
   "outputs": [],
   "source": [
    "NN = 16\n",
    "j = 1.5 + 0.1 * NN\n",
    "k = j\n",
    "l = k - 0.1\n",
    "m = 1\n",
    "n = 5\n",
    "\n",
    "a = np.array([[j * m, 0.5 * j, 0, 0.2 * l, 0], \n",
    "              [0.5 * j, j, 0.3 * j, 0, 0.1 * l], \n",
    "              [0, 0.3 * j, 10, -0.3 * j, 0.5 *l], \n",
    "              [0.2 * k, 0, -0.3 * j, j, -0.1 * j], \n",
    "              [0, 0.1 * k, 0.5 * k, -0.1 * j, j * m]])\n",
    "b = np.array([-j + 0.05 * j * j, \n",
    "              -0.8 * j + 0.1 * j * j - 0.02 * l * j, \n",
    "              -10 + 0.03 * j * j - 0.1 * l *j, \n",
    "              -0.2 * k + 0.3 * j + 0.02 * j * j, \n",
    "              0.01 * k * j - 0.5 * k - 0.2 * j * j])\n",
    "linalg_solve = np.linalg.solve(a, b)"
   ]
  },
  {
   "cell_type": "code",
   "execution_count": 76,
   "id": "da28beff",
   "metadata": {},
   "outputs": [
    {
     "name": "stdout",
     "output_type": "stream",
     "text": [
      "[3.1  1.55 0.   0.6  0.  ]\n",
      "[1.55 3.1  0.93 0.   0.3 ]\n",
      "[ 0.    0.93 10.   -0.93  1.5 ]\n",
      "[ 0.62  0.   -0.93  3.1  -0.31]\n",
      "[ 0.    0.31  1.55 -0.31  3.1 ]\n",
      "\n",
      "\n",
      "[ -2.6195  -1.705  -10.6417   0.5022  -3.3759]\n"
     ]
    }
   ],
   "source": [
    "print_matrix()"
   ]
  },
  {
   "cell_type": "code",
   "execution_count": 77,
   "id": "9912cfa8",
   "metadata": {},
   "outputs": [],
   "source": [
    "for k in range(n):\n",
    "    for i in range(n):\n",
    "        if i != k:\n",
    "            r = a[i][k] / a[k][k]\n",
    "            b[i] = b[i] - (r * b[k])\n",
    "            for j in range(k, n):\n",
    "                a[i][j] = a[i][j] - (r * a[k][j])"
   ]
  },
  {
   "cell_type": "code",
   "execution_count": 78,
   "id": "a9a16fa0",
   "metadata": {},
   "outputs": [],
   "source": [
    "array_2 = [1] * 5 # x\n",
    "for i in range(n):\n",
    "    array_2[i] = (b[i]/a[i][i])"
   ]
  },
  {
   "cell_type": "code",
   "execution_count": 79,
   "id": "a5d13858",
   "metadata": {},
   "outputs": [
    {
     "name": "stdout",
     "output_type": "stream",
     "text": [
      "-1.0  0.31  -1.0  0.0  -0.62  \n",
      "\n",
      "-1.0  0.31  -1.0  0.0  -0.62  "
     ]
    }
   ],
   "source": [
    "for i in range(n):\n",
    "    print(float('{:.5f}'.format(linalg_solve[i])), end='  ')\n",
    "print('\\n')\n",
    "for i in range(n):\n",
    "    print(float('{:.5f}'.format(array_2[i])), end='  ')"
   ]
  },
  {
   "cell_type": "markdown",
   "id": "3e618cce",
   "metadata": {},
   "source": [
    "# 3) Метод LU–разложения"
   ]
  },
  {
   "cell_type": "code",
   "execution_count": 53,
   "id": "d942d49d",
   "metadata": {},
   "outputs": [],
   "source": [
    "NN = 16\n",
    "j = 1.5 + 0.1 * NN\n",
    "k = j\n",
    "l = k - 0.1\n",
    "m = 1\n",
    "n = 5\n",
    "\n",
    "a = np.array([[j * m, 0.5 * j, 0, 0.2 * l, 0], \n",
    "              [0.5 * j, j, 0.3 * j, 0, 0.1 * l], \n",
    "              [0, 0.3 * j, 10, -0.3 * j, 0.5 *l], \n",
    "              [0.2 * k, 0, -0.3 * j, j, -0.1 * j], \n",
    "              [0, 0.1 * k, 0.5 * k, -0.1 * j, j * m]])\n",
    "b = np.array([-j + 0.05 * j * j, \n",
    "              -0.8 * j + 0.1 * j * j - 0.02 * l * j, \n",
    "              -10 + 0.03 * j * j - 0.1 * l *j, \n",
    "              -0.2 * k + 0.3 * j + 0.02 * j * j, \n",
    "              0.01 * k * j - 0.5 * k - 0.2 * j * j])\n",
    "linalg_solve = np.linalg.solve(a, b)"
   ]
  },
  {
   "cell_type": "code",
   "execution_count": 54,
   "id": "527ef376",
   "metadata": {},
   "outputs": [
    {
     "name": "stdout",
     "output_type": "stream",
     "text": [
      "[3.1  1.55 0.   0.6  0.  ]\n",
      "[1.55 3.1  0.93 0.   0.3 ]\n",
      "[ 0.    0.93 10.   -0.93  1.5 ]\n",
      "[ 0.62  0.   -0.93  3.1  -0.31]\n",
      "[ 0.    0.31  1.55 -0.31  3.1 ]\n",
      "\n",
      "\n",
      "[ -2.6195  -1.705  -10.6417   0.5022  -3.3759]\n"
     ]
    }
   ],
   "source": [
    "print_matrix()"
   ]
  },
  {
   "cell_type": "code",
   "execution_count": 55,
   "id": "15c4a969-d16a-413a-a259-fac8a4b7581e",
   "metadata": {},
   "outputs": [],
   "source": [
    "L = np.eye(5)\n",
    "U = np.zeros((5, 5))"
   ]
  },
  {
   "cell_type": "code",
   "execution_count": 56,
   "id": "c6ccb042",
   "metadata": {},
   "outputs": [],
   "source": [
    "for i in range(n):\n",
    "    for j in range(n):\n",
    "        tmp = 0.0\n",
    "        # u\n",
    "        if i <= j:\n",
    "            U[i][j] = a[i][j] - sum([L[i][k]*U[k][j] for k in range(i)])\n",
    "        # l\n",
    "        else:\n",
    "            L[i][j] = (a[i][j] - sum([L[i][k]*U[k][j] for k in range(j)]))/U[j][j]"
   ]
  },
  {
   "cell_type": "code",
   "execution_count": 57,
   "id": "b25b2908",
   "metadata": {},
   "outputs": [],
   "source": [
    "array_3 = [1] * 5 # y\n",
    "for k in range(n):\n",
    "    array_3[k] = b[k] - sum([L[k][j] * array_3[j] for j in range(k)])"
   ]
  },
  {
   "cell_type": "code",
   "execution_count": 58,
   "id": "a8faa962",
   "metadata": {},
   "outputs": [],
   "source": [
    "array_3_1 = [1] * 5 # x\n",
    "for k in range(n - 1, -1, -1):\n",
    "    array_3_1[k] = (array_3[k] - sum([U[k][j] * array_3_1[j] for j in range(k + 1, n)]))/U[k][k]"
   ]
  },
  {
   "cell_type": "code",
   "execution_count": 59,
   "id": "d7da24ae",
   "metadata": {},
   "outputs": [
    {
     "name": "stdout",
     "output_type": "stream",
     "text": [
      "-1.0  0.31  -1.0  0.0  -0.62  \n",
      "\n",
      "-1.0  0.31  -1.0  -0.0  -0.62  "
     ]
    }
   ],
   "source": [
    "for i in range(n):\n",
    "    print(float('{:.5f}'.format(linalg_solve[i])), end='  ')\n",
    "print('\\n')\n",
    "for i in range(n):\n",
    "    print(float('{:.5f}'.format(array_3_1[i])), end='  ')"
   ]
  },
  {
   "cell_type": "markdown",
   "id": "6b529d20",
   "metadata": {},
   "source": [
    "Определитель матрицы"
   ]
  },
  {
   "cell_type": "code",
   "execution_count": 60,
   "id": "313b3493",
   "metadata": {},
   "outputs": [
    {
     "name": "stdout",
     "output_type": "stream",
     "text": [
      "567.5496936075001\n"
     ]
    }
   ],
   "source": [
    "det = 1\n",
    "for i in range(n):\n",
    "    for j in range(n):\n",
    "        if i == j:\n",
    "            det *= U[i][j]\n",
    "print(det)"
   ]
  },
  {
   "cell_type": "markdown",
   "id": "c82637ad",
   "metadata": {},
   "source": [
    "# 4) Метод квадратных корней (схема Холецкого)"
   ]
  },
  {
   "cell_type": "code",
   "execution_count": 234,
   "id": "4a8d422b",
   "metadata": {},
   "outputs": [],
   "source": [
    "NN = 16\n",
    "j = 1.5 + 0.1 * NN\n",
    "k = l = NN\n",
    "m = 1\n",
    "n = 5\n",
    "    \n",
    "a = np.array([[j * m, 0.5 * j, 0, 0.2 * l, 0], \n",
    "                  [0.5 * j, j, 0.3 * j, 0, 0.1 * l], \n",
    "                  [0, 0.3 * j, 10, -0.3 * j, 0.5 *l], \n",
    "                  [0.2 * k, 0, -0.3 * j, j, -0.1 * j], \n",
    "                  [0, 0.1 * k, 0.5 * k, -0.1 * j, j * m]])\n",
    "b = np.array([-j + 0.05 * j * j, \n",
    "                  -0.8 * j + 0.1 * j * j - 0.02 * l * j, \n",
    "                  -10 + 0.03 * j * j - 0.1 * l *j, \n",
    "                  -0.2 * k + 0.3 * j + 0.02 * j * j, \n",
    "                  0.01 * k * j - 0.5 * k - 0.2 * j * j])\n",
    "linalg_solve = np.linalg.solve(a, b)"
   ]
  },
  {
   "cell_type": "code",
   "execution_count": 235,
   "id": "9a9cb670",
   "metadata": {},
   "outputs": [
    {
     "name": "stdout",
     "output_type": "stream",
     "text": [
      "[3.1  1.55 0.   3.2  0.  ]\n",
      "[1.55 3.1  0.93 0.   1.6 ]\n",
      "[ 0.    0.93 10.   -0.93  8.  ]\n",
      "[ 3.2   0.   -0.93  3.1  -0.31]\n",
      "[ 0.    1.6   8.   -0.31  3.1 ]\n",
      "\n",
      "\n",
      "[ -2.6195  -2.511  -14.6717  -2.0778  -9.426 ]\n"
     ]
    }
   ],
   "source": [
    "print_matrix()"
   ]
  },
  {
   "cell_type": "code",
   "execution_count": 236,
   "id": "eb03ebf2-c565-4d2c-823a-626cff9b9b51",
   "metadata": {},
   "outputs": [],
   "source": [
    "import math"
   ]
  },
  {
   "cell_type": "code",
   "execution_count": 237,
   "id": "b7a02271-aec0-4063-897c-29f871ea30e6",
   "metadata": {},
   "outputs": [],
   "source": [
    "d = np.eye(5)\n",
    "s = np.zeros((5, 5))"
   ]
  },
  {
   "cell_type": "code",
   "execution_count": 238,
   "id": "e31ae069",
   "metadata": {},
   "outputs": [],
   "source": [
    "for i in range(n):\n",
    "    d[i][i] = np.sign(a[i][i]-sum([s[p][i]*s[p][i]*d[p][p] for p in range(i)]))\n",
    "    s[i][i] = np.sqrt(np.abs(a[i][i] - sum([s[p][i]*s[p][i]*d[p][p] for p in range(i)])))\n",
    "    for j in range(i, n):\n",
    "        s[i][j] = (a[i][j]-sum([s[p][i]*s[p][j]*d[p][p] for p in range(i)]))/(d[i][i]*s[i][i])"
   ]
  },
  {
   "cell_type": "code",
   "execution_count": 239,
   "id": "0c304498",
   "metadata": {},
   "outputs": [],
   "source": [
    "st = s.transpose().dot(d)"
   ]
  },
  {
   "cell_type": "code",
   "execution_count": 240,
   "id": "0b88ec93",
   "metadata": {},
   "outputs": [],
   "source": [
    "array_4 = [1] * 5 # y\n",
    "for k in range(n):\n",
    "    array_4[k] = (b[k] - sum([st[k][j] * array_4[j] for j in range(k)]))/st[k][k]"
   ]
  },
  {
   "cell_type": "code",
   "execution_count": 241,
   "id": "77b95def",
   "metadata": {},
   "outputs": [],
   "source": [
    "array_4_1 = [1] * 5 # x\n",
    "for k in range(n - 1, -1, -1):\n",
    "    array_4_1[k] = (array_4[k] - sum([s[k][j] * array_4_1[j] for j in range(k + 1, n)]))/s[k][k]"
   ]
  },
  {
   "cell_type": "code",
   "execution_count": 242,
   "id": "b781e91a",
   "metadata": {},
   "outputs": [
    {
     "name": "stdout",
     "output_type": "stream",
     "text": [
      "-1.0  0.31  -1.0  0.0  -0.62  \n",
      "\n",
      "-1.0  0.31  -1.0  0.0  -0.62  "
     ]
    }
   ],
   "source": [
    "for i in range(n):\n",
    "    print(float('{:.5f}'.format(linalg_solve[i])), end='  ')\n",
    "print('\\n')\n",
    "for i in range(n):\n",
    "    print(float('{:.5f}'.format(array_4_1[i])), end='  ')"
   ]
  },
  {
   "cell_type": "markdown",
   "id": "6d39a08d-6293-412a-8e1d-f46431c19441",
   "metadata": {},
   "source": [
    "# 5) Метод ортогонализации"
   ]
  },
  {
   "cell_type": "code",
   "execution_count": 131,
   "id": "0b1c58db-a66e-4d0d-afd9-bb4978f6a86f",
   "metadata": {},
   "outputs": [],
   "source": [
    "pass"
   ]
  },
  {
   "cell_type": "markdown",
   "id": "97b0a727-214b-45b5-96ef-c722bb5dcb45",
   "metadata": {},
   "source": [
    "# 6) Метод прогонки"
   ]
  },
  {
   "cell_type": "code",
   "execution_count": 5,
   "id": "02fbbe19-59ab-444b-bd58-edcc34d3da33",
   "metadata": {},
   "outputs": [],
   "source": [
    "NN = 16\n",
    "j = 1.5 + 0.1 * NN\n",
    "k = l = 0\n",
    "m = 1\n",
    "n = 5\n",
    "    \n",
    "a = np.array([[j * m, 0.5 * j, 0, 0.2 * l, 0], \n",
    "                  [0.5 * j, j, 0.3 * j, 0, 0.1 * l], \n",
    "                  [0, 0.3 * j, 10, -0.3 * j, 0.5 *l], \n",
    "                  [0.2 * k, 0, -0.3 * j, j, -0.1 * j], \n",
    "                  [0, 0.1 * k, 0.5 * k, -0.1 * j, j * m]])\n",
    "r = np.array([-j + 0.05 * j * j, \n",
    "                  -0.8 * j + 0.1 * j * j - 0.02 * l * j, \n",
    "                  -10 + 0.03 * j * j - 0.1 * l *j, \n",
    "                  -0.2 * k + 0.3 * j + 0.02 * j * j, \n",
    "                  0.01 * k * j - 0.5 * k - 0.2 * j * j])\n",
    "linalg_solve = np.linalg.solve(a, r)"
   ]
  },
  {
   "cell_type": "code",
   "execution_count": 6,
   "id": "be203ac4-2cca-4344-b37d-7e9a5fd79f98",
   "metadata": {},
   "outputs": [
    {
     "name": "stdout",
     "output_type": "stream",
     "text": [
      "[3.1  1.55 0.   0.   0.  ]\n",
      "[1.55 3.1  0.93 0.   0.  ]\n",
      "[ 0.    0.93 10.   -0.93  0.  ]\n",
      "[ 0.    0.   -0.93  3.1  -0.31]\n",
      "[ 0.    0.    0.   -0.31  3.1 ]\n",
      "\n",
      "\n"
     ]
    },
    {
     "ename": "NameError",
     "evalue": "name 'b' is not defined",
     "output_type": "error",
     "traceback": [
      "\u001b[0;31m---------------------------------------------------------------------------\u001b[0m",
      "\u001b[0;31mNameError\u001b[0m                                 Traceback (most recent call last)",
      "\u001b[0;32m<ipython-input-6-fe51c9b8a617>\u001b[0m in \u001b[0;36m<module>\u001b[0;34m\u001b[0m\n\u001b[0;32m----> 1\u001b[0;31m \u001b[0mprint_matrix\u001b[0m\u001b[0;34m(\u001b[0m\u001b[0;34m)\u001b[0m\u001b[0;34m\u001b[0m\u001b[0;34m\u001b[0m\u001b[0m\n\u001b[0m",
      "\u001b[0;32m<ipython-input-4-d7412c9a40f2>\u001b[0m in \u001b[0;36mprint_matrix\u001b[0;34m()\u001b[0m\n\u001b[1;32m      3\u001b[0m         \u001b[0mprint\u001b[0m\u001b[0;34m(\u001b[0m\u001b[0mi\u001b[0m\u001b[0;34m)\u001b[0m\u001b[0;34m\u001b[0m\u001b[0;34m\u001b[0m\u001b[0m\n\u001b[1;32m      4\u001b[0m     \u001b[0mprint\u001b[0m\u001b[0;34m(\u001b[0m\u001b[0;34m'\\n'\u001b[0m\u001b[0;34m)\u001b[0m\u001b[0;34m\u001b[0m\u001b[0;34m\u001b[0m\u001b[0m\n\u001b[0;32m----> 5\u001b[0;31m     \u001b[0mprint\u001b[0m\u001b[0;34m(\u001b[0m\u001b[0mb\u001b[0m\u001b[0;34m)\u001b[0m\u001b[0;34m\u001b[0m\u001b[0;34m\u001b[0m\u001b[0m\n\u001b[0m",
      "\u001b[0;31mNameError\u001b[0m: name 'b' is not defined"
     ]
    }
   ],
   "source": [
    "print_matrix()"
   ]
  },
  {
   "cell_type": "code",
   "execution_count": 7,
   "id": "b5e65215-68ba-4060-aa1c-d6f12e408bc7",
   "metadata": {},
   "outputs": [
    {
     "data": {
      "text/plain": [
       "(array([ 3.1,  3.1, 10. ,  3.1,  3.1]),\n",
       " array([ 1.55,  0.93, -0.93, -0.31,  0.  ]),\n",
       " array([ 0.  ,  1.55,  0.93, -0.93, -0.31]))"
      ]
     },
     "execution_count": 7,
     "metadata": {},
     "output_type": "execute_result"
    }
   ],
   "source": [
    "c = np.array([0.0] * 5) \n",
    "d = np.array([0.0] * 5) \n",
    "b = np.array([0.0] * 5) \n",
    "for i in range(n):\n",
    "    for j in range(n):\n",
    "        if i == j:\n",
    "            c[i] = a[i][j]\n",
    "        elif i == j + 1:\n",
    "            b[i] = a[i][j]\n",
    "        elif i + 1 == j:\n",
    "            d[i] = a[i][j]\n",
    "c, d, b"
   ]
  },
  {
   "cell_type": "code",
   "execution_count": 8,
   "id": "11f82ea5-e7f6-462e-875b-eb19482ce833",
   "metadata": {},
   "outputs": [],
   "source": [
    "delta = np.array([0.0] * 5) \n",
    "_lambda = np.array([0.0] * 5) "
   ]
  },
  {
   "cell_type": "code",
   "execution_count": 9,
   "id": "8255441a-84e2-4d1d-8696-2c476c6d133b",
   "metadata": {},
   "outputs": [
    {
     "data": {
      "text/plain": [
       "(array([-0.5       , -0.4       ,  0.09659327,  0.10298428, -0.        ]),\n",
       " array([-0.845     , -0.09      , -1.        ,  0.06385025, -0.62      ]))"
      ]
     },
     "execution_count": 9,
     "metadata": {},
     "output_type": "execute_result"
    }
   ],
   "source": [
    "for i in range(n):\n",
    "    delta[i] = -(d[i] / (c[i] + b[i] * delta[i-1]))\n",
    "    _lambda[i] = ((r[i] - b[i] * _lambda[i-1]) / (c[i] + b[i] * delta[i-1]))\n",
    "delta, _lambda"
   ]
  },
  {
   "cell_type": "code",
   "execution_count": 10,
   "id": "7dbbd5ba-4e2c-47c5-a2dd-a4fd1c693dcc",
   "metadata": {},
   "outputs": [],
   "source": [
    "x = np.array([0.0] * 5) "
   ]
  },
  {
   "cell_type": "code",
   "execution_count": 11,
   "id": "6176d9e5-fade-4a01-ac40-3ed32aeb1283",
   "metadata": {},
   "outputs": [],
   "source": [
    "x[n - 1] = ((r[n - 1] - b[n - 1] * _lambda[n - 2]) / (c[n - 1] + b[n - 1] * delta[n-2]))\n",
    "for i in range(n - 2, -1, -1):\n",
    "    x[i] = delta[i] * x[i + 1] + _lambda[i]"
   ]
  },
  {
   "cell_type": "code",
   "execution_count": 12,
   "id": "b83a997e-4d17-47d2-ad0e-5ab007dd3966",
   "metadata": {},
   "outputs": [
    {
     "name": "stdout",
     "output_type": "stream",
     "text": [
      "-1.0  0.31  -1.0  -0.0  -0.62  \n",
      "\n",
      "-1.0  0.31  -1.0  -0.0  -0.62  "
     ]
    }
   ],
   "source": [
    "for i in range(n):\n",
    "    print(float('{:.5f}'.format(linalg_solve[i])), end='  ')\n",
    "print('\\n')\n",
    "for i in range(n):\n",
    "    print(float('{:.5f}'.format(x[i])), end='  ')"
   ]
  },
  {
   "cell_type": "code",
   "execution_count": null,
   "id": "85fad4e2",
   "metadata": {},
   "outputs": [],
   "source": []
  }
 ],
 "metadata": {
  "kernelspec": {
   "display_name": "Python 3",
   "language": "python",
   "name": "python3"
  },
  "language_info": {
   "codemirror_mode": {
    "name": "ipython",
    "version": 3
   },
   "file_extension": ".py",
   "mimetype": "text/x-python",
   "name": "python",
   "nbconvert_exporter": "python",
   "pygments_lexer": "ipython3",
   "version": "3.8.2"
  }
 },
 "nbformat": 4,
 "nbformat_minor": 5
}
