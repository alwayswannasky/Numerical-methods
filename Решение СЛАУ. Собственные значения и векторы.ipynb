{
 "cells": [
  {
   "cell_type": "code",
   "execution_count": 1,
   "id": "59970a20-a3c7-4041-b33c-b568a31b3044",
   "metadata": {},
   "outputs": [],
   "source": [
    "import numpy as np"
   ]
  },
  {
   "cell_type": "code",
   "execution_count": 2,
   "id": "075e8a48-1187-4db7-af4e-ce833d342ca2",
   "metadata": {},
   "outputs": [],
   "source": [
    "def print_matrix():\n",
    "    for i in a:\n",
    "        print(i)\n",
    "    print('\\n')\n",
    "    print(b)"
   ]
  },
  {
   "cell_type": "markdown",
   "id": "13a93211-f561-471e-a070-ea922118a151",
   "metadata": {
    "tags": []
   },
   "source": [
    "# 1) Метод Гаусса"
   ]
  },
  {
   "cell_type": "code",
   "execution_count": 5,
   "id": "25543b65",
   "metadata": {},
   "outputs": [],
   "source": [
    "NN = 16\n",
    "j = 1.5 + 0.1 * NN\n",
    "k = j\n",
    "l = k - 0.1\n",
    "m = 1\n",
    "n = 5\n",
    "\n",
    "a = np.array([[j * m, 0.5 * j, 0, 0.2 * l, 0], \n",
    "              [0.5 * j, j, 0.3 * j, 0, 0.1 * l], \n",
    "              [0, 0.3 * j, 10, -0.3 * j, 0.5 *l], \n",
    "              [0.2 * k, 0, -0.3 * j, j, -0.1 * j], \n",
    "              [0, 0.1 * k, 0.5 * k, -0.1 * j, j * m]])\n",
    "b = np.array([-j + 0.05 * j * j, \n",
    "              -0.8 * j + 0.1 * j * j - 0.02 * l * j, \n",
    "              -10 + 0.03 * j * j - 0.1 * l *j, \n",
    "              -0.2 * k + 0.3 * j + 0.02 * j * j, \n",
    "              0.01 * k * j - 0.5 * k - 0.2 * j * j])\n",
    "linalg_solve = np.linalg.solve(a, b)"
   ]
  },
  {
   "cell_type": "markdown",
   "id": "e7df5695-2c8f-4179-85bb-8c9cb805fe97",
   "metadata": {},
   "source": [
    "Прямой ход"
   ]
  },
  {
   "cell_type": "code",
   "execution_count": null,
   "id": "7fdb25e8-fa7a-48e3-a49a-ab8b4bb5cba5",
   "metadata": {},
   "outputs": [],
   "source": [
    "for k in range(n - 1):\n",
    "    for i in range(k + 1, n):\n",
    "        r = a[i][k] / a[k][k]\n",
    "        for j in range(k, n):\n",
    "            a[i][j] = a[i][j] - (r * a[k][j])\n",
    "        b[i] = b[i] - (r * b[k])"
   ]
  },
  {
   "cell_type": "code",
   "execution_count": null,
   "id": "76128e62-9fb7-4629-aade-12708d49529a",
   "metadata": {},
   "outputs": [
    {
     "name": "stdout",
     "output_type": "stream",
     "text": [
      "3.1    1.55    0.0    0.6    0.0    \n",
      "\n",
      "0.0    2.33    0.93    -0.3    0.3    \n",
      "\n",
      "0.0    -0.0    9.63    -0.81    1.38    \n",
      "\n",
      "0.0    0.0    0.0    2.87    -0.15    \n",
      "\n",
      "0.0    -0.0    0.0    0.0    2.85    \n",
      "\n"
     ]
    },
    {
     "data": {
      "text/plain": [
       "array([ -2.6195    ,  -0.39525   , -10.4836    ,   0.09577416,\n",
       "        -1.76547452])"
      ]
     },
     "execution_count": 298,
     "metadata": {},
     "output_type": "execute_result"
    }
   ],
   "source": [
    "for i in range(n):\n",
    "    for j in range(n):\n",
    "        print(float('{:.2f}'.format(a[i][j])), end='    ')\n",
    "    print('\\n')\n",
    "b"
   ]
  },
  {
   "cell_type": "markdown",
   "id": "b43852ab-aea7-48ee-bfb9-3e361e3c36c4",
   "metadata": {},
   "source": [
    "Обратный ход"
   ]
  },
  {
   "cell_type": "code",
   "execution_count": 299,
   "id": "83ed381f-919f-4de6-8afb-620dde05998a",
   "metadata": {},
   "outputs": [],
   "source": [
    "array_1 = [1] * 5 # x\n",
    "for k in range(n - 1, -1, -1):\n",
    "    array_1[k] = ((b[k] - sum([a[k][j] * array_1[j] for j in range(k + 1, n)])) / a[k][k])"
   ]
  },
  {
   "cell_type": "code",
   "execution_count": 300,
   "id": "3ac11950-a7e8-43cd-905b-1ce0427ec4e9",
   "metadata": {},
   "outputs": [
    {
     "name": "stdout",
     "output_type": "stream",
     "text": [
      "-1.0  0.31  -1.0  0.0  -0.62  \n",
      "\n",
      "-1.0  0.31  -1.0  0.0  -0.62  "
     ]
    }
   ],
   "source": [
    "for i in range(n):\n",
    "    print(float('{:.10f}'.format(linalg_solve[i])), end='  ')\n",
    "print('\\n')\n",
    "for i in range(n):\n",
    "    print(float('{:.10f}'.format(array_1[i])), end='  ')"
   ]
  },
  {
   "cell_type": "markdown",
   "id": "954e819f",
   "metadata": {},
   "source": [
    "Определитель матрицы"
   ]
  },
  {
   "cell_type": "code",
   "execution_count": 301,
   "id": "b81212df",
   "metadata": {},
   "outputs": [
    {
     "name": "stdout",
     "output_type": "stream",
     "text": [
      "567.5496936075\n"
     ]
    }
   ],
   "source": [
    "det = 1\n",
    "for i in range(n):\n",
    "    for j in range(n):\n",
    "        if i == j:\n",
    "            det *= a[i][j]\n",
    "print(det)"
   ]
  },
  {
   "cell_type": "markdown",
   "id": "5d2b7a06-062c-434f-8d91-817b431b4288",
   "metadata": {},
   "source": [
    "# 2) Метод Жордана–Гаусса"
   ]
  },
  {
   "cell_type": "code",
   "execution_count": 181,
   "id": "69cf89d2-aa1f-42bc-8cdb-99e08c3e9b95",
   "metadata": {},
   "outputs": [],
   "source": [
    "NN = 16\n",
    "j = 1.5 + 0.1 * NN\n",
    "k = j\n",
    "l = k - 0.1\n",
    "m = 1\n",
    "n = 5\n",
    "\n",
    "a = np.array([[j * m, 0.5 * j, 0, 0.2 * l, 0], \n",
    "              [0.5 * j, j, 0.3 * j, 0, 0.1 * l], \n",
    "              [0, 0.3 * j, 10, -0.3 * j, 0.5 *l], \n",
    "              [0.2 * k, 0, -0.3 * j, j, -0.1 * j], \n",
    "              [0, 0.1 * k, 0.5 * k, -0.1 * j, j * m]])\n",
    "b = np.array([-j + 0.05 * j * j, \n",
    "              -0.8 * j + 0.1 * j * j - 0.02 * l * j, \n",
    "              -10 + 0.03 * j * j - 0.1 * l *j, \n",
    "              -0.2 * k + 0.3 * j + 0.02 * j * j, \n",
    "              0.01 * k * j - 0.5 * k - 0.2 * j * j])\n",
    "linalg_solve = np.linalg.solve(a, b)"
   ]
  },
  {
   "cell_type": "code",
   "execution_count": 182,
   "id": "da28beff",
   "metadata": {},
   "outputs": [
    {
     "name": "stdout",
     "output_type": "stream",
     "text": [
      "[3.1  1.55 0.   0.6  0.  ]\n",
      "[1.55 3.1  0.93 0.   0.3 ]\n",
      "[ 0.    0.93 10.   -0.93  1.5 ]\n",
      "[ 0.62  0.   -0.93  3.1  -0.31]\n",
      "[ 0.    0.31  1.55 -0.31  3.1 ]\n",
      "\n",
      "\n",
      "[ -2.6195  -1.705  -10.6417   0.5022  -3.3759]\n"
     ]
    }
   ],
   "source": [
    "print_matrix()"
   ]
  },
  {
   "cell_type": "code",
   "execution_count": 77,
   "id": "9912cfa8",
   "metadata": {},
   "outputs": [],
   "source": [
    "for k in range(n):\n",
    "    for i in range(n):\n",
    "        if i != k:\n",
    "            r = a[i][k] / a[k][k]\n",
    "            b[i] = b[i] - (r * b[k])\n",
    "            for j in range(k, n):\n",
    "                a[i][j] = a[i][j] - (r * a[k][j])"
   ]
  },
  {
   "cell_type": "code",
   "execution_count": 78,
   "id": "a9a16fa0",
   "metadata": {},
   "outputs": [],
   "source": [
    "array_2 = [1] * 5 # x\n",
    "for i in range(n):\n",
    "    array_2[i] = (b[i]/a[i][i])"
   ]
  },
  {
   "cell_type": "code",
   "execution_count": 79,
   "id": "a5d13858",
   "metadata": {},
   "outputs": [
    {
     "name": "stdout",
     "output_type": "stream",
     "text": [
      "-1.0  0.31  -1.0  0.0  -0.62  \n",
      "\n",
      "-1.0  0.31  -1.0  0.0  -0.62  "
     ]
    }
   ],
   "source": [
    "for i in range(n):\n",
    "    print(float('{:.5f}'.format(linalg_solve[i])), end='  ')\n",
    "print('\\n')\n",
    "for i in range(n):\n",
    "    print(float('{:.5f}'.format(array_2[i])), end='  ')"
   ]
  },
  {
   "cell_type": "markdown",
   "id": "3e618cce",
   "metadata": {},
   "source": [
    "# 3) Метод LU–разложения"
   ]
  },
  {
   "cell_type": "code",
   "execution_count": 53,
   "id": "d942d49d",
   "metadata": {},
   "outputs": [],
   "source": [
    "NN = 16\n",
    "j = 1.5 + 0.1 * NN\n",
    "k = j\n",
    "l = k - 0.1\n",
    "m = 1\n",
    "n = 5\n",
    "\n",
    "a = np.array([[j * m, 0.5 * j, 0, 0.2 * l, 0], \n",
    "              [0.5 * j, j, 0.3 * j, 0, 0.1 * l], \n",
    "              [0, 0.3 * j, 10, -0.3 * j, 0.5 *l], \n",
    "              [0.2 * k, 0, -0.3 * j, j, -0.1 * j], \n",
    "              [0, 0.1 * k, 0.5 * k, -0.1 * j, j * m]])\n",
    "b = np.array([-j + 0.05 * j * j, \n",
    "              -0.8 * j + 0.1 * j * j - 0.02 * l * j, \n",
    "              -10 + 0.03 * j * j - 0.1 * l *j, \n",
    "              -0.2 * k + 0.3 * j + 0.02 * j * j, \n",
    "              0.01 * k * j - 0.5 * k - 0.2 * j * j])\n",
    "linalg_solve = np.linalg.solve(a, b)"
   ]
  },
  {
   "cell_type": "code",
   "execution_count": 54,
   "id": "527ef376",
   "metadata": {},
   "outputs": [
    {
     "name": "stdout",
     "output_type": "stream",
     "text": [
      "[3.1  1.55 0.   0.6  0.  ]\n",
      "[1.55 3.1  0.93 0.   0.3 ]\n",
      "[ 0.    0.93 10.   -0.93  1.5 ]\n",
      "[ 0.62  0.   -0.93  3.1  -0.31]\n",
      "[ 0.    0.31  1.55 -0.31  3.1 ]\n",
      "\n",
      "\n",
      "[ -2.6195  -1.705  -10.6417   0.5022  -3.3759]\n"
     ]
    }
   ],
   "source": [
    "print_matrix()"
   ]
  },
  {
   "cell_type": "code",
   "execution_count": 55,
   "id": "15c4a969-d16a-413a-a259-fac8a4b7581e",
   "metadata": {},
   "outputs": [],
   "source": [
    "L = np.eye(5)\n",
    "U = np.zeros((5, 5))"
   ]
  },
  {
   "cell_type": "code",
   "execution_count": 56,
   "id": "c6ccb042",
   "metadata": {},
   "outputs": [],
   "source": [
    "for i in range(n):\n",
    "    for j in range(n):\n",
    "        tmp = 0.0\n",
    "        # u\n",
    "        if i <= j:\n",
    "            U[i][j] = a[i][j] - sum([L[i][k]*U[k][j] for k in range(i)])\n",
    "        # l\n",
    "        else:\n",
    "            L[i][j] = (a[i][j] - sum([L[i][k]*U[k][j] for k in range(j)]))/U[j][j]"
   ]
  },
  {
   "cell_type": "code",
   "execution_count": 57,
   "id": "b25b2908",
   "metadata": {},
   "outputs": [],
   "source": [
    "array_3 = [1] * 5 # y\n",
    "for k in range(n):\n",
    "    array_3[k] = b[k] - sum([L[k][j] * array_3[j] for j in range(k)])"
   ]
  },
  {
   "cell_type": "code",
   "execution_count": 58,
   "id": "a8faa962",
   "metadata": {},
   "outputs": [],
   "source": [
    "array_3_1 = [1] * 5 # x\n",
    "for k in range(n - 1, -1, -1):\n",
    "    array_3_1[k] = (array_3[k] - sum([U[k][j] * array_3_1[j] for j in range(k + 1, n)]))/U[k][k]"
   ]
  },
  {
   "cell_type": "code",
   "execution_count": 59,
   "id": "d7da24ae",
   "metadata": {},
   "outputs": [
    {
     "name": "stdout",
     "output_type": "stream",
     "text": [
      "-1.0  0.31  -1.0  0.0  -0.62  \n",
      "\n",
      "-1.0  0.31  -1.0  -0.0  -0.62  "
     ]
    }
   ],
   "source": [
    "for i in range(n):\n",
    "    print(float('{:.5f}'.format(linalg_solve[i])), end='  ')\n",
    "print('\\n')\n",
    "for i in range(n):\n",
    "    print(float('{:.5f}'.format(array_3_1[i])), end='  ')"
   ]
  },
  {
   "cell_type": "markdown",
   "id": "6b529d20",
   "metadata": {},
   "source": [
    "Определитель матрицы"
   ]
  },
  {
   "cell_type": "code",
   "execution_count": 60,
   "id": "313b3493",
   "metadata": {},
   "outputs": [
    {
     "name": "stdout",
     "output_type": "stream",
     "text": [
      "567.5496936075001\n"
     ]
    }
   ],
   "source": [
    "det = 1\n",
    "for i in range(n):\n",
    "    for j in range(n):\n",
    "        if i == j:\n",
    "            det *= U[i][j]\n",
    "print(det)"
   ]
  },
  {
   "cell_type": "markdown",
   "id": "c82637ad",
   "metadata": {
    "tags": []
   },
   "source": [
    "# 4) Метод квадратных корней (схема Холецкого)"
   ]
  },
  {
   "cell_type": "code",
   "execution_count": 269,
   "id": "4a8d422b",
   "metadata": {},
   "outputs": [],
   "source": [
    "NN = 16\n",
    "j = 1.5 + 0.1 * NN\n",
    "k = l = NN\n",
    "m = 1\n",
    "n = 5\n",
    "    \n",
    "a = np.array([[j * m, 0.5 * j, 0, 0.2 * l, 0], \n",
    "                  [0.5 * j, j, 0.3 * j, 0, 0.1 * l], \n",
    "                  [0, 0.3 * j, 10, -0.3 * j, 0.5 *l], \n",
    "                  [0.2 * k, 0, -0.3 * j, j, -0.1 * j], \n",
    "                  [0, 0.1 * k, 0.5 * k, -0.1 * j, j * m]])\n",
    "b = np.array([-j + 0.05 * j * j, \n",
    "                  -0.8 * j + 0.1 * j * j - 0.02 * l * j, \n",
    "                  -10 + 0.03 * j * j - 0.1 * l *j, \n",
    "                  -0.2 * k + 0.3 * j + 0.02 * j * j, \n",
    "                  0.01 * k * j - 0.5 * k - 0.2 * j * j])\n",
    "linalg_solve = np.linalg.solve(a, b)"
   ]
  },
  {
   "cell_type": "code",
   "execution_count": 270,
   "id": "9a9cb670",
   "metadata": {},
   "outputs": [
    {
     "name": "stdout",
     "output_type": "stream",
     "text": [
      "[3.1  1.55 0.   3.2  0.  ]\n",
      "[1.55 3.1  0.93 0.   1.6 ]\n",
      "[ 0.    0.93 10.   -0.93  8.  ]\n",
      "[ 3.2   0.   -0.93  3.1  -0.31]\n",
      "[ 0.    1.6   8.   -0.31  3.1 ]\n",
      "\n",
      "\n",
      "[ -2.6195  -2.511  -14.6717  -2.0778  -9.426 ]\n"
     ]
    }
   ],
   "source": [
    "print_matrix()"
   ]
  },
  {
   "cell_type": "code",
   "execution_count": 271,
   "id": "eb03ebf2-c565-4d2c-823a-626cff9b9b51",
   "metadata": {},
   "outputs": [],
   "source": [
    "import math"
   ]
  },
  {
   "cell_type": "code",
   "execution_count": 272,
   "id": "b7a02271-aec0-4063-897c-29f871ea30e6",
   "metadata": {},
   "outputs": [],
   "source": [
    "d = np.eye(5)\n",
    "s = np.zeros((5, 5))"
   ]
  },
  {
   "cell_type": "code",
   "execution_count": 273,
   "id": "e31ae069",
   "metadata": {},
   "outputs": [],
   "source": [
    "for i in range(n):\n",
    "    d[i][i] = np.sign(a[i][i]-sum([s[p][i]*s[p][i]*d[p][p] for p in range(i)]))\n",
    "    s[i][i] = np.sqrt(np.abs(a[i][i] - sum([s[p][i]*s[p][i]*d[p][p] for p in range(i)])))\n",
    "    for j in range(i, n):\n",
    "        s[i][j] = (a[i][j]-sum([s[p][i]*s[p][j]*d[p][p] for p in range(i)]))/(d[i][i]*s[i][i])"
   ]
  },
  {
   "cell_type": "code",
   "execution_count": 274,
   "id": "0c304498",
   "metadata": {},
   "outputs": [],
   "source": [
    "st = s.transpose().dot(d)"
   ]
  },
  {
   "cell_type": "code",
   "execution_count": 275,
   "id": "0b88ec93",
   "metadata": {},
   "outputs": [],
   "source": [
    "array_4 = [1] * 5 # y\n",
    "for k in range(n):\n",
    "    array_4[k] = (b[k] - sum([st[k][j] * array_4[j] for j in range(k)]))/st[k][k]"
   ]
  },
  {
   "cell_type": "code",
   "execution_count": 276,
   "id": "77b95def",
   "metadata": {},
   "outputs": [],
   "source": [
    "array_4_1 = [1] * 5 # x\n",
    "for k in range(n - 1, -1, -1):\n",
    "    array_4_1[k] = (array_4[k] - sum([s[k][j] * array_4_1[j] for j in range(k + 1, n)]))/s[k][k]"
   ]
  },
  {
   "cell_type": "code",
   "execution_count": 277,
   "id": "b781e91a",
   "metadata": {},
   "outputs": [
    {
     "name": "stdout",
     "output_type": "stream",
     "text": [
      "-1.0  0.31  -1.0  0.0  -0.62  \n",
      "\n",
      "-1.0  0.31  -1.0  0.0  -0.62  "
     ]
    }
   ],
   "source": [
    "for i in range(n):\n",
    "    print(float('{:.5f}'.format(linalg_solve[i])), end='  ')\n",
    "print('\\n')\n",
    "for i in range(n):\n",
    "    print(float('{:.5f}'.format(array_4_1[i])), end='  ')"
   ]
  },
  {
   "cell_type": "markdown",
   "id": "6d39a08d-6293-412a-8e1d-f46431c19441",
   "metadata": {},
   "source": [
    "# 5) Метод ортогонализации"
   ]
  },
  {
   "cell_type": "code",
   "execution_count": 289,
   "id": "0b1c58db-a66e-4d0d-afd9-bb4978f6a86f",
   "metadata": {},
   "outputs": [],
   "source": [
    "NN = 16\n",
    "j = 1.5 + 0.1 * NN\n",
    "k = j\n",
    "l = k - 0.1\n",
    "m = 1\n",
    "n = 5\n",
    "\n",
    "a = [[j * m, 0.5 * j, 0, 0.2 * l, 0], \n",
    "              [0.5 * j, j, 0.3 * j, 0, 0.1 * l], \n",
    "              [0, 0.3 * j, 10, -0.3 * j, 0.5 *l], \n",
    "              [0.2 * k, 0, -0.3 * j, j, -0.1 * j], \n",
    "              [0, 0.1 * k, 0.5 * k, -0.1 * j, j * m]]\n",
    "b = [-j + 0.05 * j * j, \n",
    "              -0.8 * j + 0.1 * j * j - 0.02 * l * j, \n",
    "              -10 + 0.03 * j * j - 0.1 * l *j, \n",
    "              -0.2 * k + 0.3 * j + 0.02 * j * j, \n",
    "              0.01 * k * j - 0.5 * k - 0.2 * j * j]\n",
    "linalg_solve = np.linalg.solve(a, b)"
   ]
  },
  {
   "cell_type": "code",
   "execution_count": 290,
   "id": "c787865f-2ad0-4dfc-9bf1-6f32c35c938f",
   "metadata": {},
   "outputs": [
    {
     "name": "stdout",
     "output_type": "stream",
     "text": [
      "[3.1, 1.55, 0, 0.6000000000000001, 0]\n",
      "[1.55, 3.1, 0.9299999999999999, 0, 0.30000000000000004]\n",
      "[0, 0.9299999999999999, 10, -0.9299999999999999, 1.5]\n",
      "[0.6200000000000001, 0, -0.9299999999999999, 3.1, -0.31000000000000005]\n",
      "[0, 0.31000000000000005, 1.55, -0.31000000000000005, 3.1]\n",
      "\n",
      "\n",
      "[-2.6195, -1.705, -10.6417, 0.5021999999999999, -3.3759000000000006]\n"
     ]
    }
   ],
   "source": [
    "print_matrix()"
   ]
  },
  {
   "cell_type": "code",
   "execution_count": 291,
   "id": "650c18ac-356c-4808-859b-680a2f64aaed",
   "metadata": {},
   "outputs": [],
   "source": [
    "for i in range(n):\n",
    "    a[i].append(-b[i])\n",
    "a.append([float(i == n) for i in range(n + 1)])"
   ]
  },
  {
   "cell_type": "code",
   "execution_count": 292,
   "id": "7ca38763-21f1-4976-9548-1aa7bfa54df6",
   "metadata": {},
   "outputs": [],
   "source": [
    "a = np.array(a)"
   ]
  },
  {
   "cell_type": "code",
   "execution_count": 293,
   "id": "c063f726-857d-4291-aca2-e0ca4d856ab8",
   "metadata": {},
   "outputs": [
    {
     "data": {
      "text/plain": [
       "array([[ 3.1   ,  1.55  ,  0.    ,  0.6   ,  0.    ,  2.6195],\n",
       "       [ 1.55  ,  3.1   ,  0.93  ,  0.    ,  0.3   ,  1.705 ],\n",
       "       [ 0.    ,  0.93  , 10.    , -0.93  ,  1.5   , 10.6417],\n",
       "       [ 0.62  ,  0.    , -0.93  ,  3.1   , -0.31  , -0.5022],\n",
       "       [ 0.    ,  0.31  ,  1.55  , -0.31  ,  3.1   ,  3.3759],\n",
       "       [ 0.    ,  0.    ,  0.    ,  0.    ,  0.    ,  1.    ]])"
      ]
     },
     "execution_count": 293,
     "metadata": {},
     "output_type": "execute_result"
    }
   ],
   "source": [
    "a"
   ]
  },
  {
   "cell_type": "code",
   "execution_count": 294,
   "id": "38cc1d75-8c7d-47b6-8dea-7e78c5025c95",
   "metadata": {},
   "outputs": [],
   "source": [
    "u = np.array([[0.0 for _ in range(n + 1)] for _ in range(n + 1)])\n",
    "v = np.array([[0.0 for _ in range(n + 1)] for _ in range(n + 1)])"
   ]
  },
  {
   "cell_type": "code",
   "execution_count": 295,
   "id": "f77777d4-c32b-4104-98ab-017256022fc0",
   "metadata": {},
   "outputs": [],
   "source": [
    "u[0] = a[0]\n",
    "v[0] = u[0]/np.sqrt(np.dot(u[0], u[0]))"
   ]
  },
  {
   "cell_type": "code",
   "execution_count": 296,
   "id": "0fcc067b-0e57-4748-b6b6-2138e09daca2",
   "metadata": {},
   "outputs": [],
   "source": [
    "for j in range(1, n + 1):\n",
    "    u[j] = a[j] - sum([np.dot(a[j], v[i]) * v[i] for i in range(j)])\n",
    "    v[j] = u[j] / np.sqrt(np.dot(u[j], u[j]))"
   ]
  },
  {
   "cell_type": "code",
   "execution_count": 297,
   "id": "859e32bf-f831-4c94-9208-64e306584896",
   "metadata": {},
   "outputs": [
    {
     "data": {
      "text/plain": [
       "array([-1.00000000e+00,  3.10000000e-01, -1.00000000e+00, -7.84901658e-17,\n",
       "       -6.20000000e-01])"
      ]
     },
     "execution_count": 297,
     "metadata": {},
     "output_type": "execute_result"
    }
   ],
   "source": [
    "y = np.array([0.0 for _ in range(n)])\n",
    "for i in range(n):\n",
    "    y[i] = u[n][i] / u[n][n] \n",
    "y"
   ]
  },
  {
   "cell_type": "code",
   "execution_count": 298,
   "id": "aca4452b-194d-4d0e-af0a-d790d53e6cd8",
   "metadata": {},
   "outputs": [
    {
     "name": "stdout",
     "output_type": "stream",
     "text": [
      "-1.0  0.31  -1.0  0.0  -0.62  \n",
      "\n",
      "-1.0  0.31  -1.0  -0.0  -0.62  "
     ]
    }
   ],
   "source": [
    "for i in range(n):\n",
    "    print(float('{:.5f}'.format(linalg_solve[i])), end='  ')\n",
    "print('\\n')\n",
    "for i in range(n):\n",
    "    print(float('{:.5f}'.format(y[i])), end='  ')"
   ]
  },
  {
   "cell_type": "markdown",
   "id": "97b0a727-214b-45b5-96ef-c722bb5dcb45",
   "metadata": {},
   "source": [
    "# 6) Метод прогонки"
   ]
  },
  {
   "cell_type": "code",
   "execution_count": 100,
   "id": "02fbbe19-59ab-444b-bd58-edcc34d3da33",
   "metadata": {},
   "outputs": [],
   "source": [
    "NN = 16\n",
    "j = 1.5 + 0.1 * NN\n",
    "k = l = 0\n",
    "m = 1\n",
    "n = 5\n",
    "    \n",
    "a = np.array([[j * m, 0.5 * j, 0, 0.2 * l, 0], \n",
    "                  [0.5 * j, j, 0.3 * j, 0, 0.1 * l], \n",
    "                  [0, 0.3 * j, 10, -0.3 * j, 0.5 *l], \n",
    "                  [0.2 * k, 0, -0.3 * j, j, -0.1 * j], \n",
    "                  [0, 0.1 * k, 0.5 * k, -0.1 * j, j * m]])\n",
    "r = np.array([-j + 0.05 * j * j, \n",
    "                  -0.8 * j + 0.1 * j * j - 0.02 * l * j, \n",
    "                  -10 + 0.03 * j * j - 0.1 * l *j, \n",
    "                  -0.2 * k + 0.3 * j + 0.02 * j * j, \n",
    "                  0.01 * k * j - 0.5 * k - 0.2 * j * j])\n",
    "linalg_solve = np.linalg.solve(a, r)"
   ]
  },
  {
   "cell_type": "code",
   "execution_count": 101,
   "id": "be203ac4-2cca-4344-b37d-7e9a5fd79f98",
   "metadata": {},
   "outputs": [
    {
     "name": "stdout",
     "output_type": "stream",
     "text": [
      "[3.1  1.55 0.   0.   0.  ]\n",
      "[1.55 3.1  0.93 0.   0.  ]\n",
      "[ 0.    0.93 10.   -0.93  0.  ]\n",
      "[ 0.    0.   -0.93  3.1  -0.31]\n",
      "[ 0.    0.    0.   -0.31  3.1 ]\n",
      "\n",
      "\n",
      "[ 0.  -3.1  2.   0.   0. ]\n"
     ]
    }
   ],
   "source": [
    "print_matrix()"
   ]
  },
  {
   "cell_type": "code",
   "execution_count": 102,
   "id": "b5e65215-68ba-4060-aa1c-d6f12e408bc7",
   "metadata": {},
   "outputs": [
    {
     "data": {
      "text/plain": [
       "(array([ 3.1,  3.1, 10. ,  3.1,  3.1]),\n",
       " array([ 1.55,  0.93, -0.93, -0.31,  0.  ]),\n",
       " array([ 0.  ,  1.55,  0.93, -0.93, -0.31]))"
      ]
     },
     "execution_count": 102,
     "metadata": {},
     "output_type": "execute_result"
    }
   ],
   "source": [
    "c = np.array([0.0] * 5) \n",
    "d = np.array([0.0] * 5) \n",
    "b = np.array([0.0] * 5) \n",
    "for i in range(n):\n",
    "    for j in range(n):\n",
    "        if i == j:\n",
    "            c[i] = a[i][j]\n",
    "        elif i == j + 1:\n",
    "            b[i] = a[i][j]\n",
    "        elif i + 1 == j:\n",
    "            d[i] = a[i][j]\n",
    "c, d, b"
   ]
  },
  {
   "cell_type": "code",
   "execution_count": 103,
   "id": "11f82ea5-e7f6-462e-875b-eb19482ce833",
   "metadata": {},
   "outputs": [],
   "source": [
    "delta = np.array([0.0] * 5) \n",
    "_lambda = np.array([0.0] * 5) "
   ]
  },
  {
   "cell_type": "code",
   "execution_count": 104,
   "id": "8255441a-84e2-4d1d-8696-2c476c6d133b",
   "metadata": {},
   "outputs": [
    {
     "data": {
      "text/plain": [
       "(array([-0.5       , -0.4       ,  0.09659327,  0.10298428, -0.        ]),\n",
       " array([-0.845     , -0.09      , -1.        ,  0.06385025, -0.62      ]))"
      ]
     },
     "execution_count": 104,
     "metadata": {},
     "output_type": "execute_result"
    }
   ],
   "source": [
    "for i in range(n):\n",
    "    delta[i] = -(d[i] / (c[i] + b[i] * delta[i-1]))\n",
    "    _lambda[i] = ((r[i] - b[i] * _lambda[i-1]) / (c[i] + b[i] * delta[i-1]))\n",
    "delta, _lambda"
   ]
  },
  {
   "cell_type": "code",
   "execution_count": 105,
   "id": "7dbbd5ba-4e2c-47c5-a2dd-a4fd1c693dcc",
   "metadata": {},
   "outputs": [],
   "source": [
    "x = np.array([0.0] * 5) "
   ]
  },
  {
   "cell_type": "code",
   "execution_count": 106,
   "id": "6176d9e5-fade-4a01-ac40-3ed32aeb1283",
   "metadata": {},
   "outputs": [],
   "source": [
    "x[n - 1] = ((r[n - 1] - b[n - 1] * _lambda[n - 2]) / (c[n - 1] + b[n - 1] * delta[n-2]))\n",
    "for i in range(n - 2, -1, -1):\n",
    "    x[i] = delta[i] * x[i + 1] + _lambda[i]"
   ]
  },
  {
   "cell_type": "code",
   "execution_count": 107,
   "id": "b83a997e-4d17-47d2-ad0e-5ab007dd3966",
   "metadata": {},
   "outputs": [
    {
     "name": "stdout",
     "output_type": "stream",
     "text": [
      "-1.0  0.31  -1.0  -0.0  -0.62  \n",
      "\n",
      "-1.0  0.31  -1.0  -0.0  -0.62  "
     ]
    }
   ],
   "source": [
    "for i in range(n):\n",
    "    print(float('{:.5f}'.format(linalg_solve[i])), end='  ')\n",
    "print('\\n')\n",
    "for i in range(n):\n",
    "    print(float('{:.5f}'.format(x[i])), end='  ')"
   ]
  },
  {
   "cell_type": "markdown",
   "id": "00ae1d52-a295-4395-aed4-91791b4e9af3",
   "metadata": {
    "tags": []
   },
   "source": [
    "# 7) Обратная матрица(методом Гаусса)"
   ]
  },
  {
   "cell_type": "code",
   "execution_count": 126,
   "id": "7c355f64-b112-40a7-9ba8-b13246aabf66",
   "metadata": {},
   "outputs": [],
   "source": [
    "NN = 16\n",
    "j = 1.5 + 0.1 * NN\n",
    "k = j\n",
    "l = k - 0.1\n",
    "m = 1\n",
    "n = 5\n",
    "a = np.array([[j * m, 0.5 * j, 0, 0.2 * l, 0], \n",
    "              [0.5 * j, j, 0.3 * j, 0, 0.1 * l], \n",
    "              [0, 0.3 * j, 10, -0.3 * j, 0.5 *l], \n",
    "              [0.2 * k, 0, -0.3 * j, j, -0.1 * j], \n",
    "              [0, 0.1 * k, 0.5 * k, -0.1 * j, j * m]])\n",
    "\n",
    "linalg_solve = np.linalg.solve(a, b)"
   ]
  },
  {
   "cell_type": "code",
   "execution_count": 128,
   "id": "4fb80062-4acd-420a-bb5f-b63ef3158a68",
   "metadata": {},
   "outputs": [
    {
     "data": {
      "text/plain": [
       "array([[ 0.45544618, -0.23230247,  0.01258681, -0.0835715 ,  0.00803334],\n",
       "       [-0.23222322,  0.45165162, -0.03540522,  0.03198707, -0.02337796],\n",
       "       [ 0.01228279, -0.0352635 ,  0.11332246,  0.02674479, -0.04874637],\n",
       "       [-0.08656192,  0.03346273,  0.02643162,  0.3491528 ,  0.01888746],\n",
       "       [ 0.00842473, -0.02418714, -0.05047754,  0.01834418,  0.35118037]])"
      ]
     },
     "execution_count": 128,
     "metadata": {},
     "output_type": "execute_result"
    }
   ],
   "source": [
    "b = np.array([[float(i == j) for i in range(n)] for j in range(n)])\n",
    "for k in range(n - 1):\n",
    "        for i in range(k + 1, n):\n",
    "            r = a[i][k] / a[k][k]\n",
    "            for j in range(k, n):\n",
    "                a[i][j] = a[i][j] - (r * a[k][j])\n",
    "            b[i] = b[i] - (r * b[k])\n",
    "            \n",
    "x = np.array([[0.0 for _ in range(n)] for _ in range(n)])\n",
    "for k in range(n - 1, -1, -1):\n",
    "    for i in range(n):\n",
    "        x[k][i] = ((b[k][i] - sum([a[k][j] * x[j][i] for j in range(k + 1, n)])) / a[k][k])\n",
    "x"
   ]
  },
  {
   "cell_type": "code",
   "execution_count": 127,
   "id": "7b483702-8faa-453b-997d-01e1b1efc17d",
   "metadata": {},
   "outputs": [
    {
     "name": "stdout",
     "output_type": "stream",
     "text": [
      "[[ 0.45544618 -0.23230247  0.01258681 -0.0835715   0.00803334]\n",
      " [-0.23222322  0.45165162 -0.03540522  0.03198707 -0.02337796]\n",
      " [ 0.01228279 -0.0352635   0.11332246  0.02674479 -0.04874637]\n",
      " [-0.08656192  0.03346273  0.02643162  0.3491528   0.01888746]\n",
      " [ 0.00842473 -0.02418714 -0.05047754  0.01834418  0.35118037]]\n"
     ]
    }
   ],
   "source": [
    "print(np.linalg.inv(a))"
   ]
  },
  {
   "cell_type": "markdown",
   "id": "f9bf271f-dbc7-4c48-852e-04584c6e991e",
   "metadata": {},
   "source": [
    "# 8) Решение СЛАУ в комплексном пространстве"
   ]
  },
  {
   "cell_type": "code",
   "execution_count": 370,
   "id": "dac7d072-0b68-484b-85c7-eea82a8090d2",
   "metadata": {},
   "outputs": [],
   "source": [
    "NN = 16\n",
    "i = 1.5 + 0.1 * NN\n",
    "\n",
    "a = np.array([[1 - i * 1j, 0, -i * 1j], \n",
    "              [-i - 2j, -i * 1j, 2 + i * 1j], \n",
    "              [1j, 2, i]])\n",
    "b =  np.array([1 + i - 3 * i * 1j, \n",
    "              -3 * i + 4 + 2 * i * 1j, \n",
    "              2 * i + (i - 1) * 1j])\n",
    "\n",
    "n = len(a)\n",
    "linalg_solve = np.linalg.solve(a, b)"
   ]
  },
  {
   "cell_type": "code",
   "execution_count": 371,
   "id": "f25d37b0-baa6-42e9-a4f2-649fcf5b8954",
   "metadata": {},
   "outputs": [
    {
     "name": "stdout",
     "output_type": "stream",
     "text": [
      "[ 1.-3.1j  0.+0.j  -0.-3.1j]\n",
      "[-3.1-2.j  -0. -3.1j  2. +3.1j]\n",
      "[0. +1.j 2. +0.j 3.1+0.j]\n",
      "\n",
      "\n",
      "[ 4.1-9.3j -5.3+6.2j  6.2+2.1j]\n"
     ]
    }
   ],
   "source": [
    "print_matrix()"
   ]
  },
  {
   "cell_type": "code",
   "execution_count": 372,
   "id": "456f1f58-cd1c-4051-b5b1-3e774afd04fd",
   "metadata": {},
   "outputs": [],
   "source": [
    "A_real = np.array([[0.0 for _ in range(n)] for _ in range(n)])\n",
    "A_imag = np.array([[0.0 for _ in range(n)] for _ in range(n)])\n",
    "b_real = np.array([0.0 for _ in range(n)])\n",
    "b_imag = np.array([0.0 for _ in range(n)])"
   ]
  },
  {
   "cell_type": "code",
   "execution_count": 373,
   "id": "15686d6f-2ba9-4771-9304-ae146353eebd",
   "metadata": {},
   "outputs": [],
   "source": [
    "for i in range(n):\n",
    "    b_real[i] = b[i].real\n",
    "    b_imag[i] = b[i].imag\n",
    "    for j in range(n):\n",
    "        A_real[i][j] = a[i][j].real\n",
    "        A_imag[i][j] = a[i][j].imag"
   ]
  },
  {
   "cell_type": "code",
   "execution_count": 374,
   "id": "19b6921e-05ff-4ca4-baf5-f1e2abcf3390",
   "metadata": {},
   "outputs": [
    {
     "data": {
      "text/plain": [
       "(array([[ 1. ,  0. , -0. ],\n",
       "        [-3.1, -0. ,  2. ],\n",
       "        [ 0. ,  2. ,  3.1]]),\n",
       " array([[-3.1,  0. , -3.1],\n",
       "        [-2. , -3.1,  3.1],\n",
       "        [ 1. ,  0. ,  0. ]]),\n",
       " array([ 4.1, -5.3,  6.2]),\n",
       " array([-9.3,  6.2,  2.1]))"
      ]
     },
     "execution_count": 374,
     "metadata": {},
     "output_type": "execute_result"
    }
   ],
   "source": [
    "A_real, A_imag, b_real, b_imag"
   ]
  },
  {
   "cell_type": "code",
   "execution_count": 375,
   "id": "032bc387-8053-44fb-adbf-78df11b81a8a",
   "metadata": {},
   "outputs": [
    {
     "data": {
      "text/plain": [
       "(array([[ 1. ,  0. , -0. ,  3.1, -0. ,  3.1],\n",
       "        [-3.1, -0. ,  2. ,  2. ,  3.1, -3.1],\n",
       "        [ 0. ,  2. ,  3.1, -1. , -0. , -0. ],\n",
       "        [-3.1,  0. , -3.1,  1. ,  0. , -0. ],\n",
       "        [-2. , -3.1,  3.1, -3.1, -0. ,  2. ],\n",
       "        [ 1. ,  0. ,  0. ,  0. ,  2. ,  3.1]]),\n",
       " array([ 4.1, -5.3,  6.2, -9.3,  6.2,  2.1]))"
      ]
     },
     "execution_count": 375,
     "metadata": {},
     "output_type": "execute_result"
    }
   ],
   "source": [
    "C1 = np.concatenate((A_real, A_imag))\n",
    "C2 = np.concatenate((-A_imag, A_real))\n",
    "C = np.concatenate((C1, C2), axis = 1)\n",
    "d = np.concatenate((b_real, b_imag))\n",
    "C, d"
   ]
  },
  {
   "cell_type": "markdown",
   "id": "421e8bd6",
   "metadata": {},
   "source": [
    "### Воспользуемся методом ортогонализации (5)"
   ]
  },
  {
   "cell_type": "code",
   "execution_count": 376,
   "id": "e7d91283-4287-46f4-9f43-81cbcdfc0d26",
   "metadata": {},
   "outputs": [
    {
     "data": {
      "text/plain": [
       "array([[ 1. ,  0. , -0. ,  3.1, -0. ,  3.1, -4.1],\n",
       "       [-3.1, -0. ,  2. ,  2. ,  3.1, -3.1,  5.3],\n",
       "       [ 0. ,  2. ,  3.1, -1. , -0. , -0. , -6.2],\n",
       "       [-3.1,  0. , -3.1,  1. ,  0. , -0. ,  9.3],\n",
       "       [-2. , -3.1,  3.1, -3.1, -0. ,  2. , -6.2],\n",
       "       [ 1. ,  0. ,  0. ,  0. ,  2. ,  3.1, -2.1],\n",
       "       [ 0. ,  0. ,  0. ,  0. ,  0. ,  0. ,  1. ]])"
      ]
     },
     "execution_count": 376,
     "metadata": {},
     "output_type": "execute_result"
    }
   ],
   "source": [
    "tmp = [[C[i][j] for j in range(2 * n)] for i in range(2 * n)]\n",
    "for i in range(2 * n):\n",
    "    tmp[i].append(-d[i])\n",
    "tmp.append([float(i == (2 * n)) for i in range(2 * n + 1)])\n",
    "C = np.array([[tmp[i][j] for j in range(2 * n + 1)] for i in range(2 * n + 1)])\n",
    "C"
   ]
  },
  {
   "cell_type": "code",
   "execution_count": 377,
   "id": "93ff609a-26cc-46d8-ae24-9eff769265e3",
   "metadata": {},
   "outputs": [],
   "source": [
    "u = np.array([[0.0 for _ in range(2 * n + 1)] for _ in range(2 * n + 1)])\n",
    "v = np.array([[0.0 for _ in range(2 * n + 1)] for _ in range(2 * n + 1)])"
   ]
  },
  {
   "cell_type": "code",
   "execution_count": 378,
   "id": "8f86b9a4-1c5d-4094-bcf4-b44e3d8cf492",
   "metadata": {},
   "outputs": [],
   "source": [
    "u[0] = C[0]\n",
    "v[0] = u[0]/np.sqrt(np.dot(u[0], u[0]))"
   ]
  },
  {
   "cell_type": "code",
   "execution_count": 379,
   "id": "1b2b434d-8356-46e5-afe0-b334531c4eb7",
   "metadata": {},
   "outputs": [],
   "source": [
    "for j in range(1, 2 * n + 1):\n",
    "    u[j] = C[j] - sum([np.dot(C[j], v[i]) * v[i] for i in range(j)])\n",
    "    v[j] = u[j] / np.sqrt(np.dot(u[j], u[j]))"
   ]
  },
  {
   "cell_type": "code",
   "execution_count": 380,
   "id": "7854d882-9ab7-455f-b921-7645abed559f",
   "metadata": {},
   "outputs": [],
   "source": [
    "y = np.array([0.0 for _ in range(2 * n)])\n",
    "for i in range(2 * n):\n",
    "    y[i] = u[2 * n][i] / u[2 * n][2 * n] "
   ]
  },
  {
   "cell_type": "code",
   "execution_count": 381,
   "id": "372c006c-b573-4a97-8ae8-80fe627adf02",
   "metadata": {},
   "outputs": [
    {
     "name": "stdout",
     "output_type": "stream",
     "text": [
      "1.00000 -0.00000i\n",
      "-0.00000 -1.00000i\n",
      "2.00000 1.00000i\n",
      "\n",
      "\n",
      "1.00000 -0.00000i\n",
      "-0.00000 -1.00000i\n",
      "2.00000 1.00000i\n"
     ]
    }
   ],
   "source": [
    "for i in linalg_solve:\n",
    "    print('{:.5f}'.format(i.real) + ' ' + '{:.5f}'.format(i.imag) + 'i')\n",
    "print('\\n')\n",
    "for i in range(3):\n",
    "    print('{:.5f}'.format(y[i]) + ' ' + '{:.5f}'.format(y[i+3]) + 'i') "
   ]
  },
  {
   "cell_type": "code",
   "execution_count": null,
   "id": "e0c15c0b-7bec-459d-8ed3-0dc13febcec8",
   "metadata": {},
   "outputs": [],
   "source": []
  }
 ],
 "metadata": {
  "kernelspec": {
   "display_name": "Python 3",
   "language": "python",
   "name": "python3"
  },
  "language_info": {
   "codemirror_mode": {
    "name": "ipython",
    "version": 3
   },
   "file_extension": ".py",
   "mimetype": "text/x-python",
   "name": "python",
   "nbconvert_exporter": "python",
   "pygments_lexer": "ipython3",
   "version": "3.8.2"
  }
 },
 "nbformat": 4,
 "nbformat_minor": 5
}
