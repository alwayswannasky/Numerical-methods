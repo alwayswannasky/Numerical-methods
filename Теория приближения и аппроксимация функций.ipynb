{
 "cells": [
  {
   "cell_type": "code",
   "execution_count": 1,
   "id": "fbd01997-609a-46a4-a093-6335dfb85e74",
   "metadata": {},
   "outputs": [],
   "source": [
    "import matplotlib.pyplot as plt\n",
    "import numpy as np\n",
    "import sympy as sp"
   ]
  },
  {
   "cell_type": "markdown",
   "id": "3308feb8-a3d6-4d2d-bb57-d124d7f79537",
   "metadata": {},
   "source": [
    "# 1) Интерполяционный многочлен Лагранжа для функции, заданной таблично."
   ]
  },
  {
   "cell_type": "code",
   "execution_count": 2,
   "id": "7ea63e63-d3b7-4ae4-9c7e-97e8fd8a288b",
   "metadata": {},
   "outputs": [],
   "source": [
    "x = sp.symbols(\"x\")"
   ]
  },
  {
   "cell_type": "code",
   "execution_count": 3,
   "id": "dbfd86ba-a262-4088-a948-005d0c3bc5be",
   "metadata": {},
   "outputs": [],
   "source": [
    "x_numbers = np.array([-2, -1, 0, 1, 3])\n",
    "y_numbers = np.array([86, 17, 2, -7, 161])\n",
    "n = len(x_numbers)"
   ]
  },
  {
   "cell_type": "code",
   "execution_count": 4,
   "id": "5ddfa698-0b45-4ce8-a7f7-473f07fb4cb5",
   "metadata": {},
   "outputs": [
    {
     "data": {
      "text/latex": [
       "$\\displaystyle x \\left(x - 3\\right) \\left(x - 1\\right) \\left(x + 1\\right) \\left(x + 2\\right)$"
      ],
      "text/plain": [
       "x*(x - 3)*(x - 1)*(x + 1)*(x + 2)"
      ]
     },
     "execution_count": 4,
     "metadata": {},
     "output_type": "execute_result"
    }
   ],
   "source": [
    "w = sp.prod([x - i for i in x_numbers])\n",
    "w"
   ]
  },
  {
   "cell_type": "code",
   "execution_count": 5,
   "id": "c7e88af3-5700-4993-8d9d-9bf648be934a",
   "metadata": {},
   "outputs": [],
   "source": [
    "df_w = sp.diff(w)"
   ]
  },
  {
   "cell_type": "code",
   "execution_count": 6,
   "id": "758b4424-2e83-4562-8fe3-8363d7918b0e",
   "metadata": {},
   "outputs": [
    {
     "data": {
      "text/latex": [
       "$\\displaystyle 3 x^{4} - 2 x^{3} - 10 x + 2$"
      ],
      "text/plain": [
       "3*x**4 - 2*x**3 - 10*x + 2"
      ]
     },
     "execution_count": 6,
     "metadata": {},
     "output_type": "execute_result"
    }
   ],
   "source": [
    "L = sp.simplify(sum([y_numbers[i] * (w/((x-x_numbers[i])*df_w.subs({x: x_numbers[i]}))) \n",
    "                     for i in range(n)]))\n",
    "L"
   ]
  },
  {
   "cell_type": "code",
   "execution_count": 7,
   "id": "65f8dc01-d437-4ccc-a5cc-2ad3956e0d44",
   "metadata": {},
   "outputs": [
    {
     "data": {
      "text/plain": [
       "[86, 17, 2, -7, 161]"
      ]
     },
     "execution_count": 7,
     "metadata": {},
     "output_type": "execute_result"
    }
   ],
   "source": [
    "[L.subs({x:x_numbers[i]}) for i in range(n)]"
   ]
  },
  {
   "cell_type": "markdown",
   "id": "6e38d37e-7526-4d80-92a4-e550d9ec7f49",
   "metadata": {},
   "source": [
    "# 2) Интерполяционный многочлен Лагранжа для заданной функции 𝑓(𝑥) с заданными узлами. Погрешность интерполяции."
   ]
  },
  {
   "cell_type": "code",
   "execution_count": 50,
   "id": "e27a0ce4-8b9f-48ad-89e5-6a333dba3e36",
   "metadata": {},
   "outputs": [],
   "source": [
    "x = sp.symbols(\"x\")"
   ]
  },
  {
   "cell_type": "code",
   "execution_count": 51,
   "id": "97247870-bea3-4d97-b106-696dadae9d1f",
   "metadata": {},
   "outputs": [],
   "source": [
    "f = 3**(-x)"
   ]
  },
  {
   "cell_type": "code",
   "execution_count": 53,
   "id": "0be8cf86-fee0-4a31-9d87-f334c7ed3506",
   "metadata": {},
   "outputs": [],
   "source": [
    "x_numbers = np.array([-2, -1, 0, 1])\n",
    "n = len(x_numbers)"
   ]
  },
  {
   "cell_type": "code",
   "execution_count": 54,
   "id": "cb5e38cc-9910-4dc2-8e01-079911438857",
   "metadata": {},
   "outputs": [
    {
     "data": {
      "text/plain": [
       "[9, 3, 1, 1/3]"
      ]
     },
     "execution_count": 54,
     "metadata": {},
     "output_type": "execute_result"
    }
   ],
   "source": [
    "y_numbers = [f.subs({x:x_numbers[i]}) for i in range(n)]\n",
    "y_numbers"
   ]
  },
  {
   "cell_type": "code",
   "execution_count": 55,
   "id": "c96d3ade-de25-4f67-b5ee-c93bec900d61",
   "metadata": {},
   "outputs": [],
   "source": [
    "w = sp.prod([x - i for i in x_numbers])"
   ]
  },
  {
   "cell_type": "code",
   "execution_count": 56,
   "id": "2b941ab8-c7d3-4e65-8636-17d1cc5baaae",
   "metadata": {},
   "outputs": [],
   "source": [
    "df_w = sp.diff(w)"
   ]
  },
  {
   "cell_type": "code",
   "execution_count": 57,
   "id": "1b4c68ae-11b1-4757-9394-16722323a25f",
   "metadata": {},
   "outputs": [
    {
     "data": {
      "text/latex": [
       "$\\displaystyle - \\frac{4 x^{3}}{9} + \\frac{2 x^{2}}{3} - \\frac{8 x}{9} + 1$"
      ],
      "text/plain": [
       "-4*x**3/9 + 2*x**2/3 - 8*x/9 + 1"
      ]
     },
     "execution_count": 57,
     "metadata": {},
     "output_type": "execute_result"
    }
   ],
   "source": [
    "L = sp.simplify(sum([y_numbers[i] * (w/((x-x_numbers[i])*df_w.subs({x: x_numbers[i]}))) \n",
    "                     for i in range(n)]))\n",
    "L"
   ]
  },
  {
   "cell_type": "code",
   "execution_count": 58,
   "id": "159b280e-1c03-44c1-ac35-038cc197e510",
   "metadata": {},
   "outputs": [
    {
     "data": {
      "text/plain": [
       "[9, 3, 1, 1/3]"
      ]
     },
     "execution_count": 58,
     "metadata": {},
     "output_type": "execute_result"
    }
   ],
   "source": [
    "[L.subs({x:x_numbers[i]}) for i in range(n)]"
   ]
  },
  {
   "cell_type": "markdown",
   "id": "85c6da03-6a6e-42f9-8d1b-9e0e2d335ca5",
   "metadata": {},
   "source": [
    "Оценка погрешности"
   ]
  },
  {
   "cell_type": "code",
   "execution_count": 59,
   "id": "1b17a3eb-abed-4b2e-94b7-68eae8726f3a",
   "metadata": {},
   "outputs": [],
   "source": [
    "f = 3**(-x)"
   ]
  },
  {
   "cell_type": "code",
   "execution_count": 60,
   "id": "978a90be-99b2-4463-866e-b45d02a2a069",
   "metadata": {},
   "outputs": [
    {
     "data": {
      "text/latex": [
       "$\\displaystyle - 3^{- x} \\log{\\left(3 \\right)}$"
      ],
      "text/plain": [
       "-3**(-x)*log(3)"
      ]
     },
     "execution_count": 60,
     "metadata": {},
     "output_type": "execute_result"
    }
   ],
   "source": [
    "for _ in range(n + 1):\n",
    "    df_f = sp.diff(f)\n",
    "df_f"
   ]
  },
  {
   "cell_type": "code",
   "execution_count": 61,
   "id": "0ff14923-113d-49e8-930f-6da8430c5b7e",
   "metadata": {},
   "outputs": [
    {
     "data": {
      "text/latex": [
       "$\\displaystyle 9.0 \\log{\\left(3 \\right)}$"
      ],
      "text/plain": [
       "9.0*log(3)"
      ]
     },
     "execution_count": 61,
     "metadata": {},
     "output_type": "execute_result"
    }
   ],
   "source": [
    "M = max([np.abs(df_f.subs({x: i})) for i in np.linspace(np.min(x_numbers), np.max(x_numbers), 100)])\n",
    "M"
   ]
  },
  {
   "cell_type": "code",
   "execution_count": 63,
   "id": "c8b1788d-35ca-4396-b86e-75195b125f7d",
   "metadata": {},
   "outputs": [
    {
     "data": {
      "text/latex": [
       "$\\displaystyle 0.075 \\log{\\left(3 \\right)} \\left|{x \\left(x - 1\\right) \\left(x + 1\\right) \\left(x + 2\\right)}\\right|$"
      ],
      "text/plain": [
       "0.075*log(3)*Abs(x*(x - 1)*(x + 1)*(x + 2))"
      ]
     },
     "execution_count": 63,
     "metadata": {},
     "output_type": "execute_result"
    }
   ],
   "source": [
    "r = (M / sp.prod([i + 1 for i in range(n + 1)]))*abs(w)\n",
    "r"
   ]
  },
  {
   "cell_type": "code",
   "execution_count": 64,
   "id": "0998a503-99a8-44b7-a211-051564fc2019",
   "metadata": {},
   "outputs": [
    {
     "data": {
      "text/latex": [
       "$\\displaystyle 0.0823374902958209$"
      ],
      "text/plain": [
       "0.0823374902958209"
      ]
     },
     "execution_count": 64,
     "metadata": {},
     "output_type": "execute_result"
    }
   ],
   "source": [
    "sp.simplify(max([np.abs(r.subs({x: i})) for i in np.linspace(np.min(x_numbers), np.max(x_numbers), 100)]))"
   ]
  },
  {
   "cell_type": "markdown",
   "id": "91884fe6-5b70-453a-80e7-084ab878167a",
   "metadata": {},
   "source": [
    "# 3) Интерполяционный многочлен Ньютона для функции, заданной таблично."
   ]
  },
  {
   "cell_type": "code",
   "execution_count": 108,
   "id": "b56b8606-f4c4-44c1-a841-571305392b1d",
   "metadata": {},
   "outputs": [],
   "source": [
    "x = sp.symbols(\"x\")"
   ]
  },
  {
   "cell_type": "code",
   "execution_count": 109,
   "id": "7bb2676f-2342-4740-b1e1-d03493234de1",
   "metadata": {},
   "outputs": [],
   "source": [
    "x_numbers = np.array([-2, -1, 0, 1, 3])\n",
    "y_numbers = np.array([86, 17, 2, -7, 161])\n",
    "n = len(x_numbers)"
   ]
  },
  {
   "cell_type": "code",
   "execution_count": 110,
   "id": "809df5a6-72b1-4316-bad4-6017f43c246b",
   "metadata": {},
   "outputs": [],
   "source": [
    "f = np.zeros((5, 5))\n",
    "for i in range(n):\n",
    "    f[0][i] = y_numbers[i]"
   ]
  },
  {
   "cell_type": "code",
   "execution_count": 111,
   "id": "3acc07d4-0745-43d5-97f3-7dbdb7e5cb58",
   "metadata": {},
   "outputs": [
    {
     "data": {
      "text/plain": [
       "array([[ 86., -69.,  27.,  -8.,   3.],\n",
       "       [ 17., -15.,   3.,   7.,   0.],\n",
       "       [  2.,  -9.,  31.,   0.,   0.],\n",
       "       [ -7.,  84.,   0.,   0.,   0.],\n",
       "       [161.,   0.,   0.,   0.,   0.]])"
      ]
     },
     "execution_count": 111,
     "metadata": {},
     "output_type": "execute_result"
    }
   ],
   "source": [
    "for k in range(1, n):\n",
    "    for i in range(n - k):\n",
    "        f[k][i] = (f[k - 1][i + 1] - f[k - 1][i]) / (x_numbers[i + k]-x_numbers[i])\n",
    "f.T"
   ]
  },
  {
   "cell_type": "code",
   "execution_count": 112,
   "id": "3815308f-94a1-4e28-aa83-351710a822a5",
   "metadata": {},
   "outputs": [
    {
     "data": {
      "text/latex": [
       "$\\displaystyle 3.0 x \\left(x - 1\\right) \\left(x + 1\\right) \\left(x + 2\\right) - 8.0 x \\left(x + 1\\right) \\left(x + 2\\right) - 69.0 x + 27.0 \\left(x + 1\\right) \\left(x + 2\\right) - 52.0$"
      ],
      "text/plain": [
       "3.0*x*(x - 1)*(x + 1)*(x + 2) - 8.0*x*(x + 1)*(x + 2) - 69.0*x + 27.0*(x + 1)*(x + 2) - 52.0"
      ]
     },
     "execution_count": 112,
     "metadata": {},
     "output_type": "execute_result"
    }
   ],
   "source": [
    "w = 1\n",
    "N = f[0][0]\n",
    "for i in range(1, n):\n",
    "    w *= (x - x_numbers[i - 1])\n",
    "    N += f[i][0] * w\n",
    "N"
   ]
  },
  {
   "cell_type": "code",
   "execution_count": 113,
   "id": "35e309a5-2c0c-47e5-ae3f-44e2933c162c",
   "metadata": {},
   "outputs": [
    {
     "data": {
      "text/latex": [
       "$\\displaystyle 3.0 x^{4} - 2.0 x^{3} - 10.0 x + 2.0$"
      ],
      "text/plain": [
       "3.0*x**4 - 2.0*x**3 - 10.0*x + 2.0"
      ]
     },
     "execution_count": 113,
     "metadata": {},
     "output_type": "execute_result"
    }
   ],
   "source": [
    "sp.simplify(N)"
   ]
  },
  {
   "cell_type": "code",
   "execution_count": 114,
   "id": "2834a853-c879-487e-9996-0e570a3a01dd",
   "metadata": {},
   "outputs": [
    {
     "data": {
      "text/plain": [
       "[86.0000000000000,\n",
       " 17.0000000000000,\n",
       " 2.00000000000000,\n",
       " -7.00000000000000,\n",
       " 161.000000000000]"
      ]
     },
     "execution_count": 114,
     "metadata": {},
     "output_type": "execute_result"
    }
   ],
   "source": [
    "[N.subs({x:x_numbers[i]}) for i in range(n)]"
   ]
  },
  {
   "cell_type": "markdown",
   "id": "d95a45d0-d212-4195-a5e8-a4bbbe0ed33e",
   "metadata": {},
   "source": [
    "# 4) Интерполяционный многочлен Ньютона для заданной функции 𝑓(𝑥) с заданными узлами. Погрешность интерполяции."
   ]
  },
  {
   "cell_type": "code",
   "execution_count": 91,
   "id": "cbc522eb-b104-4e7f-9c5c-86de6f13b0c0",
   "metadata": {},
   "outputs": [],
   "source": [
    "x = sp.symbols(\"x\")"
   ]
  },
  {
   "cell_type": "code",
   "execution_count": 92,
   "id": "cfa3f415-5ff8-4772-891d-8a6f1de95453",
   "metadata": {},
   "outputs": [],
   "source": [
    "f = 3**(-x)"
   ]
  },
  {
   "cell_type": "code",
   "execution_count": 93,
   "id": "d933f627-8cb1-4e88-b864-6d90ddbe0e58",
   "metadata": {},
   "outputs": [],
   "source": [
    "x_numbers = np.array([-2, -1, 0, 1])\n",
    "n = len(x_numbers)"
   ]
  },
  {
   "cell_type": "code",
   "execution_count": 94,
   "id": "119d6581-6a2a-4729-8bda-428faf5ad1e2",
   "metadata": {},
   "outputs": [
    {
     "data": {
      "text/plain": [
       "[9, 3, 1, 1/3]"
      ]
     },
     "execution_count": 94,
     "metadata": {},
     "output_type": "execute_result"
    }
   ],
   "source": [
    "y_numbers = [f.subs({x:x_numbers[i]}) for i in range(n)]\n",
    "y_numbers"
   ]
  },
  {
   "cell_type": "code",
   "execution_count": 95,
   "id": "ae593153-e90a-450d-9a9f-a3599a960fb7",
   "metadata": {},
   "outputs": [],
   "source": [
    "f = np.zeros((5, 5))\n",
    "for i in range(n):\n",
    "    f[0][i] = y_numbers[i]"
   ]
  },
  {
   "cell_type": "code",
   "execution_count": 96,
   "id": "b58464c4-d404-4bfe-8fe2-bc3f2eee440f",
   "metadata": {},
   "outputs": [
    {
     "data": {
      "text/plain": [
       "array([[ 9.        , -6.        ,  2.        , -0.44444444,  0.        ],\n",
       "       [ 3.        , -2.        ,  0.66666667,  0.        ,  0.        ],\n",
       "       [ 1.        , -0.66666667,  0.        ,  0.        ,  0.        ],\n",
       "       [ 0.33333333,  0.        ,  0.        ,  0.        ,  0.        ],\n",
       "       [ 0.        ,  0.        ,  0.        ,  0.        ,  0.        ]])"
      ]
     },
     "execution_count": 96,
     "metadata": {},
     "output_type": "execute_result"
    }
   ],
   "source": [
    "for k in range(1, n):\n",
    "    for i in range(n - k):\n",
    "        f[k][i] = (f[k - 1][i + 1] - f[k - 1][i]) / (x_numbers[i + k]-x_numbers[i])\n",
    "f.T"
   ]
  },
  {
   "cell_type": "code",
   "execution_count": 97,
   "id": "598c039b-f414-4138-aba7-084e6c9007a5",
   "metadata": {},
   "outputs": [
    {
     "data": {
      "text/latex": [
       "$\\displaystyle - 0.444444444444444 x \\left(x + 1\\right) \\left(x + 2\\right) - 6.0 x + 2.0 \\left(x + 1\\right) \\left(x + 2\\right) - 3.0$"
      ],
      "text/plain": [
       "-0.444444444444444*x*(x + 1)*(x + 2) - 6.0*x + 2.0*(x + 1)*(x + 2) - 3.0"
      ]
     },
     "execution_count": 97,
     "metadata": {},
     "output_type": "execute_result"
    }
   ],
   "source": [
    "w = 1\n",
    "N = f[0][0]\n",
    "for i in range(1, n):\n",
    "    w *= (x - x_numbers[i - 1])\n",
    "    N += f[i][0] * w\n",
    "N"
   ]
  },
  {
   "cell_type": "code",
   "execution_count": 98,
   "id": "d7c18596-569f-41d3-a4b6-ba7c91c3954e",
   "metadata": {},
   "outputs": [
    {
     "data": {
      "text/latex": [
       "$\\displaystyle - 0.444444444444444 x^{3} + 0.666666666666667 x^{2} - 0.888888888888889 x + 1.0$"
      ],
      "text/plain": [
       "-0.444444444444444*x**3 + 0.666666666666667*x**2 - 0.888888888888889*x + 1.0"
      ]
     },
     "execution_count": 98,
     "metadata": {},
     "output_type": "execute_result"
    }
   ],
   "source": [
    "sp.simplify(N)"
   ]
  },
  {
   "cell_type": "code",
   "execution_count": 99,
   "id": "2dcc2423-88e1-4c7c-a1bc-c79e24ab1eb4",
   "metadata": {},
   "outputs": [
    {
     "data": {
      "text/plain": [
       "[9.00000000000000, 3.00000000000000, 1.00000000000000, 0.333333333333333]"
      ]
     },
     "execution_count": 99,
     "metadata": {},
     "output_type": "execute_result"
    }
   ],
   "source": [
    "[N.subs({x:x_numbers[i]}) for i in range(n)]"
   ]
  },
  {
   "cell_type": "markdown",
   "id": "486c3371-c828-4474-aa68-d0cd30d63944",
   "metadata": {},
   "source": [
    "Оценка погрешности"
   ]
  },
  {
   "cell_type": "code",
   "execution_count": 100,
   "id": "38e124e9-13e1-4b5d-a883-c21a70ecaba3",
   "metadata": {},
   "outputs": [],
   "source": [
    "f = 3**(-x)"
   ]
  },
  {
   "cell_type": "code",
   "execution_count": 101,
   "id": "a19f6da1-b331-4d99-be68-e71c03a05936",
   "metadata": {},
   "outputs": [
    {
     "data": {
      "text/latex": [
       "$\\displaystyle - 3^{- x} \\log{\\left(3 \\right)}$"
      ],
      "text/plain": [
       "-3**(-x)*log(3)"
      ]
     },
     "execution_count": 101,
     "metadata": {},
     "output_type": "execute_result"
    }
   ],
   "source": [
    "for _ in range(n + 1):\n",
    "    df_f = sp.diff(f)\n",
    "df_f"
   ]
  },
  {
   "cell_type": "code",
   "execution_count": 102,
   "id": "0dba84f1-b397-403c-8bc8-0acc1d33efbe",
   "metadata": {},
   "outputs": [
    {
     "data": {
      "text/latex": [
       "$\\displaystyle 9.0 \\log{\\left(3 \\right)}$"
      ],
      "text/plain": [
       "9.0*log(3)"
      ]
     },
     "execution_count": 102,
     "metadata": {},
     "output_type": "execute_result"
    }
   ],
   "source": [
    "M = max([np.abs(df_f.subs({x: i})) for i in np.linspace(np.min(x_numbers), np.max(x_numbers), 100)])\n",
    "M"
   ]
  },
  {
   "cell_type": "code",
   "execution_count": 103,
   "id": "21369c53-2bfb-499b-a4e6-7469e6965b30",
   "metadata": {},
   "outputs": [
    {
     "data": {
      "text/latex": [
       "$\\displaystyle 0.075 \\log{\\left(3 \\right)} \\left|{x \\left(x - 1\\right) \\left(x + 1\\right) \\left(x + 2\\right)}\\right|$"
      ],
      "text/plain": [
       "0.075*log(3)*Abs(x*(x - 1)*(x + 1)*(x + 2))"
      ]
     },
     "execution_count": 103,
     "metadata": {},
     "output_type": "execute_result"
    }
   ],
   "source": [
    "r = (M / sp.prod([i + 1 for i in range(n + 1)]))*abs(sp.prod([x - i for i in x_numbers]))\n",
    "r"
   ]
  },
  {
   "cell_type": "code",
   "execution_count": 104,
   "id": "87b96b8a-e673-4009-aab8-5b9a2ad9d943",
   "metadata": {},
   "outputs": [
    {
     "data": {
      "text/latex": [
       "$\\displaystyle 0.0823374902958209$"
      ],
      "text/plain": [
       "0.0823374902958209"
      ]
     },
     "execution_count": 104,
     "metadata": {},
     "output_type": "execute_result"
    }
   ],
   "source": [
    "sp.simplify(max([np.abs(r.subs({x: i})) for i in np.linspace(np.min(x_numbers), np.max(x_numbers), 100)]))"
   ]
  },
  {
   "cell_type": "markdown",
   "id": "73ed5d90-e410-411d-ae14-3784bceae62b",
   "metadata": {},
   "source": [
    "# 5) Интерполяционный многочлен Эрмита."
   ]
  },
  {
   "cell_type": "code",
   "execution_count": 5,
   "id": "58e45e53-f05e-4911-bd8d-ff5a79cba2c6",
   "metadata": {},
   "outputs": [],
   "source": [
    "x = sp.symbols(\"x\")\n",
    "a = list()\n",
    "for i in range(8):\n",
    "    i = sp.symbols(\"a\" + str(i))\n",
    "    a.append(i)"
   ]
  },
  {
   "cell_type": "code",
   "execution_count": 18,
   "id": "04eb46c8-b491-49ef-8f1c-64dabf911787",
   "metadata": {},
   "outputs": [],
   "source": [
    "x_numbers = np.array([0, 1, 2])\n",
    "y_numbers = np.array([2, 3, 130])\n",
    "y_numbers_diff_1 = np.array([0, 7, 448])\n",
    "y_numbers_diff_2 = np.array([0, 42, None])\n",
    "n = len(x_numbers)"
   ]
  },
  {
   "cell_type": "code",
   "execution_count": 23,
   "id": "9ff35a8f-c1e8-4a9b-b867-0a5bf7751538",
   "metadata": {},
   "outputs": [
    {
     "data": {
      "text/latex": [
       "$\\displaystyle a_{0} + a_{1} x + a_{2} x^{2} + a_{3} x^{3} + a_{4} x^{4} + a_{5} x^{5} + a_{6} x^{6} + a_{7} x^{7}$"
      ],
      "text/plain": [
       "a0 + a1*x + a2*x**2 + a3*x**3 + a4*x**4 + a5*x**5 + a6*x**6 + a7*x**7"
      ]
     },
     "execution_count": 23,
     "metadata": {},
     "output_type": "execute_result"
    }
   ],
   "source": [
    "H = 0\n",
    "for i in range(8):\n",
    "    H += a[i]*x**i\n",
    "dH1 = sp.diff(H, x)\n",
    "dH2 = sp.diff(dH1, x)\n",
    "H"
   ]
  },
  {
   "cell_type": "code",
   "execution_count": 29,
   "id": "1cfe7f36-a928-449c-abe8-5daab8f35b01",
   "metadata": {},
   "outputs": [
    {
     "data": {
      "text/plain": [
       "{a0: 2, a1: 0, a2: 0, a3: 0, a4: 0, a5: 0, a6: 0, a7: 1}"
      ]
     },
     "execution_count": 29,
     "metadata": {},
     "output_type": "execute_result"
    }
   ],
   "source": [
    "solution = list()\n",
    "for i in range(3):\n",
    "    solution.append(H.subs({x:x_numbers[i]}) - y_numbers[i])\n",
    "for i in range(3):\n",
    "    solution.append(dH1.subs({x:x_numbers[i]}) - y_numbers_diff_1[i])\n",
    "for i in range(3):\n",
    "    if y_numbers_diff_2[i] != None:\n",
    "        solution.append(dH2.subs({x:x_numbers[i]}) - y_numbers_diff_2[i])\n",
    "solution1 = sp.solve(solution, (a[0], a[1], a[2], a[3], a[4], a[5], a[6], a[7]))\n",
    "solution1"
   ]
  },
  {
   "cell_type": "code",
   "execution_count": 53,
   "id": "0ec9045a-ce56-42c1-8297-270a567fc528",
   "metadata": {},
   "outputs": [
    {
     "data": {
      "text/latex": [
       "$\\displaystyle x^{7} + 2$"
      ],
      "text/plain": [
       "x**7 + 2"
      ]
     },
     "execution_count": 53,
     "metadata": {},
     "output_type": "execute_result"
    }
   ],
   "source": [
    "H1 = H.subs(solution1)\n",
    "H2 = dH1.subs(solution1)\n",
    "H3 = dH2.subs(solution1)\n",
    "H1"
   ]
  },
  {
   "cell_type": "code",
   "execution_count": 55,
   "id": "22d1f527-83a3-4c56-95aa-c8c577cde629",
   "metadata": {},
   "outputs": [
    {
     "name": "stdout",
     "output_type": "stream",
     "text": [
      "2 3 130 \n",
      "0 7 448 \n",
      "0 42 "
     ]
    }
   ],
   "source": [
    "for i in range(3):\n",
    "    print(H1.subs({x:x_numbers[i]}), end = \" \")\n",
    "print()\n",
    "for i in range(3):\n",
    "    print(H2.subs({x:x_numbers[i]}), end = \" \")\n",
    "print()\n",
    "for i in range(2):\n",
    "    print(H3.subs({x:x_numbers[i]}), end = \" \")"
   ]
  },
  {
   "cell_type": "markdown",
   "id": "dcb107c3-2c5c-48d2-9e4f-5f4c4432addd",
   "metadata": {},
   "source": [
    "# 6) Интерполяционный кубический сплайн для функции из 1)."
   ]
  },
  {
   "cell_type": "code",
   "execution_count": 2,
   "id": "cc3b9066-a70c-4eed-ac9e-53b093e7533b",
   "metadata": {},
   "outputs": [],
   "source": [
    "x_numbers = np.array([-2, -1, 0, 1, 3])\n",
    "y_numbers = np.array([86, 17, 2, -7, 161])\n",
    "n = len(x_numbers)"
   ]
  },
  {
   "cell_type": "code",
   "execution_count": 3,
   "id": "634c8cc0-0907-4bd0-abb0-8ad8d3a02a29",
   "metadata": {},
   "outputs": [
    {
     "data": {
      "text/plain": [
       "[M0, M1, M2, M3, M4]"
      ]
     },
     "execution_count": 3,
     "metadata": {},
     "output_type": "execute_result"
    }
   ],
   "source": [
    "x, h = sp.symbols(\"x, h \")\n",
    "M_num = list()\n",
    "for i in range(5):\n",
    "    i = sp.symbols(\"M\" + str(i))\n",
    "    M_num.append(i)\n",
    "M_num"
   ]
  },
  {
   "cell_type": "code",
   "execution_count": 4,
   "id": "4181759f-72a4-4daa-9b55-08f1844c3cae",
   "metadata": {},
   "outputs": [],
   "source": [
    "f = np.zeros((5, 5))\n",
    "for i in range(n):\n",
    "    f[0][i] = y_numbers[i]\n",
    "    \n",
    "for k in range(1, n):\n",
    "    for i in range(n - k):\n",
    "        f[k][i] = (f[k - 1][i + 1] - f[k - 1][i]) / (x_numbers[i + k]-x_numbers[i])\n",
    "f = f.T\n",
    "A = f[0][2]\n",
    "B = f[2][2]"
   ]
  },
  {
   "cell_type": "code",
   "execution_count": 5,
   "id": "95e98265-238d-4eeb-b92c-77f103dbfca9",
   "metadata": {},
   "outputs": [
    {
     "data": {
      "text/plain": [
       "{M0: 27.0000000000000,\n",
       " M1: 135.500000000000,\n",
       " M2: 297.000000000000,\n",
       " M3: -99.5000000000000,\n",
       " M4: 31.0000000000000}"
      ]
     },
     "execution_count": 5,
     "metadata": {},
     "output_type": "execute_result"
    }
   ],
   "source": [
    "solution = list()\n",
    "h = 0\n",
    "for i in range(1, 4):\n",
    "    h = x_numbers[i + 1] - x_numbers[i]\n",
    "    h_ = x_numbers[i] - x_numbers[i - 1]\n",
    "    solution.append((M_num[i-1] * h_) / 6 + (M_num[i] * (h_ + h)) / 3 + (M_num[i + 1] * h) / 6 - \n",
    "                    (y_numbers[i + 1] - y_numbers[i]) / h + (y_numbers[i] - y_numbers[i - 1]) / h_)\n",
    "solution.append(M_num[0] - A)\n",
    "solution.append(M_num[4] - B)\n",
    "sol = sp.solve(solution, (M_num[0], M_num[1], M_num[2], M_num[3], M_num[4]))\n",
    "sol"
   ]
  },
  {
   "cell_type": "code",
   "execution_count": 6,
   "id": "eaa3fa79-e70d-4359-91c8-832f0c41fe24",
   "metadata": {},
   "outputs": [],
   "source": [
    "s3 = list()\n",
    "h = 0\n",
    "for i in range(4):\n",
    "    h = x_numbers[i + 1] - x_numbers[i]\n",
    "    #tmp = - M_num[i] / (6 *h) * (x - x_numbers[i + 1]) ** 3 + M_num[i + 1] / (6 *h) * (x - x_numbers[i]) ** 3 + ((y_numbers[i + 1] - y_numbers[i]) / h - h/6 * (M_num[i + 1] - M_num[i])) * (x - x_numbers[i]) + y_numbers[i] - M_num[i] * h * h /6\n",
    "    #tmp.subs(sol)\n",
    "    s3.append((- M_num[i] / (6 *h) * (x - x_numbers[i + 1]) ** 3 + M_num[i + 1] / (6 *h) * (x - x_numbers[i]) ** 3 + ((y_numbers[i + 1] - y_numbers[i]) / h - h/6 * (M_num[i + 1] - M_num[i])) * (x - x_numbers[i]) + y_numbers[i] - M_num[i] * h * h /6).subs(sol))"
   ]
  },
  {
   "cell_type": "code",
   "execution_count": 7,
   "id": "b232eee9-a85b-4109-863e-cf8d08002487",
   "metadata": {},
   "outputs": [
    {
     "data": {
      "text/plain": [
       "[-87.0833333333333*x - 4.5*(x + 1)**3 + 22.5833333333333*(x + 2)**3 - 92.6666666666667,\n",
       " -22.5833333333333*x**3 - 41.9166666666667*x + 49.5*(x + 1)**3 - 47.5,\n",
       " -16.5833333333333*x**3 + 57.0833333333333*x - 49.5*(x - 1)**3 - 47.5,\n",
       " 40.5*x + 8.29166666666667*(x - 3)**3 + 2.58333333333333*(x - 1)**3 + 18.8333333333333]"
      ]
     },
     "execution_count": 7,
     "metadata": {},
     "output_type": "execute_result"
    }
   ],
   "source": [
    "s3"
   ]
  },
  {
   "cell_type": "code",
   "execution_count": 8,
   "id": "2e9ebb5f-89ef-48be-8795-773fa2f36184",
   "metadata": {},
   "outputs": [
    {
     "name": "stdout",
     "output_type": "stream",
     "text": [
      "-87.0833333333333*x - 4.5*(x + 1)**3 + 22.5833333333333*(x + 2)**3 - 92.6666666666667 - [-2, -1]\n",
      "-22.5833333333333*x**3 - 41.9166666666667*x + 49.5*(x + 1)**3 - 47.5 - [-1, 0]\n",
      "-16.5833333333333*x**3 + 57.0833333333333*x - 49.5*(x - 1)**3 - 47.5 - [0, 1]\n",
      "40.5*x + 8.29166666666667*(x - 3)**3 + 2.58333333333333*(x - 1)**3 + 18.8333333333333 - [1, 3]\n"
     ]
    }
   ],
   "source": [
    "for i in range(4):\n",
    "    print(str(s3[i]) + ' - [' +  str(x_numbers[i]) + ', ' +  str(x_numbers[i+1]) + ']')"
   ]
  },
  {
   "cell_type": "markdown",
   "id": "5594bfe3-a772-4137-93dd-e708e54c8fe6",
   "metadata": {},
   "source": [
    "# 7) Интерполяционный кубический сплайн для функции из 2)."
   ]
  },
  {
   "cell_type": "code",
   "execution_count": 166,
   "id": "320ba8b8-5df1-4ce7-89d3-46ab805020a7",
   "metadata": {},
   "outputs": [
    {
     "data": {
      "text/plain": [
       "[M0, M1, M2, M3]"
      ]
     },
     "execution_count": 166,
     "metadata": {},
     "output_type": "execute_result"
    }
   ],
   "source": [
    "x = sp.symbols(\"x\")\n",
    "M_num = list()\n",
    "for i in range(4):\n",
    "    i = sp.symbols(\"M\" + str(i))\n",
    "    M_num.append(i)\n",
    "M_num"
   ]
  },
  {
   "cell_type": "code",
   "execution_count": 167,
   "id": "08428e6a-558d-4cc4-a3e3-3d5bbe6cceb0",
   "metadata": {},
   "outputs": [],
   "source": [
    "f = 3**(-x)"
   ]
  },
  {
   "cell_type": "code",
   "execution_count": 168,
   "id": "f2f19b24-ad0b-49e9-9441-87ab7057cdc9",
   "metadata": {},
   "outputs": [],
   "source": [
    "x_numbers = np.array([-2, -1, 0, 1])\n",
    "n = len(x_numbers)"
   ]
  },
  {
   "cell_type": "code",
   "execution_count": 169,
   "id": "53d75daf-f51e-41d6-8e39-754e65bbcd66",
   "metadata": {},
   "outputs": [
    {
     "data": {
      "text/plain": [
       "[9, 3, 1, 1/3]"
      ]
     },
     "execution_count": 169,
     "metadata": {},
     "output_type": "execute_result"
    }
   ],
   "source": [
    "y_numbers = [f.subs({x:x_numbers[i]}) for i in range(n)]\n",
    "y_numbers"
   ]
  },
  {
   "cell_type": "code",
   "execution_count": 170,
   "id": "c55902ba-8343-4468-a85f-5b16a86b302c",
   "metadata": {},
   "outputs": [],
   "source": [
    "df1 = sp.diff(f, x)\n",
    "df2 = sp.diff(df1, x)"
   ]
  },
  {
   "cell_type": "code",
   "execution_count": 171,
   "id": "e07bb793-67ef-4403-a5a1-a0830d49bd53",
   "metadata": {},
   "outputs": [
    {
     "data": {
      "text/plain": [
       "{M0: 9*log(3)**2,\n",
       " M1: 88/15 - 107*log(3)**2/45,\n",
       " M2: 8/15 + 23*log(3)**2/45,\n",
       " M3: log(3)**2/3}"
      ]
     },
     "execution_count": 171,
     "metadata": {},
     "output_type": "execute_result"
    }
   ],
   "source": [
    "solution = list()\n",
    "h = 0\n",
    "for i in range(1, 3):\n",
    "    h = x_numbers[i + 1] - x_numbers[i]\n",
    "    h_ = x_numbers[i] - x_numbers[i - 1]\n",
    "    solution.append((M_num[i-1] * h_) / 6 + (M_num[i] * (h_ + h)) / 3 + (M_num[i + 1] * h) / 6 - \n",
    "                    (y_numbers[i + 1] - y_numbers[i]) / h + (y_numbers[i] - y_numbers[i - 1]) / h_)\n",
    "solution.append(M_num[0] - df2.subs({x:x_numbers[0]}))\n",
    "solution.append(M_num[3] - df2.subs({x:x_numbers[3]}))\n",
    "sol = sp.solve(solution, (M_num[0], M_num[1], M_num[2], M_num[3]))\n",
    "sol"
   ]
  },
  {
   "cell_type": "code",
   "execution_count": 172,
   "id": "1e3b59d9-61fa-4a59-85dd-51c2d5f4f552",
   "metadata": {},
   "outputs": [],
   "source": [
    "global s3\n",
    "s3 = list()\n",
    "h = 0\n",
    "for i in range(3):\n",
    "    h = x_numbers[i + 1] - x_numbers[i]\n",
    "    s3.append(((-M_num[i]) / (6 *h) * ((x - x_numbers[i + 1]) ** 3) + M_num[i + 1] / (6 *h) * ((x - x_numbers[i]) ** 3) + \n",
    "               (((y_numbers[i + 1] - y_numbers[i]) / h - h/6 * (M_num[i + 1] - M_num[i])) * (x - x_numbers[i])) + y_numbers[i] - (M_num[i] * h * h )/6).subs(sol))"
   ]
  },
  {
   "cell_type": "code",
   "execution_count": 173,
   "id": "6b092525-96c8-4476-9532-fab38ab627f0",
   "metadata": {},
   "outputs": [
    {
     "name": "stdout",
     "output_type": "stream",
     "text": [
      "-4.68904493357021*x + 3.9957469983127*(0.5*x + 1)**3 - 1.81042344121887*(x + 1.0)**3 - 2.1885133083593 - [-2, -1]\n",
      "-0.499468374789088*x**3 - 1.69223468483569*x + 0.191703059624776*(x + 1.0)**3 + 0.808296940375224 - [-1, 0]\n",
      "0.0670527200451434*x**3 - 0.542016327087035*x - 0.191703059624776*(x - 1.0)**3 + 0.808296940375224 - [0, 1]\n"
     ]
    }
   ],
   "source": [
    "for i in range(3):\n",
    "    s3[i] = sp.N(s3[i])\n",
    "for i in range(3):\n",
    "    print(str(s3[i]) + ' - [' +  str(x_numbers[i]) + ', ' +  str(x_numbers[i+1]) + ']')"
   ]
  },
  {
   "cell_type": "code",
   "execution_count": 174,
   "id": "476df1a9-dd35-49fb-bade-69a37f5fd124",
   "metadata": {},
   "outputs": [],
   "source": [
    "def s(num):\n",
    "    for i in range(n - 1):\n",
    "        if x_numbers[i] < num < x_numbers[i+1]:\n",
    "            return s3[i].subs({x:num})"
   ]
  },
  {
   "cell_type": "code",
   "execution_count": 175,
   "id": "d3f58ca2-f8e7-403c-9e2f-e1d327f3ed56",
   "metadata": {},
   "outputs": [],
   "source": [
    "f = 3**(-x)\n",
    "f1 = sp.lambdify(x, f)\n",
    "f2 = np.vectorize(s)"
   ]
  },
  {
   "cell_type": "code",
   "execution_count": 178,
   "id": "8d30e78d-b4f6-4f7e-9c4a-c52cbdee76a3",
   "metadata": {},
   "outputs": [],
   "source": [
    "t = np.arange(x_numbers[0], x_numbers[3], 0.01)"
   ]
  },
  {
   "cell_type": "code",
   "execution_count": 179,
   "id": "038e175c-b5ce-4f3f-9e7f-23760ce77c3d",
   "metadata": {},
   "outputs": [
    {
     "data": {
      "image/png": "[encoded data removed]",
      "text/plain": [
       "<Figure size 432x288 with 1 Axes>"
      ]
     },
     "metadata": {
      "needs_background": "light"
     },
     "output_type": "display_data"
    }
   ],
   "source": [
    "plt.plot(t, f1(t), label = 'f', linewidth=5.0)\n",
    "plt.plot(t, f2(t), label = 's')\n",
    "plt.grid()\n",
    "plt.legend()\n",
    "plt.show()"
   ]
  },
  {
   "cell_type": "markdown",
   "id": "8fccb4d0-439a-4ea4-93a8-df1da0023311",
   "metadata": {},
   "source": [
    "# 8) Метод наименьших квадратов, прямая линейной регрессии, аппроксимирующаю функцию, заданную таблично."
   ]
  },
  {
   "cell_type": "code",
   "execution_count": 164,
   "id": "3f80493f-d3fb-4052-a4af-0e5398c89ae9",
   "metadata": {},
   "outputs": [],
   "source": [
    "x = sp.symbols(\"x\")"
   ]
  },
  {
   "cell_type": "code",
   "execution_count": 165,
   "id": "c559b3f9-10c8-40fd-8596-a8eb52bd9e8b",
   "metadata": {},
   "outputs": [],
   "source": [
    "x_numbers = np.array([-2, -1, 1, 2, 3, 4, 5])\n",
    "y_numbers = np.array([3.121, 3.314, 3.276, 3.198, 3.155, 3.142, 3.211])\n",
    "n = len(x_numbers)\n",
    "m = 1"
   ]
  },
  {
   "cell_type": "code",
   "execution_count": 166,
   "id": "07b3a500-0cdd-4cad-90fc-b745b49e8e7a",
   "metadata": {},
   "outputs": [
    {
     "data": {
      "text/plain": [
       "[a0, a1]"
      ]
     },
     "execution_count": 166,
     "metadata": {},
     "output_type": "execute_result"
    }
   ],
   "source": [
    "a_list = list()\n",
    "for i in range(m + 1):\n",
    "    i = sp.symbols(\"a\" + str(i))\n",
    "    a_list.append(i)\n",
    "a_list"
   ]
  },
  {
   "cell_type": "code",
   "execution_count": 167,
   "id": "29be04b2-c18a-4081-9f7c-fbc35eead036",
   "metadata": {},
   "outputs": [
    {
     "data": {
      "text/plain": [
       "([7, 12, 60], [22.416999999999998, 38.204])"
      ]
     },
     "execution_count": 167,
     "metadata": {},
     "output_type": "execute_result"
    }
   ],
   "source": [
    "s = list()\n",
    "t = list()\n",
    "for k in range(2*m + 1):\n",
    "    s.append(sum(x_numbers[i] ** k for i in range(n)))\n",
    "s[0] = n\n",
    "for k in range(m + 1):\n",
    "    t.append(sum(y_numbers[i] * (x_numbers[i] ** k) for i in range(n)))\n",
    "s, t"
   ]
  },
  {
   "cell_type": "code",
   "execution_count": 168,
   "id": "a4755531-cf00-4443-8b8a-8ac2aa612a0e",
   "metadata": {},
   "outputs": [
    {
     "data": {
      "text/plain": [
       "([7*a0 + 12*a1 - 22.417, 12*a0 + 60*a1 - 38.204],\n",
       " {a0: 3.21221739130435, a1: -0.00571014492753623})"
      ]
     },
     "execution_count": 168,
     "metadata": {},
     "output_type": "execute_result"
    }
   ],
   "source": [
    "solution = list()\n",
    "for i in range(m + 1):\n",
    "    solution.append(s[i] * a_list[0] + s[i + 1] * a_list[1] - t[i])\n",
    "sol = sp.solve(solution, (a_list[0], a_list[1]))\n",
    "solution, sol"
   ]
  },
  {
   "cell_type": "code",
   "execution_count": 169,
   "id": "71b4c67f-35ba-48cd-93c2-b8649910e40b",
   "metadata": {},
   "outputs": [
    {
     "data": {
      "text/latex": [
       "$\\displaystyle 3.21221739130435 - 0.00571014492753623 x$"
      ],
      "text/plain": [
       "3.21221739130435 - 0.00571014492753623*x"
      ]
     },
     "execution_count": 169,
     "metadata": {},
     "output_type": "execute_result"
    }
   ],
   "source": [
    "Q = sol[a_list[1]] * x + sol[a_list[0]]\n",
    "Q"
   ]
  },
  {
   "cell_type": "code",
   "execution_count": 170,
   "id": "6d59673e-5615-4715-8444-454b640d6122",
   "metadata": {},
   "outputs": [],
   "source": [
    "f1 = sp.lambdify(x, Q)"
   ]
  },
  {
   "cell_type": "code",
   "execution_count": 171,
   "id": "c4f7a026-255e-47c9-a0e5-a0d096f75600",
   "metadata": {},
   "outputs": [],
   "source": [
    "t = np.arange(x_numbers[0], x_numbers[n - 1], 0.1)"
   ]
  },
  {
   "cell_type": "code",
   "execution_count": 172,
   "id": "883d293b-4fbf-42a1-b47c-3035c8b29377",
   "metadata": {},
   "outputs": [
    {
     "data": {
      "image/png": "[encoded data removed]",
      "text/plain": [
       "<Figure size 640x480 with 1 Axes>"
      ]
     },
     "metadata": {},
     "output_type": "display_data"
    }
   ],
   "source": [
    "plt.plot(t, f1(t), label = 'Q')\n",
    "plt.scatter(x_numbers, y_numbers, label = 'Points')\n",
    "plt.grid()\n",
    "plt.legend()\n",
    "plt.show()"
   ]
  }
 ],
 "metadata": {
  "kernelspec": {
   "display_name": "Python 3 (ipykernel)",
   "language": "python",
   "name": "python3"
  },
  "language_info": {
   "codemirror_mode": {
    "name": "ipython",
    "version": 3
   },
   "file_extension": ".py",
   "mimetype": "text/x-python",
   "name": "python",
   "nbconvert_exporter": "python",
   "pygments_lexer": "ipython3",
   "version": "3.8.12"
  }
 },
 "nbformat": 4,
 "nbformat_minor": 5
}
