{
 "cells": [
  {
   "cell_type": "code",
   "execution_count": 15,
   "id": "39d3ce1c",
   "metadata": {},
   "outputs": [],
   "source": [
    "import sympy as sp\n",
    "import numpy as np\n",
    "from scipy import integrate, optimize\n",
    "import matplotlib.pyplot as plt"
   ]
  },
  {
   "cell_type": "markdown",
   "id": "98c836d9",
   "metadata": {},
   "source": [
    "#  1) Формулы прямоугольников"
   ]
  },
  {
   "cell_type": "code",
   "execution_count": 276,
   "id": "2d168ea8",
   "metadata": {},
   "outputs": [],
   "source": [
    "x = sp.symbols('x')\n",
    "n = 16\n",
    "f = x*x*x*sp.exp(-0.01*n*x**(3/2))\n",
    "a = 0.1*(n+3)\n",
    "b = 0.25*(n+3)\n",
    "eps = 0.001"
   ]
  },
  {
   "cell_type": "code",
   "execution_count": 277,
   "id": "5d5e94f2",
   "metadata": {},
   "outputs": [],
   "source": [
    "df = sp.diff(f, x)\n",
    "d2f = sp.diff(df, x)"
   ]
  },
  {
   "cell_type": "code",
   "execution_count": 278,
   "id": "ab014c91",
   "metadata": {},
   "outputs": [],
   "source": [
    "f1 = sp.lambdify(x, -df) # Минус т.к. мы ищем максимум функции\n",
    "f2 = sp.lambdify(x, -d2f)\n",
    "\n",
    "M1 = abs(optimize.minimize_scalar(f1, bounds = (a, b),method='Bounded').fun)\n",
    "M2 = abs(optimize.minimize_scalar(f2, bounds = (a, b),method='Bounded').fun)\n",
    "N1 = int(((b-a)**(2)*M1)/(2*eps))\n",
    "N2 = int(((b-a)**(2)*M2)/(24*eps))"
   ]
  },
  {
   "cell_type": "code",
   "execution_count": 279,
   "id": "1bc3b84b",
   "metadata": {},
   "outputs": [],
   "source": [
    "x_num = np.linspace(a, b, N1)\n",
    "x_num_for_middle = np.linspace(a, b, N2)"
   ]
  },
  {
   "cell_type": "code",
   "execution_count": 280,
   "id": "fd3b0f76",
   "metadata": {},
   "outputs": [],
   "source": [
    "sum_left = sum([(x_num[i+1] - x_num[i]) * f.subs({x:x_num[i]}) for i in range(len(x_num) - 1)])\n",
    "sum_right = sum([(x_num[i+1] - x_num[i]) * f.subs({x:x_num[i+1]}) for i in range(len(x_num) - 1)])\n",
    "sum_middle = sum([(x_num_for_middle[i+1] - x_num_for_middle[i]) * f.subs({x:(x_num_for_middle[i]+x_num_for_middle[i+1])/2}) \n",
    "                  for i in range(len(x_num_for_middle) - 1)])"
   ]
  },
  {
   "cell_type": "code",
   "execution_count": 281,
   "id": "5197314d",
   "metadata": {},
   "outputs": [
    {
     "data": {
      "text/plain": [
       "(38.2351201672786, 38.2367300788330, 38.2359263403804)"
      ]
     },
     "execution_count": 281,
     "metadata": {},
     "output_type": "execute_result"
    }
   ],
   "source": [
    "sum_left, sum_right, sum_middle"
   ]
  },
  {
   "cell_type": "code",
   "execution_count": 282,
   "id": "cbc85f71",
   "metadata": {},
   "outputs": [
    {
     "name": "stdout",
     "output_type": "stream",
     "text": [
      "38.23592512595571\n"
     ]
    }
   ],
   "source": [
    "f_lam = sp.lambdify(x, f)\n",
    "v, err = integrate.quad(f_lam, a, b)\n",
    "print(v)"
   ]
  },
  {
   "cell_type": "code",
   "execution_count": 283,
   "id": "25f2e742",
   "metadata": {},
   "outputs": [
    {
     "name": "stdout",
     "output_type": "stream",
     "text": [
      "True\n",
      "True\n",
      "True\n"
     ]
    }
   ],
   "source": [
    "print(abs(sum_left - v) < eps)\n",
    "print(abs(sum_right - v) < eps)\n",
    "print(abs(sum_middle - v) < eps)"
   ]
  },
  {
   "cell_type": "markdown",
   "id": "04d94fa3",
   "metadata": {},
   "source": [
    "# 2) Формула трапеций"
   ]
  },
  {
   "cell_type": "code",
   "execution_count": 339,
   "id": "d92f99a4",
   "metadata": {},
   "outputs": [],
   "source": [
    "x = sp.symbols('x')\n",
    "n = 16\n",
    "f = (x - 4.75)*(x - 3.8)*(x - 2.85)*(x - 1.9)/(9.774075 - 5.14425*x)\n",
    "a = 0.1*(n+3)\n",
    "b = 0.25*(n+3)\n",
    "eps = 0.001"
   ]
  },
  {
   "cell_type": "code",
   "execution_count": 340,
   "id": "13847c0d",
   "metadata": {},
   "outputs": [],
   "source": [
    "df = sp.diff(f, x)\n",
    "d2f = sp.diff(df, x)"
   ]
  },
  {
   "cell_type": "code",
   "execution_count": 341,
   "id": "9aac095a",
   "metadata": {},
   "outputs": [
    {
     "data": {
      "text/plain": [
       "134"
      ]
     },
     "execution_count": 341,
     "metadata": {},
     "output_type": "execute_result"
    }
   ],
   "source": [
    "f1 = sp.lambdify(x, -d2f) # Минус т.к. мы ищем максимум функции\n",
    "\n",
    "M = abs(optimize.minimize_scalar(f1, bounds = (a, b), method='Bounded').fun)\n",
    "N = int((((b-a)**(3)*M)/(12*eps))**(1/2))\n",
    "N"
   ]
  },
  {
   "cell_type": "code",
   "execution_count": 342,
   "id": "73bcea4c",
   "metadata": {},
   "outputs": [],
   "source": [
    "x_num = np.linspace(a, b, N)"
   ]
  },
  {
   "cell_type": "code",
   "execution_count": 343,
   "id": "a765c8cd",
   "metadata": {},
   "outputs": [],
   "source": [
    "result = sum([(x_num[i+1] - x_num[i]) * (f.subs({x:x_num[i]}) + f.subs({x:x_num[i+1]})) / 2 for i in range(len(x_num) - 1)])"
   ]
  },
  {
   "cell_type": "code",
   "execution_count": 344,
   "id": "e097c07e",
   "metadata": {},
   "outputs": [
    {
     "data": {
      "text/latex": [
       "$\\displaystyle 0.352485753725832$"
      ],
      "text/plain": [
       "0.352485753725832"
      ]
     },
     "execution_count": 344,
     "metadata": {},
     "output_type": "execute_result"
    }
   ],
   "source": [
    "result"
   ]
  },
  {
   "cell_type": "code",
   "execution_count": 345,
   "id": "37bb6b6f",
   "metadata": {},
   "outputs": [
    {
     "name": "stdout",
     "output_type": "stream",
     "text": [
      "0.3562499999999993\n"
     ]
    }
   ],
   "source": [
    "f_lam = sp.lambdify(x, f)\n",
    "v, err = integrate.quad(f_lam, a, b)\n",
    "print(v)"
   ]
  },
  {
   "cell_type": "code",
   "execution_count": 346,
   "id": "3186d9d6",
   "metadata": {},
   "outputs": [
    {
     "data": {
      "text/latex": [
       "$\\displaystyle \\text{False}$"
      ],
      "text/plain": [
       "False"
      ]
     },
     "execution_count": 346,
     "metadata": {},
     "output_type": "execute_result"
    }
   ],
   "source": [
    "abs(result - v) < eps"
   ]
  },
  {
   "cell_type": "markdown",
   "id": "1165425d",
   "metadata": {},
   "source": [
    "# 3) Формула Симпсона"
   ]
  },
  {
   "cell_type": "code",
   "execution_count": 255,
   "id": "4b440f0c",
   "metadata": {},
   "outputs": [],
   "source": [
    "x = sp.symbols('x')\n",
    "n = 16\n",
    "f = x*x*x*sp.exp(-0.01*n*x**(3/2))\n",
    "a = 0.1*(n+3)\n",
    "b = 0.25*(n+3)\n",
    "eps = 0.001"
   ]
  },
  {
   "cell_type": "code",
   "execution_count": 256,
   "id": "061b3002",
   "metadata": {},
   "outputs": [],
   "source": [
    "df = sp.diff(f, x)\n",
    "d2f = sp.diff(df, x)\n",
    "d3f = sp.diff(d2f, x)\n",
    "d4f = sp.diff(d3f, x)"
   ]
  },
  {
   "cell_type": "code",
   "execution_count": 257,
   "id": "72138900",
   "metadata": {},
   "outputs": [
    {
     "data": {
      "text/plain": [
       "3"
      ]
     },
     "execution_count": 257,
     "metadata": {},
     "output_type": "execute_result"
    }
   ],
   "source": [
    "f1 = sp.lambdify(x, -d4f) # Минус т.к. мы ищем максимум функции\n",
    "\n",
    "M = abs(optimize.minimize_scalar(f1, bounds = (a, b),method='Bounded').fun) \n",
    "N = int((((b-a)**(5)*M)/(2880*eps))**(1/4))\n",
    "N"
   ]
  },
  {
   "cell_type": "code",
   "execution_count": 258,
   "id": "d852ab9b",
   "metadata": {},
   "outputs": [],
   "source": [
    "x_num = np.linspace(a, b, N + 1)\n",
    "h = (b-a)/N"
   ]
  },
  {
   "cell_type": "code",
   "execution_count": 259,
   "id": "acca8624",
   "metadata": {},
   "outputs": [],
   "source": [
    "result = h/6*(f.subs({x:x_num[0]}) + f.subs({x:x_num[len(x_num) - 1]}) + 2*(sum([f.subs({x:x_num[i]}) for i in range(1, len(x_num) - 1)]))\n",
    "              + 4*(sum([f.subs({x: (x_num[i]  + x_num[i + 1]) / 2}) for i in range(len(x_num) - 1)])))"
   ]
  },
  {
   "cell_type": "code",
   "execution_count": 260,
   "id": "2503eaeb",
   "metadata": {},
   "outputs": [
    {
     "data": {
      "text/latex": [
       "$\\displaystyle 38.2367342335588$"
      ],
      "text/plain": [
       "38.2367342335588"
      ]
     },
     "execution_count": 260,
     "metadata": {},
     "output_type": "execute_result"
    }
   ],
   "source": [
    "result"
   ]
  },
  {
   "cell_type": "code",
   "execution_count": 261,
   "id": "e4ba323a",
   "metadata": {},
   "outputs": [
    {
     "name": "stdout",
     "output_type": "stream",
     "text": [
      "38.23592512595571\n"
     ]
    }
   ],
   "source": [
    "f_lam = sp.lambdify(x, f)\n",
    "v, err = integrate.quad(f_lam, a, b)\n",
    "print(v)"
   ]
  },
  {
   "cell_type": "code",
   "execution_count": 262,
   "id": "4a8933f4",
   "metadata": {},
   "outputs": [
    {
     "data": {
      "text/latex": [
       "$\\displaystyle \\text{True}$"
      ],
      "text/plain": [
       "True"
      ]
     },
     "execution_count": 262,
     "metadata": {},
     "output_type": "execute_result"
    }
   ],
   "source": [
    "abs(result - v) < eps"
   ]
  },
  {
   "cell_type": "markdown",
   "id": "184c65b2",
   "metadata": {},
   "source": [
    "# 4) Формулы интерполяционного типа"
   ]
  },
  {
   "cell_type": "code",
   "execution_count": 97,
   "id": "e93a3ff0",
   "metadata": {},
   "outputs": [],
   "source": [
    "x = sp.symbols('x')\n",
    "n = 16\n",
    "f = x*x*x*sp.exp(-0.01*n*x**(3/2))\n",
    "a = 0.1*(n+3)\n",
    "b = 0.25*(n+3)\n",
    "eps = 0.001\n",
    "N = 4"
   ]
  },
  {
   "cell_type": "code",
   "execution_count": 62,
   "id": "cfd286de",
   "metadata": {},
   "outputs": [],
   "source": [
    "df = sp.diff(f, x)"
   ]
  },
  {
   "cell_type": "code",
   "execution_count": 135,
   "id": "c7d1ff7e",
   "metadata": {},
   "outputs": [],
   "source": [
    "x_num = np.linspace(a, b, N)"
   ]
  },
  {
   "cell_type": "code",
   "execution_count": 110,
   "id": "48d1809e",
   "metadata": {},
   "outputs": [
    {
     "data": {
      "text/latex": [
       "$\\displaystyle \\left(x - 4.75\\right) \\left(x - 3.8\\right) \\left(x - 2.85\\right) \\left(x - 1.9\\right)$"
      ],
      "text/plain": [
       "(x - 4.75)*(x - 3.8)*(x - 2.85)*(x - 1.9)"
      ]
     },
     "execution_count": 110,
     "metadata": {},
     "output_type": "execute_result"
    }
   ],
   "source": [
    "w = 1\n",
    "for i in range(N):\n",
    "    w *= (x - x_num[i])\n",
    "w"
   ]
  },
  {
   "cell_type": "code",
   "execution_count": 65,
   "id": "0b07237f",
   "metadata": {},
   "outputs": [
    {
     "data": {
      "text/plain": [
       "[-0.194391796666181*(x - 4.75)*(x - 3.8)*(x - 2.85),\n",
       " 0.583175389998542*(x - 4.75)*(x - 3.8)*(x - 1.9),\n",
       " -0.583175389998542*(x - 4.75)*(x - 2.85)*(x - 1.9),\n",
       " 0.194391796666181*(x - 3.8)*(x - 2.85)*(x - 1.9)]"
      ]
     },
     "execution_count": 65,
     "metadata": {},
     "output_type": "execute_result"
    }
   ],
   "source": [
    "dw = sp.diff(w, x)\n",
    "C_list = [(w / (x - x_num[i]) / dw.subs({x:x_num[i]})) for i in range(N)]\n",
    "C_list"
   ]
  },
  {
   "cell_type": "code",
   "execution_count": 121,
   "id": "051ec533",
   "metadata": {},
   "outputs": [],
   "source": [
    "def trapezoid(f, a, b):\n",
    "    df = sp.diff(f, x)\n",
    "    d2f = sp.diff(df, x)\n",
    "    \n",
    "    f1 = sp.lambdify(x, -d2f) # Минус т.к. мы ищем максимум функции\n",
    "\n",
    "    M = abs(optimize.minimize_scalar(f1, bounds = (a, b),method='Bounded').fun)\n",
    "    N = int((((b-a)**(3)*M)/(12*eps))**(1/2))\n",
    "    x_num = np.linspace(a, b, N)\n",
    "    \n",
    "    return sum([(x_num[i+1] - x_num[i]) * (f.subs({x:x_num[i]}) + f.subs({x:x_num[i+1]})) / 2 for i in range(len(x_num) - 1)])\n",
    "\n",
    "def abs_trapezoid(f, a, b):\n",
    "    df = sp.diff(f, x)\n",
    "    d2f = sp.diff(df, x)\n",
    "    \n",
    "    f1 = sp.lambdify(x, -d2f) # Минус т.к. мы ищем максимум функции\n",
    "\n",
    "    M = abs(optimize.minimize_scalar(f1, bounds = (a, b),method='Bounded').fun)\n",
    "    N = int((((b-a)**(3)*M)/(12*eps))**(1/2))\n",
    "    x_num = np.linspace(a, b, N)\n",
    "    \n",
    "    return sum([abs((x_num[i+1] - x_num[i]) * (f.subs({x:x_num[i]}) + f.subs({x:x_num[i+1]})) / 2) for i in range(len(x_num) - 1)])"
   ]
  },
  {
   "cell_type": "code",
   "execution_count": 115,
   "id": "ae185973",
   "metadata": {},
   "outputs": [],
   "source": [
    "C_list_integrate = [trapezoid(C_list[i], a, b) for i in range(N)]"
   ]
  },
  {
   "cell_type": "code",
   "execution_count": 68,
   "id": "872bb5e9",
   "metadata": {},
   "outputs": [
    {
     "data": {
      "text/plain": [
       "[0.356510925292969, 1.06862093950006, 1.06862093950006, 0.356510925292969]"
      ]
     },
     "execution_count": 68,
     "metadata": {},
     "output_type": "execute_result"
    }
   ],
   "source": [
    "C_list_integrate"
   ]
  },
  {
   "cell_type": "code",
   "execution_count": 69,
   "id": "7a137491",
   "metadata": {},
   "outputs": [],
   "source": [
    "result = sum([C_list_integrate[i] * f.subs({x:x_num[i]}) for i in range(N)])"
   ]
  },
  {
   "cell_type": "code",
   "execution_count": 70,
   "id": "d5bb2841",
   "metadata": {},
   "outputs": [
    {
     "data": {
      "text/latex": [
       "$\\displaystyle 38.2797220221449$"
      ],
      "text/plain": [
       "38.2797220221449"
      ]
     },
     "execution_count": 70,
     "metadata": {},
     "output_type": "execute_result"
    }
   ],
   "source": [
    "result"
   ]
  },
  {
   "cell_type": "code",
   "execution_count": 71,
   "id": "73abf635",
   "metadata": {
    "scrolled": true
   },
   "outputs": [
    {
     "name": "stdout",
     "output_type": "stream",
     "text": [
      "38.23592512595571\n"
     ]
    }
   ],
   "source": [
    "f_lam = sp.lambdify(x, f)\n",
    "v, err = integrate.quad(f_lam, a, b)\n",
    "print(v)"
   ]
  },
  {
   "cell_type": "code",
   "execution_count": 54,
   "id": "794d9fa4",
   "metadata": {},
   "outputs": [
    {
     "data": {
      "text/latex": [
       "$\\displaystyle \\text{False}$"
      ],
      "text/plain": [
       "False"
      ]
     },
     "execution_count": 54,
     "metadata": {},
     "output_type": "execute_result"
    }
   ],
   "source": [
    "abs(result - v) < eps"
   ]
  },
  {
   "cell_type": "code",
   "execution_count": 117,
   "id": "6443749c",
   "metadata": {},
   "outputs": [
    {
     "data": {
      "text/plain": [
       "0.03384252683144602"
      ]
     },
     "execution_count": 117,
     "metadata": {},
     "output_type": "execute_result"
    }
   ],
   "source": [
    "dff = sp.diff(f)\n",
    "\n",
    "for i in range(N):\n",
    "    dff = sp.diff(dff)\n",
    "\n",
    "f5 = sp.lambdify(x, -dff)\n",
    "\n",
    "M_new = abs(optimize.minimize_scalar(f5, bounds = (a, b),method='Bounded').fun)\n",
    "tmp = M_new/np.prod([i for i in range(1, N+2)])\n",
    "tmp "
   ]
  },
  {
   "cell_type": "code",
   "execution_count": 122,
   "id": "0ef28d5c",
   "metadata": {},
   "outputs": [
    {
     "data": {
      "text/latex": [
       "$\\displaystyle 0.0427584202298634$"
      ],
      "text/plain": [
       "0.0427584202298634"
      ]
     },
     "execution_count": 122,
     "metadata": {},
     "output_type": "execute_result"
    }
   ],
   "source": [
    "tmp * abs_trapezoid(w)"
   ]
  },
  {
   "cell_type": "code",
   "execution_count": 123,
   "id": "3dccc460",
   "metadata": {},
   "outputs": [
    {
     "data": {
      "text/latex": [
       "$\\displaystyle 0.043796896189221$"
      ],
      "text/plain": [
       "0.0437968961892210"
      ]
     },
     "execution_count": 123,
     "metadata": {},
     "output_type": "execute_result"
    }
   ],
   "source": [
    "result - v"
   ]
  },
  {
   "cell_type": "markdown",
   "id": "be6c9f9c",
   "metadata": {},
   "source": [
    "### Со встроенным интегралом"
   ]
  },
  {
   "cell_type": "code",
   "execution_count": 55,
   "id": "b5d61d03",
   "metadata": {},
   "outputs": [],
   "source": [
    "C_list_integrate_2 = [sp.lambdify(x, i) for i in C_list]\n",
    "C_list_integrate_2 = [integrate.quad(i, a, b)[0] for i in C_list_integrate_2]"
   ]
  },
  {
   "cell_type": "code",
   "execution_count": 56,
   "id": "0d9171da",
   "metadata": {},
   "outputs": [
    {
     "data": {
      "text/plain": [
       "[0.2216666666666659,\n",
       " 1.0133333333333332,\n",
       " 0.3799999999999994,\n",
       " 1.0133333333333339,\n",
       " 0.22166666666666687]"
      ]
     },
     "execution_count": 56,
     "metadata": {},
     "output_type": "execute_result"
    }
   ],
   "source": [
    "C_list_integrate_2"
   ]
  },
  {
   "cell_type": "code",
   "execution_count": 57,
   "id": "bf353559",
   "metadata": {},
   "outputs": [],
   "source": [
    "result_2 = sum([C_list_integrate_2[i] * f.subs({x:x_num[i]}) for i in range(N)])"
   ]
  },
  {
   "cell_type": "code",
   "execution_count": 58,
   "id": "567c7c54",
   "metadata": {},
   "outputs": [
    {
     "data": {
      "text/latex": [
       "$\\displaystyle 38.2341843822162$"
      ],
      "text/plain": [
       "38.2341843822162"
      ]
     },
     "execution_count": 58,
     "metadata": {},
     "output_type": "execute_result"
    }
   ],
   "source": [
    "result_2"
   ]
  },
  {
   "cell_type": "code",
   "execution_count": 59,
   "id": "433a6ec9",
   "metadata": {},
   "outputs": [
    {
     "data": {
      "text/latex": [
       "$\\displaystyle \\text{False}$"
      ],
      "text/plain": [
       "False"
      ]
     },
     "execution_count": 59,
     "metadata": {},
     "output_type": "execute_result"
    }
   ],
   "source": [
    "abs(result_2 - v) < eps"
   ]
  },
  {
   "cell_type": "markdown",
   "id": "89a9fa3d",
   "metadata": {},
   "source": [
    "# 5) Формула Гаусса"
   ]
  },
  {
   "cell_type": "code",
   "execution_count": 215,
   "id": "5d39f29a",
   "metadata": {},
   "outputs": [],
   "source": [
    "x = sp.symbols('x')\n",
    "n = 16\n",
    "f = x*x*x*sp.exp(-0.01*n*x**(3/2))\n",
    "a = 0.1*(n+3)\n",
    "b = 0.25*(n+3)\n",
    "eps = 0.001\n",
    "N = 4"
   ]
  },
  {
   "cell_type": "code",
   "execution_count": 216,
   "id": "f89f1c31",
   "metadata": {},
   "outputs": [],
   "source": [
    "# Ортогональные многочлены Лежандра для поиска x\n",
    "t = np.linspace(-1, 1, N)\n",
    "P = (x*x - 1)**N\n",
    "for _ in range(N):\n",
    "    P = sp.diff(P)\n",
    "P /= 2**n * np.prod([i for i in range(1, N+1)])"
   ]
  },
  {
   "cell_type": "code",
   "execution_count": 217,
   "id": "4c2201dd",
   "metadata": {},
   "outputs": [],
   "source": [
    "t_new = sp.solve(P, x)"
   ]
  },
  {
   "cell_type": "code",
   "execution_count": 218,
   "id": "7d0dfb07",
   "metadata": {},
   "outputs": [],
   "source": [
    "x_num = [float(i*(b-a)/2 + (b+a)/2) for i in t_new]"
   ]
  },
  {
   "cell_type": "code",
   "execution_count": 219,
   "id": "d8dca2c3",
   "metadata": {},
   "outputs": [
    {
     "data": {
      "text/plain": [
       "[2.84052701289158, 3.8094729871084203, 2.0978807559784753, 4.552119244021525]"
      ]
     },
     "execution_count": 219,
     "metadata": {},
     "output_type": "execute_result"
    }
   ],
   "source": [
    "x_num"
   ]
  },
  {
   "cell_type": "code",
   "execution_count": 220,
   "id": "aa93a5a2",
   "metadata": {},
   "outputs": [
    {
     "data": {
      "text/latex": [
       "$\\displaystyle \\left(x - 4.55211924402153\\right) \\left(x - 3.80947298710842\\right) \\left(x - 2.84052701289158\\right) \\left(x - 2.09788075597848\\right)$"
      ],
      "text/plain": [
       "(x - 4.55211924402153)*(x - 3.80947298710842)*(x - 2.84052701289158)*(x - 2.09788075597848)"
      ]
     },
     "execution_count": 220,
     "metadata": {},
     "output_type": "execute_result"
    }
   ],
   "source": [
    "w = 1\n",
    "for i in range(N):\n",
    "    w *= (x - x_num[i])\n",
    "w"
   ]
  },
  {
   "cell_type": "code",
   "execution_count": 221,
   "id": "6ed14341",
   "metadata": {},
   "outputs": [
    {
     "data": {
      "text/plain": [
       "[0.811929150996207*(x - 4.55211924402153)*(x - 3.80947298710842)*(x - 2.09788075597848),\n",
       " -0.811929150996207*(x - 4.55211924402153)*(x - 2.84052701289158)*(x - 2.09788075597848),\n",
       " -0.320553803568772*(x - 4.55211924402153)*(x - 3.80947298710842)*(x - 2.84052701289158),\n",
       " 0.320553803568772*(x - 3.80947298710842)*(x - 2.84052701289158)*(x - 2.09788075597848)]"
      ]
     },
     "execution_count": 221,
     "metadata": {},
     "output_type": "execute_result"
    }
   ],
   "source": [
    "dw = sp.diff(w, x)\n",
    "C_list = [(w / (x - x_num[i]) / dw.subs({x:x_num[i]})) for i in range(N)]\n",
    "C_list"
   ]
  },
  {
   "cell_type": "code",
   "execution_count": 222,
   "id": "78f63314",
   "metadata": {},
   "outputs": [],
   "source": [
    "C_list_integrate = [sp.lambdify(x, i) for i in C_list]\n",
    "C_list_integrate = [integrate.quad(i, a, b)[0] for i in C_list_integrate]"
   ]
  },
  {
   "cell_type": "code",
   "execution_count": 223,
   "id": "9fdcc396",
   "metadata": {},
   "outputs": [
    {
     "data": {
      "text/plain": [
       "[0.9293068456791135,\n",
       " 0.9293068456791447,\n",
       " 0.49569315432087374,\n",
       " 0.49569315432087063]"
      ]
     },
     "execution_count": 223,
     "metadata": {},
     "output_type": "execute_result"
    }
   ],
   "source": [
    "C_list_integrate"
   ]
  },
  {
   "cell_type": "code",
   "execution_count": 224,
   "id": "fd2a03ea",
   "metadata": {},
   "outputs": [],
   "source": [
    "result = sum([C_list_integrate[i] * f.subs({x:x_num[i]}) for i in range(N)])"
   ]
  },
  {
   "cell_type": "code",
   "execution_count": 225,
   "id": "4efdfb68",
   "metadata": {},
   "outputs": [
    {
     "data": {
      "text/latex": [
       "$\\displaystyle 38.2359131591975$"
      ],
      "text/plain": [
       "38.2359131591975"
      ]
     },
     "execution_count": 225,
     "metadata": {},
     "output_type": "execute_result"
    }
   ],
   "source": [
    "result"
   ]
  },
  {
   "cell_type": "code",
   "execution_count": 226,
   "id": "fc83204a",
   "metadata": {},
   "outputs": [
    {
     "name": "stdout",
     "output_type": "stream",
     "text": [
      "38.23592512595571\n"
     ]
    }
   ],
   "source": [
    "f_lam = sp.lambdify(x, f)\n",
    "v, err = integrate.quad(f_lam, a, b)\n",
    "print(v)"
   ]
  },
  {
   "cell_type": "code",
   "execution_count": 227,
   "id": "2fef9806",
   "metadata": {},
   "outputs": [
    {
     "data": {
      "text/latex": [
       "$\\displaystyle \\text{True}$"
      ],
      "text/plain": [
       "True"
      ]
     },
     "execution_count": 227,
     "metadata": {},
     "output_type": "execute_result"
    }
   ],
   "source": [
    "abs(result - v) < eps"
   ]
  },
  {
   "cell_type": "markdown",
   "id": "a2ebcabd",
   "metadata": {},
   "source": [
    "# 6) Первый интеграл с помощью сплайнов"
   ]
  },
  {
   "cell_type": "code",
   "execution_count": 17,
   "id": "92c8ea17",
   "metadata": {},
   "outputs": [
    {
     "data": {
      "text/plain": [
       "(1.9000000000000001, 4.75)"
      ]
     },
     "execution_count": 17,
     "metadata": {},
     "output_type": "execute_result"
    }
   ],
   "source": [
    "x = sp.symbols('x')\n",
    "n = 16\n",
    "f = x*x*x*sp.exp(-0.01*n*x**(3/2))\n",
    "a = 0.1*(n+3)\n",
    "b = 0.25*(n+3)\n",
    "N = 8\n",
    "a, b"
   ]
  },
  {
   "cell_type": "code",
   "execution_count": 4,
   "id": "cd21d911",
   "metadata": {},
   "outputs": [
    {
     "data": {
      "text/plain": [
       "array([1.9    , 2.25625, 2.6125 , 2.96875, 3.325  , 3.68125, 4.0375 ,\n",
       "       4.39375, 4.75   ])"
      ]
     },
     "execution_count": 4,
     "metadata": {},
     "output_type": "execute_result"
    }
   ],
   "source": [
    "h = (b - a) / N\n",
    "x_num = np.linspace(a, b, N + 1)\n",
    "x_num"
   ]
  },
  {
   "cell_type": "code",
   "execution_count": 289,
   "id": "a866cba9",
   "metadata": {},
   "outputs": [],
   "source": [
    "df = sp.diff(f, x)\n",
    "M = sp.diff(df, x)"
   ]
  },
  {
   "cell_type": "code",
   "execution_count": 290,
   "id": "a4cece9e",
   "metadata": {},
   "outputs": [
    {
     "data": {
      "text/latex": [
       "$\\displaystyle 38.2358631435758$"
      ],
      "text/plain": [
       "38.2358631435758"
      ]
     },
     "execution_count": 290,
     "metadata": {},
     "output_type": "execute_result"
    }
   ],
   "source": [
    "# Частный случай для равномерного распределения\n",
    "result = (5*h*(f.subs({x:a}) + f.subs({x:b})) / 12 + \n",
    "          13*h*(f.subs({x:x_num[1]}) + f.subs({x:x_num[N - 1]})) / 12 +\n",
    "          h*sum([f.subs({x:x_num[i]}) for i in range(2, N - 1)]) - \n",
    "          (h**3)*(2*M.subs({x:x_num[0]}) + M.subs({x:x_num[1]}) + M.subs({x:x_num[N-1]}) + 2 * M.subs({x:x_num[N]})) / 72)\n",
    "result"
   ]
  },
  {
   "cell_type": "code",
   "execution_count": 291,
   "id": "6854848c",
   "metadata": {},
   "outputs": [
    {
     "data": {
      "text/latex": [
       "$\\displaystyle 38.2355578945476$"
      ],
      "text/plain": [
       "38.2355578945476"
      ]
     },
     "execution_count": 291,
     "metadata": {},
     "output_type": "execute_result"
    }
   ],
   "source": [
    "# Общий случай\n",
    "result = (1/2 * sum([h * (f.subs({x:x_num[i]}) + f.subs({x:x_num[i + 1]})) for i in range(N)]) - \n",
    "         1/24 * sum([(h ** 3) * (M.subs({x:x_num[i]}) + M.subs({x:x_num[i + 1]})) for i in range(N)]))\n",
    "result"
   ]
  },
  {
   "cell_type": "code",
   "execution_count": 18,
   "id": "03eafde7",
   "metadata": {},
   "outputs": [
    {
     "name": "stdout",
     "output_type": "stream",
     "text": [
      "38.23592512595571\n"
     ]
    }
   ],
   "source": [
    "f_lam = sp.lambdify(x, f)\n",
    "v, err = integrate.quad(f_lam, a, b)\n",
    "print(v)"
   ]
  },
  {
   "cell_type": "markdown",
   "id": "b5e4ffc7",
   "metadata": {},
   "source": [
    "# 7) Метод Рунге–Ромберга"
   ]
  },
  {
   "cell_type": "code",
   "execution_count": 16,
   "id": "4af16126",
   "metadata": {},
   "outputs": [],
   "source": [
    "x = sp.symbols('x')\n",
    "n = 16\n",
    "f = x*x*x*sp.exp(-0.01*n*x**(3/2))\n",
    "a = 0.1*(n+3)\n",
    "b = 0.25*(n+3)\n",
    "eps = 10 ** -8\n",
    "N = 4\n",
    "m = 2"
   ]
  },
  {
   "cell_type": "code",
   "execution_count": 17,
   "id": "c77e2ddc",
   "metadata": {},
   "outputs": [],
   "source": [
    "def trapezoid_for_RR(f, N):\n",
    "    x_num = np.linspace(a, b, N)\n",
    "    \n",
    "    return sum([(x_num[i+1] - x_num[i]) * (f.subs({x:x_num[i]}) + f.subs({x:x_num[i+1]})) / 2 for i in range(len(x_num) - 1)])"
   ]
  },
  {
   "cell_type": "code",
   "execution_count": 19,
   "id": "0d8e0afc",
   "metadata": {},
   "outputs": [
    {
     "name": "stdout",
     "output_type": "stream",
     "text": [
      "0 38.2256583001972 38.2256583001972 16\n",
      "38.2256583001972 38.2335222286320 0.00786392843483696 32\n",
      "38.2335222286320 38.2353433705150 0.00182114188294236 64\n",
      "38.2353433705150 38.2357819713947 0.000438600879746787 128\n",
      "38.2357819713947 38.2358896176393 0.000107646244579485 256\n",
      "38.2358896176393 38.2359162835976 2.66659582877082e-5 512\n",
      "38.2359162835976 38.2359229196865 6.63608894058143e-6 1024\n",
      "38.2359229196865 38.2359245749272 1.65524065209866e-6 2048\n",
      "38.2359245749272 38.2359249882659 4.13338668181495e-7 4096\n",
      "38.2359249882659 38.2359250915417 1.03275858975849e-7 8192\n",
      "38.2359250915417 38.2359251173533 2.58115875340081e-8 16384\n"
     ]
    },
    {
     "data": {
      "text/latex": [
       "$\\displaystyle 38.2359251173533$"
      ],
      "text/plain": [
       "38.2359251173533"
      ]
     },
     "execution_count": 19,
     "metadata": {},
     "output_type": "execute_result"
    }
   ],
   "source": [
    "Y = trapezoid_for_RR(f, N)\n",
    "Y_new = 0\n",
    "while (abs(Y - Y_new) / (2 ** m - 1)) > eps:\n",
    "    N *= 2\n",
    "    Y = Y_new\n",
    "    Y_new = trapezoid_for_RR(f, N)\n",
    "    print(Y, Y_new, abs(Y - Y_new), N)\n",
    "Y_new"
   ]
  },
  {
   "cell_type": "code",
   "execution_count": 20,
   "id": "54e6b0ab",
   "metadata": {},
   "outputs": [
    {
     "name": "stdout",
     "output_type": "stream",
     "text": [
      "38.23592512595571 4.2450404442679567e-13\n"
     ]
    }
   ],
   "source": [
    "f_lam = sp.lambdify(x, f)\n",
    "v, err = integrate.quad(f_lam, a, b)\n",
    "print(v, err)"
   ]
  },
  {
   "cell_type": "code",
   "execution_count": 21,
   "id": "3be50875",
   "metadata": {},
   "outputs": [
    {
     "data": {
      "text/latex": [
       "$\\displaystyle \\text{True}$"
      ],
      "text/plain": [
       "True"
      ]
     },
     "execution_count": 21,
     "metadata": {},
     "output_type": "execute_result"
    }
   ],
   "source": [
    "abs(Y_new - v) < eps"
   ]
  },
  {
   "cell_type": "markdown",
   "id": "9a5e4066",
   "metadata": {},
   "source": [
    "# 8) Несобственный интеграл"
   ]
  },
  {
   "cell_type": "code",
   "execution_count": 44,
   "id": "20bae2a9",
   "metadata": {},
   "outputs": [
    {
     "data": {
      "text/latex": [
       "$\\displaystyle \\frac{0.731004434553217 \\sin{\\left(x + 1.6 \\right)}}{\\left(\\left(0.625 x + 1\\right)^{2} \\left(x - 16\\right)^{2}\\right)^{0.333333333333333}}$"
      ],
      "text/plain": [
       "0.731004434553217*((0.625*x + 1)**2*(x - 16)**2)**(-0.333333333333333)*sin(x + 1.6)"
      ]
     },
     "execution_count": 44,
     "metadata": {},
     "output_type": "execute_result"
    }
   ],
   "source": [
    "x = sp.symbols('x')\n",
    "n = 16\n",
    "f = (sp.sin(x + 0.1*n)) / ((x + 0.1*n)**2 * (x - n)**2) ** (1/3)\n",
    "a = -0.1*n\n",
    "b = 0.1*n\n",
    "eps = 0.001\n",
    "N = 4\n",
    "m = 2\n",
    "f"
   ]
  },
  {
   "cell_type": "code",
   "execution_count": 45,
   "id": "864b0c35",
   "metadata": {},
   "outputs": [
    {
     "name": "stdout",
     "output_type": "stream",
     "text": [
      "0.10594869263914483 0.5\n",
      "0.04373508052813402 0.25\n",
      "0.017479254764726084 0.125\n",
      "0.006939449233585245 0.0625\n",
      "0.0027523354510323905 0.03125\n",
      "0.0010917382612653246 0.015625\n",
      "0.00043313111284407085 0.0078125\n"
     ]
    }
   ],
   "source": [
    "alpha = 1\n",
    "f_lam = sp.lambdify(x, f)\n",
    "v = integrate.quad(f_lam, a, a + alpha)\n",
    "while v[0] > (eps / 2):\n",
    "    v = integrate.quad(f_lam, a, a + alpha)\n",
    "    alpha /= 2\n",
    "    print(v[0], alpha)"
   ]
  },
  {
   "cell_type": "code",
   "execution_count": 46,
   "id": "0378099e",
   "metadata": {},
   "outputs": [],
   "source": [
    "def trapezoid_for_RR(f, a, b, N):\n",
    "    x_num = np.linspace(a, b, N)\n",
    "    \n",
    "    return sum([(x_num[i+1] - x_num[i]) * (f.subs({x:x_num[i]}) + f.subs({x:x_num[i+1]})) / 2 for i in range(len(x_num) - 1)])"
   ]
  },
  {
   "cell_type": "code",
   "execution_count": 47,
   "id": "c2051050",
   "metadata": {},
   "outputs": [
    {
     "name": "stdout",
     "output_type": "stream",
     "text": [
      "0 0.265870184866147 0.265870184866147 8\n",
      "0.265870184866147 0.272731686983688 0.00686150211754116 16\n",
      "0.272731686983688 0.274696822797079 0.00196513581339081 32\n"
     ]
    },
    {
     "data": {
      "text/latex": [
       "$\\displaystyle 0.274696822797079$"
      ],
      "text/plain": [
       "0.274696822797079"
      ]
     },
     "execution_count": 47,
     "metadata": {},
     "output_type": "execute_result"
    }
   ],
   "source": [
    "Y = trapezoid_for_RR(f, (a + alpha), b, N)\n",
    "Y_new = 0\n",
    "while (abs(Y - Y_new) / (2 ** m - 1)) > eps:\n",
    "    N *= 2\n",
    "    Y = Y_new\n",
    "    Y_new = trapezoid_for_RR(f, (a + alpha), b, N)\n",
    "    print(Y, Y_new, abs(Y - Y_new), N)\n",
    "Y_new"
   ]
  },
  {
   "cell_type": "code",
   "execution_count": 48,
   "id": "8dee2b6f",
   "metadata": {},
   "outputs": [
    {
     "data": {
      "text/plain": [
       "0.2756857984201168"
      ]
     },
     "execution_count": 48,
     "metadata": {},
     "output_type": "execute_result"
    }
   ],
   "source": [
    "v = integrate.quad(f_lam, a, b)\n",
    "v[0]"
   ]
  },
  {
   "cell_type": "code",
   "execution_count": 49,
   "id": "6bf03580",
   "metadata": {},
   "outputs": [
    {
     "data": {
      "text/latex": [
       "$\\displaystyle \\text{True}$"
      ],
      "text/plain": [
       "True"
      ]
     },
     "execution_count": 49,
     "metadata": {},
     "output_type": "execute_result"
    }
   ],
   "source": [
    "abs(Y_new - v[0]) < eps"
   ]
  }
 ],
 "metadata": {
  "kernelspec": {
   "display_name": "Python 3 (ipykernel)",
   "language": "python",
   "name": "python3"
  },
  "language_info": {
   "codemirror_mode": {
    "name": "ipython",
    "version": 3
   },
   "file_extension": ".py",
   "mimetype": "text/x-python",
   "name": "python",
   "nbconvert_exporter": "python",
   "pygments_lexer": "ipython3",
   "version": "3.8.12"
  }
 },
 "nbformat": 4,
 "nbformat_minor": 5
}
