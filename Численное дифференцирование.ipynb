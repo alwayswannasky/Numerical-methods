{
 "cells": [
  {
   "cell_type": "code",
   "execution_count": 2,
   "metadata": {
    "id": "48cfeb5b-40c3-4b00-98a8-e3c8fb6a5db3"
   },
   "outputs": [],
   "source": [
    "import matplotlib.pyplot as plt\n",
    "import numpy as np\n",
    "import sympy as sp\n",
    "import random"
   ]
  },
  {
   "cell_type": "markdown",
   "metadata": {
    "id": "bc5ac5ec-9a0f-4f72-a75b-fbd192b6f82b"
   },
   "source": [
    "# 1) Создание таблицы с приближенными значениями производной функции 𝑓′(𝑥), используя формулы первого порядка точности."
   ]
  },
  {
   "cell_type": "code",
   "execution_count": 2,
   "metadata": {
    "id": "34c32ab3-ae49-4fc3-a82f-17d45616eb7d"
   },
   "outputs": [],
   "source": [
    "x = sp.symbols(\"x\")"
   ]
  },
  {
   "cell_type": "code",
   "execution_count": 3,
   "metadata": {
    "colab": {
     "base_uri": "https://localhost:8080/",
     "height": 48
    },
    "id": "cd8aa249-b03b-4870-8cd3-329b0f241a2d",
    "outputId": "78e5f752-7061-419e-b7b7-b0b6c34d2f71"
   },
   "outputs": [
    {
     "data": {
      "text/latex": [
       "$\\displaystyle 8 \\left(e^{- x}\\right)^{0.25} \\cos{\\left(\\frac{x}{16} \\right)} + 8 \\pi$"
      ],
      "text/plain": [
       "8*exp(-x)**0.25*cos(x/16) + 8*pi"
      ]
     },
     "execution_count": 3,
     "metadata": {},
     "output_type": "execute_result"
    }
   ],
   "source": [
    "f = 8 * sp.exp(-x) ** (1 / 4) * sp.cos(x / 16) + 8 * sp.pi\n",
    "f"
   ]
  },
  {
   "cell_type": "code",
   "execution_count": 4,
   "metadata": {
    "id": "0c5014b3-a97d-4a21-a6df-11f0d1cfb17d"
   },
   "outputs": [],
   "source": [
    "a = 0\n",
    "b = 1\n",
    "N = 10"
   ]
  },
  {
   "cell_type": "code",
   "execution_count": 5,
   "metadata": {
    "colab": {
     "base_uri": "https://localhost:8080/"
    },
    "id": "d653583c-0c55-4010-8198-50aa90a7c075",
    "outputId": "a903344e-a07b-4fd0-8fcf-0d51616184c0"
   },
   "outputs": [
    {
     "data": {
      "text/plain": [
       "[0,\n",
       " 0.1,\n",
       " 0.2,\n",
       " 0.30000000000000004,\n",
       " 0.4,\n",
       " 0.5,\n",
       " 0.6,\n",
       " 0.7,\n",
       " 0.7999999999999999,\n",
       " 0.8999999999999999,\n",
       " 1]"
      ]
     },
     "execution_count": 5,
     "metadata": {},
     "output_type": "execute_result"
    }
   ],
   "source": [
    "x_num = list()\n",
    "x_num.append(a)\n",
    "for i in range(1, N):\n",
    "    x_num.append(x_num[i - 1] + 1 / 10)\n",
    "x_num.append(b)\n",
    "x_num"
   ]
  },
  {
   "cell_type": "code",
   "execution_count": 6,
   "metadata": {
    "colab": {
     "base_uri": "https://localhost:8080/"
    },
    "id": "27cd5fdc-eeba-46be-bae1-ae4da9b9d8a5",
    "outputId": "23cd465d-c3dc-4e9c-f4bf-5446af135c2b"
   },
   "outputs": [
    {
     "data": {
      "text/plain": [
       "[-1.97673095451027,\n",
       " -1.93086019192489,\n",
       " -1.88597595784304,\n",
       " -1.84205921014675,\n",
       " -1.79909120877384,\n",
       " -1.75705351312429,\n",
       " -1.71592797939923,\n",
       " -1.67569675787759,\n",
       " -1.63634229013484,\n",
       " -1.59784730620897]"
      ]
     },
     "execution_count": 6,
     "metadata": {},
     "output_type": "execute_result"
    }
   ],
   "source": [
    "df_alg = list()\n",
    "for i in range(N):\n",
    "    tmp = (f.subs({x:x_num[i + 1]}) - f.subs({x:x_num[i]}))/(x_num[i+1] - x_num[i])\n",
    "    df_alg.append(sp.N(tmp))\n",
    "df_alg"
   ]
  },
  {
   "cell_type": "code",
   "execution_count": 7,
   "metadata": {
    "colab": {
     "base_uri": "https://localhost:8080/"
    },
    "id": "e0787e3d-2eee-4cbf-9be9-abf7610d914d",
    "outputId": "7d3bb9bf-b517-4d87-e022-759d5dae640f"
   },
   "outputs": [
    {
     "name": "stdout",
     "output_type": "stream",
     "text": [
      "True\n",
      "True\n",
      "True\n",
      "True\n",
      "True\n",
      "True\n",
      "True\n",
      "True\n",
      "True\n",
      "True\n"
     ]
    }
   ],
   "source": [
    "df = sp.diff(f, x)\n",
    "for i in range(N):\n",
    "    print(np.abs(df_alg[i] - df.subs({x:x_num[i]})) < (x_num[i+1] - x_num[i]) , end = \"\\n\")"
   ]
  },
  {
   "cell_type": "markdown",
   "metadata": {
    "id": "229af4eb-db44-480c-a6c2-2dd34ae755b6"
   },
   "source": [
    "# 2) Создание таблицs с приближенными значениями первой производной функции 𝑓′(𝑥), используя формулы второго порядка точности."
   ]
  },
  {
   "cell_type": "code",
   "execution_count": 22,
   "metadata": {
    "id": "fde92cda-c8c8-4947-8dd4-1442da1a12ba"
   },
   "outputs": [],
   "source": [
    "x = sp.symbols(\"x\")"
   ]
  },
  {
   "cell_type": "code",
   "execution_count": 23,
   "metadata": {
    "colab": {
     "base_uri": "https://localhost:8080/",
     "height": 48
    },
    "id": "563c9ca2-4497-459f-ab75-1be819997bab",
    "outputId": "3af2f1db-c9da-40a0-9968-cd9854f8f960"
   },
   "outputs": [
    {
     "data": {
      "text/latex": [
       "$\\displaystyle 8 \\left(e^{- x}\\right)^{0.25} \\cos{\\left(\\frac{x}{16} \\right)} + 8 \\pi$"
      ],
      "text/plain": [
       "8*exp(-x)**0.25*cos(x/16) + 8*pi"
      ]
     },
     "execution_count": 23,
     "metadata": {},
     "output_type": "execute_result"
    }
   ],
   "source": [
    "f = 8 * sp.exp(-x) ** (1 / 4) * sp.cos(x / 16) + 8 * sp.pi\n",
    "f"
   ]
  },
  {
   "cell_type": "code",
   "execution_count": 24,
   "metadata": {
    "id": "6be4404b-f0f5-4fe0-ab65-ec25dc7e588c"
   },
   "outputs": [],
   "source": [
    "a = 0\n",
    "b = 1\n",
    "N = 10"
   ]
  },
  {
   "cell_type": "code",
   "execution_count": 30,
   "metadata": {
    "colab": {
     "base_uri": "https://localhost:8080/"
    },
    "id": "313f8639-07de-4e05-9a9a-ca51446f5fad",
    "outputId": "8885c33f-c993-40eb-ac37-a770ae53e0ba"
   },
   "outputs": [
    {
     "data": {
      "text/plain": [
       "[0,\n",
       " 0.1,\n",
       " 0.2,\n",
       " 0.30000000000000004,\n",
       " 0.4,\n",
       " 0.5,\n",
       " 0.6,\n",
       " 0.7,\n",
       " 0.7999999999999999,\n",
       " 0.8999999999999999,\n",
       " 1]"
      ]
     },
     "execution_count": 30,
     "metadata": {},
     "output_type": "execute_result"
    }
   ],
   "source": [
    "x_num = list()\n",
    "x_num.append(a)\n",
    "for i in range(1, N):\n",
    "    x_num.append(x_num[i - 1] + 1 / 10)\n",
    "x_num.append(b)\n",
    "x_num"
   ]
  },
  {
   "cell_type": "code",
   "execution_count": 31,
   "metadata": {
    "colab": {
     "base_uri": "https://localhost:8080/"
    },
    "id": "12745a66-4164-41d0-9d12-3f532d4e5e29",
    "outputId": "d85c4980-290f-41ad-ac0d-35e2d17f84c8"
   },
   "outputs": [
    {
     "data": {
      "text/plain": [
       "[-1.95379557321758,\n",
       " -1.90841807488397,\n",
       " -1.86401758399489,\n",
       " -1.82057520946029,\n",
       " -1.77807236094906,\n",
       " -1.73649074626176,\n",
       " -1.69581236863841,\n",
       " -1.65601952400622,\n",
       " -1.61709479817190]"
      ]
     },
     "execution_count": 31,
     "metadata": {},
     "output_type": "execute_result"
    }
   ],
   "source": [
    "df_alg = list()\n",
    "for i in range(1, N):\n",
    "    tmp = (f.subs({x:x_num[i + 1]}) - f.subs({x:x_num[i - 1]}))/((x_num[i + 1] - x_num[i - 1]))\n",
    "    df_alg.append(sp.N(tmp))\n",
    "df_alg"
   ]
  },
  {
   "cell_type": "code",
   "execution_count": 37,
   "metadata": {
    "colab": {
     "base_uri": "https://localhost:8080/"
    },
    "id": "101b4308-84eb-4ed3-8fab-5405e0ee899f",
    "outputId": "0c044964-3025-47d4-f083-54b46982a581"
   },
   "outputs": [
    {
     "name": "stdout",
     "output_type": "stream",
     "text": [
      "True\n",
      "True\n",
      "True\n",
      "True\n",
      "True\n",
      "True\n",
      "True\n",
      "True\n"
     ]
    }
   ],
   "source": [
    "df = sp.diff(f, x)\n",
    "for i in range(1, N - 1):\n",
    "    print(np.abs(df_alg[i - 1] - df.subs({x:x_num[i]})) < ((x_num[i + 1] - x_num[i]) ** 2) , end = \"\\n\")"
   ]
  },
  {
   "cell_type": "markdown",
   "metadata": {
    "id": "71879be5-79c4-4098-a3b6-7f5308cb7a24"
   },
   "source": [
    "# 3) Создание таблицы приближенных значений производных функции 𝑓′′(𝑥), вычисляемых по формулам второго порядка точности."
   ]
  },
  {
   "cell_type": "code",
   "execution_count": 38,
   "metadata": {
    "id": "f2371533-2f00-4707-889b-3bc54b925b41"
   },
   "outputs": [],
   "source": [
    "x = sp.symbols(\"x\")"
   ]
  },
  {
   "cell_type": "code",
   "execution_count": 39,
   "metadata": {
    "colab": {
     "base_uri": "https://localhost:8080/",
     "height": 48
    },
    "id": "947ad497-9d90-4b2d-bb4d-d8ad928f8c2c",
    "outputId": "2c7b6872-b533-4130-b6e0-bd8981ad4b48"
   },
   "outputs": [
    {
     "data": {
      "text/latex": [
       "$\\displaystyle 8 \\left(e^{- x}\\right)^{0.25} \\cos{\\left(\\frac{x}{16} \\right)} + 8 \\pi$"
      ],
      "text/plain": [
       "8*exp(-x)**0.25*cos(x/16) + 8*pi"
      ]
     },
     "execution_count": 39,
     "metadata": {},
     "output_type": "execute_result"
    }
   ],
   "source": [
    "f = 8 * sp.exp(-x) ** (1 / 4) * sp.cos(x / 16) + 8 * sp.pi\n",
    "f"
   ]
  },
  {
   "cell_type": "code",
   "execution_count": 40,
   "metadata": {
    "id": "0c32ab32-c84f-49ae-aa2d-65ec0b8054c0"
   },
   "outputs": [],
   "source": [
    "a = 0\n",
    "b = 1\n",
    "N = 10"
   ]
  },
  {
   "cell_type": "code",
   "execution_count": 41,
   "metadata": {
    "colab": {
     "base_uri": "https://localhost:8080/"
    },
    "id": "e8ef4e07-4bd7-4959-a505-9ca83a1b7d1a",
    "outputId": "4ac0cb8b-997b-4fbf-e238-8be1144f6af1"
   },
   "outputs": [
    {
     "data": {
      "text/plain": [
       "[0,\n",
       " 0.1,\n",
       " 0.2,\n",
       " 0.30000000000000004,\n",
       " 0.4,\n",
       " 0.5,\n",
       " 0.6,\n",
       " 0.7,\n",
       " 0.7999999999999999,\n",
       " 0.8999999999999999,\n",
       " 1]"
      ]
     },
     "execution_count": 41,
     "metadata": {},
     "output_type": "execute_result"
    }
   ],
   "source": [
    "x_num = list()\n",
    "x_num.append(a)\n",
    "for i in range(1, N):\n",
    "    x_num.append(x_num[i - 1] + 1 / 10)\n",
    "x_num.append(b)\n",
    "x_num"
   ]
  },
  {
   "cell_type": "code",
   "execution_count": 47,
   "metadata": {
    "colab": {
     "base_uri": "https://localhost:8080/"
    },
    "id": "10c39e2a-760a-4946-b546-f497fc5e1fd5",
    "outputId": "6bbc098e-e9ee-4181-a5eb-e96e16e3ae11"
   },
   "outputs": [
    {
     "data": {
      "text/plain": [
       "[0.458707625853716,\n",
       " 0.448842340818522,\n",
       " 0.439167476962954,\n",
       " 0.429680013729073,\n",
       " 0.420376956495528,\n",
       " 0.411255337250527,\n",
       " 0.402312215216405,\n",
       " 0.393544677427560,\n",
       " 0.384949839258617]"
      ]
     },
     "execution_count": 47,
     "metadata": {},
     "output_type": "execute_result"
    }
   ],
   "source": [
    "df_alg = list()\n",
    "for i in range(1, N):\n",
    "    h = x_num[i + 1] - x_num[i]\n",
    "    tmp = (f.subs({x:x_num[i - 1]}) - 2*f.subs({x:x_num[i]}) + f.subs({x:x_num[i + 1]}))/(h ** 2)\n",
    "    df_alg.append(sp.N(tmp))\n",
    "df_alg"
   ]
  },
  {
   "cell_type": "code",
   "execution_count": 48,
   "metadata": {
    "colab": {
     "base_uri": "https://localhost:8080/"
    },
    "id": "b3ba9d59-365b-441a-979a-6926c8115a5e",
    "outputId": "6fe22d24-18ea-41ca-c353-8c4e9e4fad5f"
   },
   "outputs": [
    {
     "name": "stdout",
     "output_type": "stream",
     "text": [
      "True\n",
      "True\n",
      "True\n",
      "True\n",
      "True\n",
      "True\n",
      "True\n",
      "True\n"
     ]
    }
   ],
   "source": [
    "df = sp.diff(f, x)\n",
    "d2f = sp.diff(df, x)\n",
    "for i in range(1, N - 1):\n",
    "    print(np.abs(df_alg[i] - d2f.subs({x:x_num[i]})) < ((x_num[i] - x_num[i - 1]) ** 2) , end = \"\\n\")"
   ]
  },
  {
   "cell_type": "markdown",
   "metadata": {
    "id": "27556ef9-712e-4dec-98a6-e457e5f47c62"
   },
   "source": [
    "# 4) Производные первого и второго порядков, используя интерполяционный метод."
   ]
  },
  {
   "cell_type": "code",
   "execution_count": 249,
   "metadata": {
    "id": "0c0395bf-e75b-4f81-b28a-d3ee3286dfcd"
   },
   "outputs": [],
   "source": [
    "x = sp.symbols(\"x\")"
   ]
  },
  {
   "cell_type": "code",
   "execution_count": 250,
   "metadata": {
    "colab": {
     "base_uri": "https://localhost:8080/",
     "height": 48
    },
    "id": "9300ba6f-dc6a-4339-906c-8a5116645fc4",
    "outputId": "5a236264-efa3-43a6-eec8-87aa8d22969e"
   },
   "outputs": [
    {
     "data": {
      "text/latex": [
       "$\\displaystyle 8 \\left(e^{- x}\\right)^{0.25} \\cos{\\left(\\frac{x}{16} \\right)} + 8 \\pi$"
      ],
      "text/plain": [
       "8*exp(-x)**0.25*cos(x/16) + 8*pi"
      ]
     },
     "execution_count": 250,
     "metadata": {},
     "output_type": "execute_result"
    }
   ],
   "source": [
    "f = 8 * sp.exp(-x) ** (1 / 4) * sp.cos(x / 16) + 8 * sp.pi\n",
    "f"
   ]
  },
  {
   "cell_type": "code",
   "execution_count": 251,
   "metadata": {
    "id": "890c9a6c-008c-4e28-8de2-1552ca952359"
   },
   "outputs": [],
   "source": [
    "a = -5\n",
    "b = 5\n",
    "N = 10"
   ]
  },
  {
   "cell_type": "code",
   "execution_count": 252,
   "metadata": {
    "colab": {
     "base_uri": "https://localhost:8080/"
    },
    "id": "afa276da-0a47-4c5e-a046-12affad3a0c0",
    "outputId": "0d087c76-1d1f-4584-fea7-e8acd19454a7"
   },
   "outputs": [
    {
     "data": {
      "text/plain": [
       "[-4.95, -4.73, -3.49, -2.69, 0.42, 1.57, 1.72, 2.4, 2.87, 4.98]"
      ]
     },
     "execution_count": 252,
     "metadata": {},
     "output_type": "execute_result"
    }
   ],
   "source": [
    "x_num = list()\n",
    "#x_num.append(a)\n",
    "for i in range(N):\n",
    "    x_num.append(random.randint(a*100, b*100)/100)\n",
    "#x_num.append(b)\n",
    "x_num.sort()\n",
    "x_num"
   ]
  },
  {
   "cell_type": "code",
   "execution_count": 253,
   "metadata": {
    "colab": {
     "base_uri": "https://localhost:8080/"
    },
    "id": "bjH3SYuVh1XE",
    "outputId": "de24ec94-5f2b-46ef-9b94-6fbd8cdd533a"
   },
   "outputs": [
    {
     "data": {
      "text/plain": [
       "[0.21999999999999975,\n",
       " 1.2400000000000002,\n",
       " 0.8000000000000003,\n",
       " 3.11,\n",
       " 1.1500000000000001,\n",
       " 0.1499999999999999,\n",
       " 0.6799999999999999,\n",
       " 0.4700000000000002,\n",
       " 2.1100000000000003]"
      ]
     },
     "execution_count": 253,
     "metadata": {},
     "output_type": "execute_result"
    }
   ],
   "source": [
    "h_list = list()\n",
    "for i in range(1, N):\n",
    "    h_list.append((x_num[i] - x_num[i - 1]))\n",
    "h_list"
   ]
  },
  {
   "cell_type": "code",
   "execution_count": 254,
   "metadata": {
    "colab": {
     "base_uri": "https://localhost:8080/"
    },
    "id": "1882ddd1-3fb3-4847-8814-7948043d2c58",
    "outputId": "afca16d8-3413-4d7e-a2dc-a606b3b987fb"
   },
   "outputs": [
    {
     "data": {
      "text/plain": [
       "array([3.11332503113325*(8*pi + 26.2666904596273)*(2*x + 8.22) - 3.66568914956012*(24.9679438273044 + 8*pi)*(2*x + 8.44) + 0.552364118426867*(18.6894877315514 + 8*pi)*(2*x + 9.68),\n",
       "       0.395319418089816*(24.9679438273044 + 8*pi)*(2*x + 6.18) - 1.00806451612903*(18.6894877315514 + 8*pi)*(2*x + 7.42) + 0.612745098039215*(15.4520463904046 + 8*pi)*(2*x + 8.22),\n",
       "       0.319693094629156*(18.6894877315514 + 8*pi)*(2*x + 2.27) - 0.401929260450161*(15.4520463904046 + 8*pi)*(2*x + 3.07) + 0.0822361658210048*(7.20011480371497 + 8*pi)*(2*x + 6.18),\n",
       "       0.0754796733239739*(15.4520463904046 + 8*pi)*(2*x - 1.99) - 0.279602963791416*(7.20011480371497 + 8*pi)*(2*x + 1.12) + 0.204123290467442*(5.37694053314112 + 8*pi)*(2*x + 2.27),\n",
       "       0.668896321070234*(7.20011480371497 + 8*pi)*(2*x - 3.29) - 5.79710144927536*(5.37694053314112 + 8*pi)*(2*x - 2.14) + 5.12820512820513*(5.17403192155784 + 8*pi)*(2*x - 1.99),\n",
       "       8.03212851405623*(5.37694053314112 + 8*pi)*(2*x - 4.12) - 9.80392156862746*(5.17403192155784 + 8*pi)*(2*x - 3.97) + 1.77179305457123*(4.34119258403627 + 8*pi)*(2*x - 3.29),\n",
       "       1.27877237851662*(5.17403192155784 + 8*pi)*(2*x - 5.27) - 3.12891113892365*(4.34119258403627 + 8*pi)*(2*x - 4.59) + 1.85013876040703*(3.84113089646936 + 8*pi)*(2*x - 4.12),\n",
       "       0.8246742536698*(4.34119258403627 + 8*pi)*(2*x - 7.85) - 1.00836946657255*(3.84113089646936 + 8*pi)*(2*x - 7.38) + 0.183695212902752*(2.19284624142264 + 8*pi)*(2*x - 5.27)],\n",
       "      dtype=object)"
      ]
     },
     "execution_count": 254,
     "metadata": {},
     "output_type": "execute_result"
    }
   ],
   "source": [
    "df_alg = np.array([f.subs({x : x_num[i - 1]}) * (2 * x - x_num[i] - x_num[i + 1]) / (x_num[i] - x_num[i - 1]) / (x_num[i + 1] - x_num[i - 1]) \n",
    "- f.subs({x : x_num[i]}) * (2 * x - x_num[i - 1] - x_num[i + 1]) / (x_num[i + 1] - x_num[i]) / (x_num[i] - x_num[i - 1]) \n",
    "+ f.subs({x : x_num[i + 1]}) * (2 * x - x_num[i - 1] - x_num[i]) / (x_num[i + 1] - x_num[i - 1]) / (x_num[i + 1] - x_num[i]) for i in range(1, N - 1)])\n",
    "df_alg"
   ]
  },
  {
   "cell_type": "code",
   "execution_count": 255,
   "metadata": {
    "colab": {
     "base_uri": "https://localhost:8080/"
    },
    "id": "d2108dfb-9aa6-4f40-bf36-c683879d4bb9",
    "outputId": "479c5ff6-6c39-4e7a-9c22-195c7e62e3f8"
   },
   "outputs": [
    {
     "data": {
      "text/plain": [
       "[-6.66734686598200,\n",
       " 3.48188859155643,\n",
       " -2.88010082670405,\n",
       " -7.65984992781700,\n",
       " 28.5689159521079,\n",
       " -2.56278882336904]"
      ]
     },
     "execution_count": 255,
     "metadata": {},
     "output_type": "execute_result"
    }
   ],
   "source": [
    "d2f_alg = list()\n",
    "for i in range(1, N - 3):\n",
    "    h_ = (h_list[i + 1] + h_list[i]) / 2\n",
    "    tmp = (1/h_ * ((f.subs({x:x_num[i + 1]}) - f.subs({x:x_num[i]}))/h_list[i + 1] - ((f.subs({x:x_num[i]}) - f.subs({x:x_num[i - 1]}))/h_list[i])))\n",
    "    d2f_alg.append(sp.N(tmp))\n",
    "d2f_alg"
   ]
  },
  {
   "cell_type": "code",
   "execution_count": 258,
   "metadata": {},
   "outputs": [
    {
     "name": "stdout",
     "output_type": "stream",
     "text": [
      "-5.77679994600473 -5.76673821979663 True\n",
      "-4.44541711507214 -4.41346238999124 True\n",
      "-3.76169733505352 -3.69909706972178 True\n",
      "-1.87367481557129 -1.81184410325349 True\n",
      "-1.37956771418860 -1.37731714651005 True\n",
      "-1.32959871356435 -1.32840553934759 True\n",
      "-1.12968039938362 -1.12630483899790 True\n"
     ]
    }
   ],
   "source": [
    "df = sp.diff(f, x)\n",
    "d2f = sp.diff(df, x)\n",
    "for i in range(1, N - 2):\n",
    "    print(sp.N(df_alg[i-1].subs({x:x_num[i]})), df.subs({x:x_num[i]}), np.abs(df_alg[i-1].subs({x:x_num[i]}) - df.subs({x:x_num[i]})) < ((x_num[i] - x_num[i - 1])) , end = \"\\n\")\n",
    "    "
   ]
  },
  {
   "cell_type": "markdown",
   "metadata": {
    "id": "-iZt61NUCrDQ"
   },
   "source": [
    "# 5) Вычисление производных первого и второго порядков при помощи сплайнов."
   ]
  },
  {
   "cell_type": "code",
   "execution_count": 19,
   "metadata": {
    "id": "_-YcD-bGCwVA"
   },
   "outputs": [],
   "source": [
    "x = sp.symbols(\"x\")"
   ]
  },
  {
   "cell_type": "code",
   "execution_count": 20,
   "metadata": {
    "colab": {
     "base_uri": "https://localhost:8080/",
     "height": 48
    },
    "id": "kiw2YsZyC8r6",
    "outputId": "a88c3568-d465-45e5-a40a-7ba0ffbc01be"
   },
   "outputs": [
    {
     "data": {
      "text/latex": [
       "$\\displaystyle 8 \\left(e^{- x}\\right)^{0.25} \\cos{\\left(\\frac{x}{16} \\right)} + 8 \\pi$"
      ],
      "text/plain": [
       "8*exp(-x)**0.25*cos(x/16) + 8*pi"
      ]
     },
     "execution_count": 20,
     "metadata": {},
     "output_type": "execute_result"
    }
   ],
   "source": [
    "f = 8 * sp.exp(-x) ** (1 / 4) * sp.cos(x / 16) + 8 * sp.pi\n",
    "f"
   ]
  },
  {
   "cell_type": "code",
   "execution_count": 21,
   "metadata": {
    "id": "dolJ4SnuC-GE"
   },
   "outputs": [],
   "source": [
    "a = 0\n",
    "b = 1\n",
    "N = 10"
   ]
  },
  {
   "cell_type": "code",
   "execution_count": 22,
   "metadata": {
    "colab": {
     "base_uri": "https://localhost:8080/"
    },
    "id": "6aMISSSQC_i8",
    "outputId": "9245d92e-05b8-4bc2-ba9c-8e9c8d30fa7a"
   },
   "outputs": [
    {
     "data": {
      "text/plain": [
       "(10,\n",
       " [0.1,\n",
       "  0.2,\n",
       "  0.30000000000000004,\n",
       "  0.4,\n",
       "  0.5,\n",
       "  0.6,\n",
       "  0.7,\n",
       "  0.7999999999999999,\n",
       "  0.8999999999999999,\n",
       "  1])"
      ]
     },
     "execution_count": 22,
     "metadata": {},
     "output_type": "execute_result"
    }
   ],
   "source": [
    "x_numbers = list()\n",
    "x_numbers.append(0)\n",
    "for i in range(1, N):\n",
    "    x_numbers.append(x_numbers[i - 1] + 1 /10)\n",
    "x_numbers.append(b)\n",
    "x_numbers.pop(0)\n",
    "n = len(x_numbers)\n",
    "n, x_numbers"
   ]
  },
  {
   "cell_type": "code",
   "execution_count": 23,
   "metadata": {
    "id": "379axdsYEuws"
   },
   "outputs": [
    {
     "data": {
      "text/plain": [
       "[M0, M1, M2, M3, M4, M5, M6, M7, M8, M9]"
      ]
     },
     "execution_count": 23,
     "metadata": {},
     "output_type": "execute_result"
    }
   ],
   "source": [
    "M_num = list()\n",
    "for i in range(n):\n",
    "    i = sp.symbols(\"M\" + str(i))\n",
    "    M_num.append(i)\n",
    "M_num"
   ]
  },
  {
   "cell_type": "code",
   "execution_count": 24,
   "metadata": {},
   "outputs": [],
   "source": [
    "df1 = sp.diff(f, x)\n",
    "df2 = sp.diff(df1, x)"
   ]
  },
  {
   "cell_type": "code",
   "execution_count": 25,
   "metadata": {},
   "outputs": [
    {
     "data": {
      "text/plain": [
       "[32.9350681332673,\n",
       " 32.7419821140748,\n",
       " 32.5533845182905,\n",
       " 32.3691785972758,\n",
       " 32.1892694763985,\n",
       " 32.0135641250860,\n",
       " 31.8419713271461,\n",
       " 31.6744016513584,\n",
       " 31.5107674223449,\n",
       " 31.3509826917240]"
      ]
     },
     "execution_count": 25,
     "metadata": {},
     "output_type": "execute_result"
    }
   ],
   "source": [
    "y_numbers = [sp.N(f.subs({x:x_numbers[i]})) for i in range(n)]\n",
    "y_numbers"
   ]
  },
  {
   "cell_type": "code",
   "execution_count": 26,
   "metadata": {
    "id": "kKBFLSJmEp2i"
   },
   "outputs": [
    {
     "data": {
      "text/plain": [
       "{M0: 0.458691503879615,\n",
       " M1: 0.448806285166790,\n",
       " M2: 0.439137400367595,\n",
       " M3: 0.429648975135686,\n",
       " M4: 0.420346781467823,\n",
       " M5: 0.411225637964587,\n",
       " M6: 0.402282690180716,\n",
       " M7: 0.393516892607780,\n",
       " M8: 0.384917803952988,\n",
       " M9: 0.376510927134424}"
      ]
     },
     "execution_count": 26,
     "metadata": {},
     "output_type": "execute_result"
    }
   ],
   "source": [
    "solution = list()\n",
    "h = 0\n",
    "for i in range(1, n - 1):\n",
    "    h = x_numbers[i + 1] - x_numbers[i]\n",
    "    h_ = x_numbers[i] - x_numbers[i - 1]\n",
    "    solution.append((M_num[i-1] * h_) / 6 + (M_num[i] * (h_ + h)) / 3 + (M_num[i + 1] * h) / 6 - \n",
    "                    (y_numbers[i + 1] - y_numbers[i]) / h + (y_numbers[i] - y_numbers[i - 1]) / h_)\n",
    "solution.append(M_num[0] - df2.subs({x:x_numbers[0]}))\n",
    "solution.append(M_num[n - 1] - df2.subs({x:x_numbers[n - 1]}))\n",
    "sol = sp.solve(solution, *[M_num[i] for i in range(n)])\n",
    "sol"
   ]
  },
  {
   "cell_type": "code",
   "execution_count": 27,
   "metadata": {
    "id": "_PR4o3-EEr53"
   },
   "outputs": [
    {
     "data": {
      "text/plain": [
       "[-1.93069543827968*x - 0.764485839799358*(x - 0.2)**3 + 0.748010475277984*(x - 0.1)**3 + 7.99463196253714 + 8*pi,\n",
       " -1.88581480976306*x - 0.748010475277984*(x - 0.3)**3 + 0.731895667279325*(x - 0.2)**3 + 7.98565583683382 + 8*pi,\n",
       " -1.84190106972622*x - 0.731895667279326*(x - 0.4)**3 + 0.716081625226144*(x - 0.3)**3 + 7.97248171482277 + 8*pi,\n",
       " -1.79893617221271*x - 0.716081625226144*(x - 0.5)**3 + 0.700577969113039*(x - 0.4)**3 + 7.95529575581736 + 8*pi,\n",
       " -1.7569014940659*x - 0.700577969113039*(x - 0.6)**3 + 0.685376063274312*(x - 0.5)**3 + 7.93427841674396 + 8*pi,\n",
       " -1.7157789302695*x - 0.685376063274312*(x - 0.7)**3 + 0.670471150301194*(x - 0.6)**3 + 7.90960487846612 + 8*pi,\n",
       " -1.67555066125138*x - 0.670471150301194*(x - 0.8)**3 + 0.655861487679634*(x - 0.7)**3 + 7.88144509015343 + 8*pi,\n",
       " -1.63619897199059*x - 0.655861487679634*(x - 0.9)**3 + 0.64152967325498*(x - 0.8)**3 + 7.8499637387448 + 8*pi,\n",
       " -0.641529673254979*(x - 1)**3 + 0.627518211890706*(x - 0.9)**3 + (-63.7801218216516 + 62.3040626457123*cos(1/16))*(x - 0.9) + 6.37738466395327 + 8*pi]"
      ]
     },
     "execution_count": 27,
     "metadata": {},
     "output_type": "execute_result"
    }
   ],
   "source": [
    "global s3\n",
    "s3 = list()\n",
    "h = 0\n",
    "for i in range(n - 1):\n",
    "    h = x_numbers[i + 1] - x_numbers[i]\n",
    "    s3.append((- M_num[i] / (6 *h) * (x - x_numbers[i + 1]) ** 3 + M_num[i + 1] / (6 *h) * (x - x_numbers[i]) ** 3 + ((f.subs({x:x_numbers[i+1]}) - f.subs({x:x_numbers[i]})) / h - h/6 * (M_num[i + 1] - M_num[i])) * (x - x_numbers[i]) + f.subs({x:x_numbers[i]}) - M_num[i] * h * h /6).subs(sol))\n",
    "s3"
   ]
  },
  {
   "cell_type": "code",
   "execution_count": 28,
   "metadata": {},
   "outputs": [
    {
     "data": {
      "text/plain": [
       "[-2.29345751939807*(x - 0.2)**2 + 2.24403142583395*(x - 0.1)**2 - 1.93069543827968,\n",
       " -2.24403142583395*(x - 0.3)**2 + 2.19568700183798*(x - 0.2)**2 - 1.88581480976306,\n",
       " -2.19568700183798*(x - 0.4)**2 + 2.14824487567843*(x - 0.3)**2 - 1.84190106972622,\n",
       " -2.14824487567843*(x - 0.5)**2 + 2.10173390733912*(x - 0.4)**2 - 1.79893617221271,\n",
       " -2.10173390733912*(x - 0.6)**2 + 2.05612818982294*(x - 0.5)**2 - 1.7569014940659,\n",
       " -2.05612818982294*(x - 0.7)**2 + 2.01141345090358*(x - 0.6)**2 - 1.7157789302695,\n",
       " -2.01141345090358*(x - 0.8)**2 + 1.9675844630389*(x - 0.7)**2 - 1.67555066125138,\n",
       " -1.9675844630389*(x - 0.9)**2 + 1.92458901976494*(x - 0.8)**2 - 1.63619897199059,\n",
       " -1.92458901976494*(x - 1)**2 + 1.88255463567212*(x - 0.9)**2 - 63.7801218216516 + 62.3040626457123*cos(1/16)]"
      ]
     },
     "execution_count": 28,
     "metadata": {},
     "output_type": "execute_result"
    }
   ],
   "source": [
    "s3 = [sp.diff(s3[i], x) for i in range(len(s3))]\n",
    "s3"
   ]
  },
  {
   "cell_type": "code",
   "execution_count": 29,
   "metadata": {},
   "outputs": [],
   "source": [
    "def s(num):\n",
    "    for i in range(n - 1):\n",
    "        if x_numbers[i] < num < x_numbers[i+1]:\n",
    "            return s3[i].subs({x:num})"
   ]
  },
  {
   "cell_type": "code",
   "execution_count": 30,
   "metadata": {},
   "outputs": [],
   "source": [
    "f = 8 * sp.exp(-x) ** (1 / 4) * sp.cos(x / 16) + 8 * sp.pi\n",
    "df1 = sp.diff(f, x)\n",
    "f1 = sp.lambdify(x, df1)\n",
    "f2 = np.vectorize(s)"
   ]
  },
  {
   "cell_type": "code",
   "execution_count": 31,
   "metadata": {},
   "outputs": [],
   "source": [
    "t = np.arange(x_numbers[0], x_numbers[n - 1], 0.01)"
   ]
  },
  {
   "cell_type": "code",
   "execution_count": 32,
   "metadata": {},
   "outputs": [
    {
     "data": {
      "image/png": "[encoded data removed]",
      "text/plain": [
       "<Figure size 864x504 with 1 Axes>"
      ]
     },
     "execution_count": 32,
     "metadata": {
      "image/png": {
       "height": 411,
       "width": 721
      },
      "needs_background": "light"
     },
     "output_type": "execute_result"
    }
   ],
   "source": [
    "plt.plot(t, f1(t), label = \"f'\", linewidth=5.0)\n",
    "plt.plot(t, f2(t), label = \"s'\")\n",
    "plt.grid()\n",
    "plt.legend()\n",
    "plt.show()"
   ]
  },
  {
   "cell_type": "code",
   "execution_count": 33,
   "metadata": {},
   "outputs": [],
   "source": [
    "df2 = sp.diff(df1, x)\n",
    "f3 = sp.lambdify(x, df2)\n",
    "s3 = [sp.diff(s3[i], x) for i in range(len(s3))]\n",
    "f4 = np.vectorize(s)"
   ]
  },
  {
   "cell_type": "code",
   "execution_count": 35,
   "metadata": {},
   "outputs": [
    {
     "data": {
      "image/png": "[encoded data removed]",
      "text/plain": [
       "<Figure size 864x504 with 1 Axes>"
      ]
     },
     "execution_count": 35,
     "metadata": {
      "image/png": {
       "height": 411,
       "width": 713
      },
      "needs_background": "light"
     },
     "output_type": "execute_result"
    }
   ],
   "source": [
    "plt.plot(t, f3(t), label = \"f'\", linewidth=5.0)\n",
    "plt.plot(t, f4(t), label = \"s''\")\n",
    "plt.grid()\n",
    "plt.legend()\n",
    "plt.show()"
   ]
  }
 ],
 "metadata": {
  "colab": {
   "collapsed_sections": [],
   "name": "Численное дифференцирование (2) (2).ipynb",
   "provenance": []
  },
  "kernelspec": {
   "display_name": "Python 3 (ipykernel)",
   "language": "python",
   "name": "python3"
  },
  "language_info": {
   "codemirror_mode": {
    "name": "ipython",
    "version": 3
   },
   "file_extension": ".py",
   "mimetype": "text/x-python",
   "name": "python",
   "nbconvert_exporter": "python",
   "pygments_lexer": "ipython3",
   "version": "3.8.12"
  }
 },
 "nbformat": 4,
 "nbformat_minor": 4
}
