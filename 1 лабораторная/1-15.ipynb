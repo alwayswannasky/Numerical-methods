{
 "cells": [
  {
   "cell_type": "code",
   "execution_count": 246,
   "id": "59970a20-a3c7-4041-b33c-b568a31b3044",
   "metadata": {},
   "outputs": [],
   "source": [
    "import numpy as np"
   ]
  },
  {
   "cell_type": "code",
   "execution_count": 247,
   "id": "c2a30722-683e-43e2-86ef-19c5b679c7e3",
   "metadata": {},
   "outputs": [],
   "source": [
    "def create_matrix():\n",
    "    NN = 16\n",
    "    j = 1.5 + 0.1 * NN\n",
    "    k = j\n",
    "    l = k - 0.1\n",
    "    m = 1\n",
    "    n = 5\n",
    "    global a, b\n",
    "    \n",
    "    a = np.array([[j * m, 0.5 * j, 0, 0.2 * l, 0], \n",
    "                  [0.5 * j, j, 0.3 * j, 0, 0.1 * l], \n",
    "                  [0, 0.3 * j, 10, -0.3 * j, 0.5 *l], \n",
    "                  [0.2 * k, 0, -0.3 * j, j, -0.1 * j], \n",
    "                  [0, 0.1 * k, 0.5 * k, -0.1 * j, j * m]])\n",
    "    b = np.array([-j + 0.05 * j * j, \n",
    "                  -0.8 * j + 0.1 * j * j - 0.02 * l * j, \n",
    "                  -10 + 0.03 * j * j - 0.1 * l *j, \n",
    "                  -0.2 * k + 0.3 * j + 0.02 * j * j, \n",
    "                  0.01 * k * j - 0.5 * k - 0.2 * j * j])\n",
    "    "
   ]
  },
  {
   "cell_type": "code",
   "execution_count": 248,
   "id": "075e8a48-1187-4db7-af4e-ce833d342ca2",
   "metadata": {},
   "outputs": [],
   "source": [
    "def print_matrix():\n",
    "    for i in a:\n",
    "        print(i)\n",
    "    print('\\n')\n",
    "    print(b)"
   ]
  },
  {
   "cell_type": "code",
   "execution_count": 249,
   "id": "0643b659",
   "metadata": {},
   "outputs": [
    {
     "name": "stdout",
     "output_type": "stream",
     "text": [
      "[3.1  1.55 0.   0.6  0.  ]\n",
      "[1.55 3.1  0.93 0.   0.3 ]\n",
      "[ 0.    0.93 10.   -0.93  1.5 ]\n",
      "[ 0.62  0.   -0.93  3.1  -0.31]\n",
      "[ 0.    0.31  1.55 -0.31  3.1 ]\n",
      "\n",
      "\n",
      "[ -2.6195  -1.705  -10.6417   0.5022  -3.3759]\n"
     ]
    }
   ],
   "source": [
    "create_matrix()\n",
    "print_matrix()"
   ]
  },
  {
   "cell_type": "code",
   "execution_count": 250,
   "id": "c2a5c7fe",
   "metadata": {},
   "outputs": [],
   "source": [
    "linalg_solve = np.linalg.solve(a, b)"
   ]
  },
  {
   "cell_type": "markdown",
   "id": "13a93211-f561-471e-a070-ea922118a151",
   "metadata": {
    "tags": []
   },
   "source": [
    "# 1) Метод Гаусса"
   ]
  },
  {
   "cell_type": "markdown",
   "id": "e7df5695-2c8f-4179-85bb-8c9cb805fe97",
   "metadata": {},
   "source": [
    "Прямой ход"
   ]
  },
  {
   "cell_type": "code",
   "execution_count": 251,
   "id": "7fdb25e8-fa7a-48e3-a49a-ab8b4bb5cba5",
   "metadata": {},
   "outputs": [],
   "source": [
    "for k in range(n - 1):\n",
    "    for i in range(k + 1, n):\n",
    "        r = a[i][k] / a[k][k]\n",
    "        for j in range(k, n):\n",
    "            a[i][j] = a[i][j] - (r * a[k][j])\n",
    "        b[i] = b[i] - (r * b[k])"
   ]
  },
  {
   "cell_type": "code",
   "execution_count": 252,
   "id": "76128e62-9fb7-4629-aade-12708d49529a",
   "metadata": {},
   "outputs": [
    {
     "name": "stdout",
     "output_type": "stream",
     "text": [
      "3.1  1.55  0.0  0.6  0.0  \n",
      "\n",
      "0.0  2.33  0.93  -0.3  0.3  \n",
      "\n",
      "0.0  -0.0  9.63  -0.81  1.38  \n",
      "\n",
      "0.0  0.0  0.0  2.87  -0.15  \n",
      "\n",
      "0.0  -0.0  0.0  0.0  2.85  \n",
      "\n"
     ]
    },
    {
     "data": {
      "text/plain": [
       "array([ -2.6195    ,  -0.39525   , -10.4836    ,   0.09577416,\n",
       "        -1.76547452])"
      ]
     },
     "execution_count": 252,
     "metadata": {},
     "output_type": "execute_result"
    }
   ],
   "source": [
    "for i in range(n):\n",
    "    for j in range(n):\n",
    "        print(float('{:.2f}'.format(a[i][j])), end='  ')\n",
    "    print('\\n')\n",
    "b"
   ]
  },
  {
   "cell_type": "markdown",
   "id": "b43852ab-aea7-48ee-bfb9-3e361e3c36c4",
   "metadata": {},
   "source": [
    "Обратный ход"
   ]
  },
  {
   "cell_type": "code",
   "execution_count": 253,
   "id": "83ed381f-919f-4de6-8afb-620dde05998a",
   "metadata": {},
   "outputs": [],
   "source": [
    "array_1 = [1] * 5 # x\n",
    "for k in range(n - 1, -1, -1):\n",
    "    tmp = 0\n",
    "    for j in range(k + 1, n):\n",
    "        tmp += a[k][j] * array_1[j]\n",
    "    array_1[k] = ((b[k] - tmp) / a[k][k])"
   ]
  },
  {
   "cell_type": "code",
   "execution_count": 254,
   "id": "3ac11950-a7e8-43cd-905b-1ce0427ec4e9",
   "metadata": {},
   "outputs": [
    {
     "name": "stdout",
     "output_type": "stream",
     "text": [
      "-1.0  0.31  -1.0  0.0  -0.62  \n",
      "\n",
      "-1.0  0.31  -1.0  0.0  -0.62  "
     ]
    }
   ],
   "source": [
    "for i in range(n):\n",
    "    print(float('{:.10f}'.format(linalg_solve[i])), end='  ')\n",
    "print('\\n')\n",
    "for i in range(n):\n",
    "    print(float('{:.10f}'.format(array_1[i])), end='  ')"
   ]
  },
  {
   "cell_type": "markdown",
   "id": "5d2b7a06-062c-434f-8d91-817b431b4288",
   "metadata": {},
   "source": [
    "# 2) Метод Жордана–Гаусса"
   ]
  },
  {
   "cell_type": "code",
   "execution_count": 255,
   "id": "69cf89d2-aa1f-42bc-8cdb-99e08c3e9b95",
   "metadata": {},
   "outputs": [
    {
     "name": "stdout",
     "output_type": "stream",
     "text": [
      "[3.1  1.55 0.   0.6  0.  ]\n",
      "[1.55 3.1  0.93 0.   0.3 ]\n",
      "[ 0.    0.93 10.   -0.93  1.5 ]\n",
      "[ 0.62  0.   -0.93  3.1  -0.31]\n",
      "[ 0.    0.31  1.55 -0.31  3.1 ]\n",
      "\n",
      "\n",
      "[ -2.6195  -1.705  -10.6417   0.5022  -3.3759]\n"
     ]
    }
   ],
   "source": [
    "create_matrix()\n",
    "print_matrix()"
   ]
  },
  {
   "cell_type": "code",
   "execution_count": 256,
   "id": "9912cfa8",
   "metadata": {},
   "outputs": [],
   "source": [
    "for k in range(n - 1):\n",
    "    for i in range(k + 1, n):\n",
    "        r = a[i][k] / a[k][k]\n",
    "        for j in range(k, n):\n",
    "            a[i][j] = a[i][j] - (r * a[k][j])\n",
    "            a[j][i] = a[j][i] - (r * a[j][k])\n",
    "        b[i] = b[i] - (r * b[k])"
   ]
  },
  {
   "cell_type": "code",
   "execution_count": 257,
   "id": "c7c1feaa",
   "metadata": {},
   "outputs": [
    {
     "name": "stdout",
     "output_type": "stream",
     "text": [
      "3.1  0.0  0.0  -0.02  0.0  \n",
      "\n",
      "0.0  3.1  0.0  0.01  -0.01  \n",
      "\n",
      "0.0  0.0  10.0  -0.0  -0.05  \n",
      "\n",
      "0.0  0.0  0.0  3.1  -0.0  \n",
      "\n",
      "0.0  0.0  0.0  0.0  3.11  \n",
      "\n"
     ]
    },
    {
     "data": {
      "text/plain": [
       "array([ -2.6195    ,  -0.39525   , -10.523125  ,   0.10578944,\n",
       "        -1.79778531])"
      ]
     },
     "execution_count": 257,
     "metadata": {},
     "output_type": "execute_result"
    }
   ],
   "source": [
    "for i in range(n):\n",
    "    for j in range(n):\n",
    "        print(float('{:.2f}'.format(a[i][j])), end='  ')\n",
    "    print('\\n')\n",
    "b"
   ]
  },
  {
   "cell_type": "code",
   "execution_count": 258,
   "id": "a9a16fa0",
   "metadata": {},
   "outputs": [],
   "source": [
    "array_2 = [1] * 5 # x\n",
    "for i in range(n):\n",
    "    array_2[i] = (b[i]/a[i][i])"
   ]
  },
  {
   "cell_type": "code",
   "execution_count": 259,
   "id": "a5d13858",
   "metadata": {},
   "outputs": [
    {
     "name": "stdout",
     "output_type": "stream",
     "text": [
      "-1.0  0.31  -1.0  0.0  -0.62  \n",
      "\n",
      "-0.84  -0.13  -1.05  0.03  -0.58  "
     ]
    }
   ],
   "source": [
    "for i in range(n):\n",
    "    print(float('{:.2f}'.format(linalg_solve[i])), end='  ')\n",
    "print('\\n')\n",
    "for i in range(n):\n",
    "    print(float('{:.2f}'.format(array_2[i])), end='  ')"
   ]
  },
  {
   "cell_type": "markdown",
   "id": "3e618cce",
   "metadata": {},
   "source": [
    "# 3) Метод LU–разложения"
   ]
  },
  {
   "cell_type": "code",
   "execution_count": 260,
   "id": "ca6f4738",
   "metadata": {},
   "outputs": [],
   "source": [
    "from scipy.linalg import lu"
   ]
  },
  {
   "cell_type": "code",
   "execution_count": 261,
   "id": "d942d49d",
   "metadata": {},
   "outputs": [
    {
     "name": "stdout",
     "output_type": "stream",
     "text": [
      "[3.1  1.55 0.   0.6  0.  ]\n",
      "[1.55 3.1  0.93 0.   0.3 ]\n",
      "[ 0.    0.93 10.   -0.93  1.5 ]\n",
      "[ 0.62  0.   -0.93  3.1  -0.31]\n",
      "[ 0.    0.31  1.55 -0.31  3.1 ]\n",
      "\n",
      "\n",
      "[ -2.6195  -1.705  -10.6417   0.5022  -3.3759]\n"
     ]
    }
   ],
   "source": [
    "create_matrix()\n",
    "print_matrix()"
   ]
  },
  {
   "cell_type": "code",
   "execution_count": 262,
   "id": "b38d9005",
   "metadata": {},
   "outputs": [],
   "source": [
    "P,L,U = lu(a)"
   ]
  },
  {
   "cell_type": "code",
   "execution_count": 263,
   "id": "9334219d",
   "metadata": {},
   "outputs": [
    {
     "data": {
      "text/plain": [
       "(array([[1., 0., 0., 0., 0.],\n",
       "        [0., 1., 0., 0., 0.],\n",
       "        [0., 0., 1., 0., 0.],\n",
       "        [0., 0., 0., 1., 0.],\n",
       "        [0., 0., 0., 0., 1.]]),\n",
       " array([[ 1.        ,  0.        ,  0.        ,  0.        ,  0.        ],\n",
       "        [ 0.5       ,  1.        ,  0.        ,  0.        ,  0.        ],\n",
       "        [ 0.        ,  0.4       ,  1.        ,  0.        ,  0.        ],\n",
       "        [ 0.2       , -0.13333333, -0.08371417,  1.        ,  0.        ],\n",
       "        [ 0.        ,  0.13333333,  0.14810968, -0.05223578,  1.        ]]),\n",
       " array([[ 3.1       ,  1.55      ,  0.        ,  0.6       ,  0.        ],\n",
       "        [ 0.        ,  2.325     ,  0.93      , -0.3       ,  0.3       ],\n",
       "        [ 0.        ,  0.        ,  9.628     , -0.81      ,  1.38      ],\n",
       "        [ 0.        ,  0.        ,  0.        ,  2.87219152, -0.15447445],\n",
       "        [ 0.        ,  0.        ,  0.        ,  0.        ,  2.84753955]]))"
      ]
     },
     "execution_count": 263,
     "metadata": {},
     "output_type": "execute_result"
    }
   ],
   "source": [
    "P, L, U"
   ]
  },
  {
   "cell_type": "code",
   "execution_count": 264,
   "id": "c6ccb042",
   "metadata": {},
   "outputs": [],
   "source": [
    "# u\n",
    "for i in range(n):\n",
    "    for j in range(n):\n",
    "        tmp = 0\n",
    "        for k in range(i-1):\n",
    "            tmp += L[i][k]*U[k][j]\n",
    "        U[i][j] = a[i][j] - tmp"
   ]
  },
  {
   "cell_type": "code",
   "execution_count": 265,
   "id": "3bcf1d7c",
   "metadata": {},
   "outputs": [],
   "source": [
    "# l\n",
    "for i in range(n):\n",
    "    for j in range(n):\n",
    "        tmp = 0\n",
    "        for k in range(j-1):\n",
    "            tmp += L[i][k]*U[k][j]\n",
    "        L[i][j] = (a[i][j] - tmp)/U[j][j]"
   ]
  },
  {
   "cell_type": "code",
   "execution_count": 266,
   "id": "b25b2908",
   "metadata": {},
   "outputs": [],
   "source": [
    "array_3 = [1] * 5 # y\n",
    "for k in range(n):\n",
    "    tmp = 0\n",
    "    for j in range(k - 1):\n",
    "        tmp += L[k][j] * array_3[j]\n",
    "    array_3[k] = b[k] - tmp"
   ]
  },
  {
   "cell_type": "code",
   "execution_count": 267,
   "id": "a8faa962",
   "metadata": {},
   "outputs": [],
   "source": [
    "array_3_1 = [1] * 5 # x\n",
    "for k in range(n - 1, -1, -1):\n",
    "    tmp = 0\n",
    "    for j in range(k + 1, n):\n",
    "        tmp += U[k][j] * array_3_1[j]\n",
    "    array_3_1[k] = (array_3[k] - tmp)/U[k][k]"
   ]
  },
  {
   "cell_type": "code",
   "execution_count": 268,
   "id": "d7da24ae",
   "metadata": {},
   "outputs": [
    {
     "name": "stdout",
     "output_type": "stream",
     "text": [
      "-1.0  0.31  -1.0  0.0  -0.62  \n",
      "\n",
      "-0.8  -0.21  -0.95  0.29  -0.55  "
     ]
    }
   ],
   "source": [
    "for i in range(n):\n",
    "    print(float('{:.2f}'.format(linalg_solve[i])), end='  ')\n",
    "print('\\n')\n",
    "for i in range(n):\n",
    "    print(float('{:.2f}'.format(array_3_1[i])), end='  ')"
   ]
  },
  {
   "cell_type": "markdown",
   "id": "c82637ad",
   "metadata": {},
   "source": [
    "# 4) Метод квадратных корней"
   ]
  },
  {
   "cell_type": "code",
   "execution_count": 269,
   "id": "4a8d422b",
   "metadata": {},
   "outputs": [
    {
     "name": "stdout",
     "output_type": "stream",
     "text": [
      "[3.1  1.55 0.   0.6  0.  ]\n",
      "[1.55 3.1  0.93 0.   0.3 ]\n",
      "[ 0.    0.93 10.   -0.93  1.5 ]\n",
      "[ 0.62  0.   -0.93  3.1  -0.31]\n",
      "[ 0.    0.31  1.55 -0.31  3.1 ]\n",
      "\n",
      "\n",
      "[ -2.6195  -1.705  -10.6417   0.5022  -3.3759]\n"
     ]
    }
   ],
   "source": [
    "create_matrix()\n",
    "print_matrix()"
   ]
  },
  {
   "cell_type": "code",
   "execution_count": null,
   "id": "2d6708a9",
   "metadata": {},
   "outputs": [],
   "source": []
  }
 ],
 "metadata": {
  "kernelspec": {
   "display_name": "Python 3",
   "language": "python",
   "name": "python3"
  },
  "language_info": {
   "codemirror_mode": {
    "name": "ipython",
    "version": 3
   },
   "file_extension": ".py",
   "mimetype": "text/x-python",
   "name": "python",
   "nbconvert_exporter": "python",
   "pygments_lexer": "ipython3",
   "version": "3.8.2"
  }
 },
 "nbformat": 4,
 "nbformat_minor": 5
}
