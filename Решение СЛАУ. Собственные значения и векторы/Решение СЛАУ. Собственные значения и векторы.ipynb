{
 "cells": [
  {
   "cell_type": "code",
   "execution_count": 5,
   "id": "59970a20-a3c7-4041-b33c-b568a31b3044",
   "metadata": {},
   "outputs": [],
   "source": [
    "import numpy as np"
   ]
  },
  {
   "cell_type": "code",
   "execution_count": 6,
   "id": "075e8a48-1187-4db7-af4e-ce833d342ca2",
   "metadata": {},
   "outputs": [],
   "source": [
    "def print_matrix():\n",
    "    for i in a:\n",
    "        print(i)\n",
    "    print('\\n')\n",
    "    print(b)"
   ]
  },
  {
   "cell_type": "markdown",
   "id": "13a93211-f561-471e-a070-ea922118a151",
   "metadata": {
    "tags": []
   },
   "source": [
    "# 1) Метод Гаусса"
   ]
  },
  {
   "cell_type": "code",
   "execution_count": 159,
   "id": "40ea0373",
   "metadata": {},
   "outputs": [],
   "source": [
    "NN = 16\n",
    "j = 1.5 + 0.1 * NN\n",
    "k = j\n",
    "l = k - 0.1\n",
    "m = 1\n",
    "n = 5\n",
    "\n",
    "a = np.array([[j * m, 0.5 * j, 0, 0.2 * l, 0], \n",
    "              [0.5 * j, j, 0.3 * j, 0, 0.1 * l], \n",
    "              [0, 0.3 * j, 10, -0.3 * j, 0.5 *l], \n",
    "              [0.2 * k, 0, -0.3 * j, j, -0.1 * j], \n",
    "              [0, 0.1 * k, 0.5 * k, -0.1 * j, j * m]])\n",
    "b = np.array([-j + 0.05 * j * j, \n",
    "              -0.8 * j + 0.1 * j * j - 0.02 * l * j, \n",
    "              -10 + 0.03 * j * j - 0.1 * l *j, \n",
    "              -0.2 * k + 0.3 * j + 0.02 * j * j, \n",
    "              0.01 * k * j - 0.5 * k - 0.2 * j * j])\n",
    "linalg_solve = np.linalg.solve(a, b)"
   ]
  },
  {
   "cell_type": "markdown",
   "id": "e7df5695-2c8f-4179-85bb-8c9cb805fe97",
   "metadata": {},
   "source": [
    "Прямой ход"
   ]
  },
  {
   "cell_type": "code",
   "execution_count": 161,
   "id": "7fdb25e8-fa7a-48e3-a49a-ab8b4bb5cba5",
   "metadata": {},
   "outputs": [],
   "source": [
    "for k in range(n - 1):\n",
    "    for i in range(k + 1, n):\n",
    "        r = a[i][k] / a[k][k]\n",
    "        for j in range(k, n):\n",
    "            a[i][j] = a[i][j] - (r * a[k][j])\n",
    "        b[i] = b[i] - (r * b[k])"
   ]
  },
  {
   "cell_type": "code",
   "execution_count": 691,
   "id": "76128e62-9fb7-4629-aade-12708d49529a",
   "metadata": {},
   "outputs": [
    {
     "name": "stdout",
     "output_type": "stream",
     "text": [
      "3.1    1.55    0.0    3.2    0.0    \n",
      "\n",
      "1.55    3.1    0.93    0.0    1.6    \n",
      "\n",
      "0.0    0.93    10.0    -0.93    8.0    \n",
      "\n",
      "3.2    0.0    -0.93    3.1    -0.31    \n",
      "\n",
      "0.0    1.6    8.0    -0.31    3.1    \n",
      "\n"
     ]
    },
    {
     "data": {
      "text/plain": [
       "array([ -2.6195,  -2.511 , -14.6717,  -2.0778,  -9.426 ])"
      ]
     },
     "execution_count": 691,
     "metadata": {},
     "output_type": "execute_result"
    }
   ],
   "source": [
    "for i in range(n):\n",
    "    for j in range(n):\n",
    "        print(float('{:.2f}'.format(a[i][j])), end='    ')\n",
    "    print('\\n')\n",
    "b"
   ]
  },
  {
   "cell_type": "markdown",
   "id": "b43852ab-aea7-48ee-bfb9-3e361e3c36c4",
   "metadata": {},
   "source": [
    "Обратный ход"
   ]
  },
  {
   "cell_type": "code",
   "execution_count": 163,
   "id": "83ed381f-919f-4de6-8afb-620dde05998a",
   "metadata": {},
   "outputs": [],
   "source": [
    "array_1 = [1] * 5 # x\n",
    "for k in range(n - 1, -1, -1):\n",
    "    array_1[k] = ((b[k] - sum([a[k][j] * array_1[j] for j in range(k + 1, n)])) / a[k][k])"
   ]
  },
  {
   "cell_type": "code",
   "execution_count": 164,
   "id": "3ac11950-a7e8-43cd-905b-1ce0427ec4e9",
   "metadata": {},
   "outputs": [
    {
     "name": "stdout",
     "output_type": "stream",
     "text": [
      "-1.0  0.31  -1.0  0.0  -0.62  \n",
      "\n",
      "-1.0  0.31  -1.0  0.0  -0.62  "
     ]
    }
   ],
   "source": [
    "for i in range(n):\n",
    "    print(float('{:.10f}'.format(linalg_solve[i])), end='  ')\n",
    "print('\\n')\n",
    "for i in range(n):\n",
    "    print(float('{:.10f}'.format(array_1[i])), end='  ')"
   ]
  },
  {
   "cell_type": "markdown",
   "id": "74a84664",
   "metadata": {},
   "source": [
    "Определитель матрицы"
   ]
  },
  {
   "cell_type": "code",
   "execution_count": 233,
   "id": "e2f0f461",
   "metadata": {},
   "outputs": [
    {
     "name": "stdout",
     "output_type": "stream",
     "text": [
      "nan\n"
     ]
    }
   ],
   "source": [
    "det = 1\n",
    "for i in range(n):\n",
    "    for j in range(n):\n",
    "        if i == j:\n",
    "            det *= a[i][j]\n",
    "print(det)"
   ]
  },
  {
   "cell_type": "markdown",
   "id": "5d2b7a06-062c-434f-8d91-817b431b4288",
   "metadata": {},
   "source": [
    "# 2) Метод Жордана–Гаусса"
   ]
  },
  {
   "cell_type": "code",
   "execution_count": 386,
   "id": "69cf89d2-aa1f-42bc-8cdb-99e08c3e9b95",
   "metadata": {},
   "outputs": [],
   "source": [
    "NN = 16\n",
    "j = 1.5 + 0.1 * NN\n",
    "k = j\n",
    "l = k - 0.1\n",
    "m = 1\n",
    "n = 5\n",
    "\n",
    "a = np.array([[j * m, 0.5 * j, 0, 0.2 * l, 0], \n",
    "              [0.5 * j, j, 0.3 * j, 0, 0.1 * l], \n",
    "              [0, 0.3 * j, 10, -0.3 * j, 0.5 *l], \n",
    "              [0.2 * k, 0, -0.3 * j, j, -0.1 * j], \n",
    "              [0, 0.1 * k, 0.5 * k, -0.1 * j, j * m]])\n",
    "b = np.array([-j + 0.05 * j * j, \n",
    "              -0.8 * j + 0.1 * j * j - 0.02 * l * j, \n",
    "              -10 + 0.03 * j * j - 0.1 * l *j, \n",
    "              -0.2 * k + 0.3 * j + 0.02 * j * j, \n",
    "              0.01 * k * j - 0.5 * k - 0.2 * j * j])\n",
    "linalg_solve = np.linalg.solve(a, b)"
   ]
  },
  {
   "cell_type": "code",
   "execution_count": 387,
   "id": "c6600592",
   "metadata": {},
   "outputs": [
    {
     "name": "stdout",
     "output_type": "stream",
     "text": [
      "[3.1  1.55 0.   0.6  0.  ]\n",
      "[1.55 3.1  0.93 0.   0.3 ]\n",
      "[ 0.    0.93 10.   -0.93  1.5 ]\n",
      "[ 0.62  0.   -0.93  3.1  -0.31]\n",
      "[ 0.    0.31  1.55 -0.31  3.1 ]\n",
      "\n",
      "\n",
      "[ -2.6195  -1.705  -10.6417   0.5022  -3.3759]\n"
     ]
    }
   ],
   "source": [
    "print_matrix()"
   ]
  },
  {
   "cell_type": "code",
   "execution_count": 388,
   "id": "9912cfa8",
   "metadata": {},
   "outputs": [],
   "source": [
    "for k in range(n):\n",
    "    for i in range(n):\n",
    "        if i != k:\n",
    "            r = a[i][k] / a[k][k]\n",
    "            b[i] = b[i] - (r * b[k])\n",
    "            for j in range(k, n):\n",
    "                a[i][j] = a[i][j] - (r * a[k][j])"
   ]
  },
  {
   "cell_type": "code",
   "execution_count": 389,
   "id": "a9a16fa0",
   "metadata": {},
   "outputs": [],
   "source": [
    "array_2 = [1] * 5 # x\n",
    "for i in range(n):\n",
    "    array_2[i] = (b[i]/a[i][i])"
   ]
  },
  {
   "cell_type": "code",
   "execution_count": 390,
   "id": "a5d13858",
   "metadata": {},
   "outputs": [
    {
     "name": "stdout",
     "output_type": "stream",
     "text": [
      "-1.0  0.31  -1.0  0.0  -0.62  \n",
      "\n",
      "-1.0  0.31  -1.0  0.0  -0.62  "
     ]
    }
   ],
   "source": [
    "for i in range(n):\n",
    "    print(float('{:.5f}'.format(linalg_solve[i])), end='  ')\n",
    "print('\\n')\n",
    "for i in range(n):\n",
    "    print(float('{:.5f}'.format(array_2[i])), end='  ')"
   ]
  },
  {
   "cell_type": "markdown",
   "id": "3e618cce",
   "metadata": {},
   "source": [
    "# 3) Метод LU–разложения"
   ]
  },
  {
   "cell_type": "code",
   "execution_count": 391,
   "id": "d942d49d",
   "metadata": {},
   "outputs": [],
   "source": [
    "NN = 16\n",
    "j = 1.5 + 0.1 * NN\n",
    "k = j\n",
    "l = k - 0.1\n",
    "m = 1\n",
    "n = 5\n",
    "\n",
    "a = np.array([[j * m, 0.5 * j, 0, 0.2 * l, 0], \n",
    "              [0.5 * j, j, 0.3 * j, 0, 0.1 * l], \n",
    "              [0, 0.3 * j, 10, -0.3 * j, 0.5 *l], \n",
    "              [0.2 * k, 0, -0.3 * j, j, -0.1 * j], \n",
    "              [0, 0.1 * k, 0.5 * k, -0.1 * j, j * m]])\n",
    "b = np.array([-j + 0.05 * j * j, \n",
    "              -0.8 * j + 0.1 * j * j - 0.02 * l * j, \n",
    "              -10 + 0.03 * j * j - 0.1 * l *j, \n",
    "              -0.2 * k + 0.3 * j + 0.02 * j * j, \n",
    "              0.01 * k * j - 0.5 * k - 0.2 * j * j])\n",
    "linalg_solve = np.linalg.solve(a, b)"
   ]
  },
  {
   "cell_type": "code",
   "execution_count": 392,
   "id": "90528aaf",
   "metadata": {},
   "outputs": [
    {
     "name": "stdout",
     "output_type": "stream",
     "text": [
      "[3.1  1.55 0.   0.6  0.  ]\n",
      "[1.55 3.1  0.93 0.   0.3 ]\n",
      "[ 0.    0.93 10.   -0.93  1.5 ]\n",
      "[ 0.62  0.   -0.93  3.1  -0.31]\n",
      "[ 0.    0.31  1.55 -0.31  3.1 ]\n",
      "\n",
      "\n",
      "[ -2.6195  -1.705  -10.6417   0.5022  -3.3759]\n"
     ]
    }
   ],
   "source": [
    "print_matrix()"
   ]
  },
  {
   "cell_type": "code",
   "execution_count": 407,
   "id": "15c4a969-d16a-413a-a259-fac8a4b7581e",
   "metadata": {},
   "outputs": [],
   "source": [
    "L = np.eye(5)\n",
    "U = np.zeros((5, 5))"
   ]
  },
  {
   "cell_type": "code",
   "execution_count": 408,
   "id": "c6ccb042",
   "metadata": {},
   "outputs": [],
   "source": [
    "for i in range(n):\n",
    "    for j in range(n):\n",
    "        tmp = 0.0\n",
    "        # u\n",
    "        if i <= j:\n",
    "            U[i][j] = a[i][j] - sum([L[i][k]*U[k][j] for k in range(i)])\n",
    "        # l\n",
    "        else:\n",
    "            L[i][j] = (a[i][j] - sum([L[i][k]*U[k][j] for k in range(j)]))/U[j][j]"
   ]
  },
  {
   "cell_type": "code",
   "execution_count": 395,
   "id": "b25b2908",
   "metadata": {},
   "outputs": [],
   "source": [
    "array_3 = [1] * 5 # y\n",
    "for k in range(n):\n",
    "    array_3[k] = b[k] - sum([L[k][j] * array_3[j] for j in range(k)])"
   ]
  },
  {
   "cell_type": "code",
   "execution_count": 396,
   "id": "a8faa962",
   "metadata": {},
   "outputs": [],
   "source": [
    "array_3_1 = [1] * 5 # x\n",
    "for k in range(n - 1, -1, -1):\n",
    "    array_3_1[k] = (array_3[k] - sum([U[k][j] * array_3_1[j] for j in range(k + 1, n)]))/U[k][k]"
   ]
  },
  {
   "cell_type": "code",
   "execution_count": 397,
   "id": "d7da24ae",
   "metadata": {},
   "outputs": [
    {
     "name": "stdout",
     "output_type": "stream",
     "text": [
      "-1.0  0.31  -1.0  0.0  -0.62  \n",
      "\n",
      "-1.0  0.31  -1.0  -0.0  -0.62  "
     ]
    }
   ],
   "source": [
    "for i in range(n):\n",
    "    print(float('{:.5f}'.format(linalg_solve[i])), end='  ')\n",
    "print('\\n')\n",
    "for i in range(n):\n",
    "    print(float('{:.5f}'.format(array_3_1[i])), end='  ')"
   ]
  },
  {
   "cell_type": "markdown",
   "id": "24ab24ef",
   "metadata": {},
   "source": [
    "Определитель матрицы"
   ]
  },
  {
   "cell_type": "code",
   "execution_count": 398,
   "id": "cc6d813c",
   "metadata": {},
   "outputs": [
    {
     "name": "stdout",
     "output_type": "stream",
     "text": [
      "567.5496936075001\n"
     ]
    }
   ],
   "source": [
    "det = 1\n",
    "for i in range(n):\n",
    "    for j in range(n):\n",
    "        if i == j:\n",
    "            det *= U[i][j]\n",
    "print(det)"
   ]
  }
 ],
 "metadata": {
  "kernelspec": {
   "display_name": "Python 3",
   "language": "python",
   "name": "python3"
  },
  "language_info": {
   "codemirror_mode": {
    "name": "ipython",
    "version": 3
   },
   "file_extension": ".py",
   "mimetype": "text/x-python",
   "name": "python",
   "nbconvert_exporter": "python",
   "pygments_lexer": "ipython3",
   "version": "3.8.2"
  }
 },
 "nbformat": 4,
 "nbformat_minor": 5
}
